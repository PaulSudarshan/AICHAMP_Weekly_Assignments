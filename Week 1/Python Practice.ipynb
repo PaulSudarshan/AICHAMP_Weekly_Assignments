{
 "cells": [
  {
   "cell_type": "markdown",
   "metadata": {},
   "source": [
    "### 1. Write a c program to check given number is perfect number or not.\n",
    "#### A number is a perfect number if is equal to sum of its proper divisors, that is, sum of its positive divisors excluding the number itself. Write a function to check if a given number is perfect or not."
   ]
  },
  {
   "cell_type": "code",
   "execution_count": 5,
   "metadata": {},
   "outputs": [
    {
     "name": "stdout",
     "output_type": "stream",
     "text": [
      "8128\n",
      "Perfect Number\n"
     ]
    }
   ],
   "source": [
    "n = int(input())\n",
    "sum=0\n",
    "for i in range(1,n-1):\n",
    "    if n%i==0:\n",
    "        sum+=i\n",
    "if sum==n:\n",
    "    print('Perfect Number')\n",
    "else:\n",
    "    print('Not Perfect Number')"
   ]
  },
  {
   "cell_type": "markdown",
   "metadata": {},
   "source": [
    "### 2. Write a c program to check given number is Armstrong number or not.\n",
    "#### The sum of cubes of each digit is equal to the number itself. For example: 153 = 1*1*1 + 5*5*5 + 3*3*3 // 153 is an Armstrong number."
   ]
  },
  {
   "cell_type": "code",
   "execution_count": 10,
   "metadata": {},
   "outputs": [
    {
     "name": "stdout",
     "output_type": "stream",
     "text": [
      "153\n",
      "Armstrong\n"
     ]
    }
   ],
   "source": [
    "n = int(input())\n",
    "res=0\n",
    "com = n\n",
    "while com!=0:\n",
    "    a = int(com%10)\n",
    "    res = res+ a*a*a\n",
    "    com = int(com/10)\n",
    "if res == n:\n",
    "    print('Armstrong')\n",
    "else:\n",
    "    print('Not')"
   ]
  },
  {
   "cell_type": "markdown",
   "metadata": {},
   "source": [
    "### 3. Write a c program to check given number is prime number or not."
   ]
  },
  {
   "cell_type": "code",
   "execution_count": 31,
   "metadata": {},
   "outputs": [
    {
     "name": "stdout",
     "output_type": "stream",
     "text": [
      "7\n"
     ]
    },
    {
     "data": {
      "text/plain": [
       "'Prime'"
      ]
     },
     "execution_count": 31,
     "metadata": {},
     "output_type": "execute_result"
    }
   ],
   "source": [
    "import math\n",
    "n =int(input())\n",
    "\n",
    "def prime_check(n):\n",
    "    if n>1:\n",
    "        for i in range(2,math.ceil(math.sqrt(n))): # usng ceil function\n",
    "            if n%i==0:\n",
    "                return 'Not Prime'\n",
    "                break\n",
    "        else:\n",
    "            return 'Prime'\n",
    "    else:\n",
    "        return 'Not Prime' # Since 1 is not prime\n",
    "prime_check(n)\n",
    "    "
   ]
  },
  {
   "cell_type": "markdown",
   "metadata": {},
   "source": [
    "### 4. Write a c program to check given number is strong number or not.\n",
    "#### A Strong Number is a number that is equal to the sum of factorial of its digits."
   ]
  },
  {
   "cell_type": "code",
   "execution_count": 40,
   "metadata": {},
   "outputs": [
    {
     "name": "stdout",
     "output_type": "stream",
     "text": [
      "145\n"
     ]
    },
    {
     "data": {
      "text/plain": [
       "'Strong'"
      ]
     },
     "execution_count": 40,
     "metadata": {},
     "output_type": "execute_result"
    }
   ],
   "source": [
    "def fact(n):\n",
    "    if n==1:\n",
    "        return 1\n",
    "    return n*fact(n-1)\n",
    "\n",
    "def strong_number(n):\n",
    "    res=0\n",
    "    com=n\n",
    "    while com!=0:\n",
    "        a = int(com%10)\n",
    "        res += fact(a)\n",
    "        com=int(com/10)\n",
    "    if res==n:\n",
    "        return 'Strong'\n",
    "    else:\n",
    "        return 'Not Strong'\n",
    "\n",
    "\n",
    "n = int(input())\n",
    "\n",
    "strong_number(n)"
   ]
  },
  {
   "cell_type": "markdown",
   "metadata": {},
   "source": [
    "### Write a c program to check given number is palindrome number or not."
   ]
  },
  {
   "cell_type": "code",
   "execution_count": 45,
   "metadata": {},
   "outputs": [
    {
     "name": "stdout",
     "output_type": "stream",
     "text": [
      "53135\n"
     ]
    },
    {
     "data": {
      "text/plain": [
       "'Palindrome'"
      ]
     },
     "execution_count": 45,
     "metadata": {},
     "output_type": "execute_result"
    }
   ],
   "source": [
    "def palindrome(n):\n",
    "    com=n\n",
    "    res=0\n",
    "    while com!=0:\n",
    "        a = int(com%10)\n",
    "        res = res*10 +a\n",
    "        com=int(com/10)\n",
    "    if res==n:\n",
    "        return 'Palindrome'\n",
    "    else:\n",
    "        return 'No'\n",
    "n=int(input())\n",
    "palindrome(n)"
   ]
  },
  {
   "cell_type": "markdown",
   "metadata": {},
   "source": [
    "### 7. Write a c program to solve quadratic equation.\n",
    "### If b*b - 4*a*c>0, then roots are real\n",
    "### If b*b - 4*a*c==0, then roots are real\n",
    "### If b*b - 4*a*c<0, then roots are complex"
   ]
  },
  {
   "cell_type": "code",
   "execution_count": 51,
   "metadata": {},
   "outputs": [
    {
     "name": "stdout",
     "output_type": "stream",
     "text": [
      "1\n",
      "1\n",
      "1\n",
      "real and different roots\n",
      "0.3660254037844386 -1.3660254037844386\n"
     ]
    }
   ],
   "source": [
    "import math\n",
    "a=int(input())\n",
    "b=int(input())\n",
    "c=int(input())\n",
    "dis = math.sqrt(abs(b*b - 4*a*c))\n",
    "\n",
    "if dis>0:\n",
    "    print('real and different roots')\n",
    "    print((-b + dis)/2*a,end=' ')\n",
    "    print((-b - dis)/2*a)\n",
    "elif dis==0:\n",
    "    print('real and same roots')\n",
    "    print((-b)/2*a,end=' ')\n",
    "    print((-b)/2*a)\n",
    "else:\n",
    "    print((-b)/2*a,'+i',dis)\n",
    "    print((-b)/2*a,'-i',dis)"
   ]
  },
  {
   "cell_type": "markdown",
   "metadata": {},
   "source": [
    "### 8. Write a c program to print Fibonacci series of given range."
   ]
  },
  {
   "cell_type": "code",
   "execution_count": 54,
   "metadata": {},
   "outputs": [
    {
     "name": "stdout",
     "output_type": "stream",
     "text": [
      "9\n"
     ]
    },
    {
     "data": {
      "text/plain": [
       "21"
      ]
     },
     "execution_count": 54,
     "metadata": {},
     "output_type": "execute_result"
    }
   ],
   "source": [
    "n=int(input())\n",
    "def fibonacci(n):\n",
    "    a=-1\n",
    "    b=1\n",
    "    c=0\n",
    "    for i in range(n):\n",
    "        c=a+b\n",
    "        if i==range(n)[-1]: # Since we need the nth fibonacci element\n",
    "            return c\n",
    "        a=b\n",
    "        b=c\n",
    "fibonacci(n)"
   ]
  },
  {
   "cell_type": "markdown",
   "metadata": {},
   "source": [
    "### Write a c program to find out power of number."
   ]
  },
  {
   "cell_type": "code",
   "execution_count": 56,
   "metadata": {},
   "outputs": [
    {
     "name": "stdout",
     "output_type": "stream",
     "text": [
      "2\n",
      "10\n",
      "1024\n"
     ]
    }
   ],
   "source": [
    "base = int(input())\n",
    "power = int(input())\n",
    "res=1\n",
    "for i in range(power):\n",
    "    res=res*base\n",
    "print(res)"
   ]
  },
  {
   "cell_type": "markdown",
   "metadata": {},
   "source": [
    "### Write a program to add two numbers without using addition operator."
   ]
  },
  {
   "cell_type": "code",
   "execution_count": 59,
   "metadata": {},
   "outputs": [
    {
     "data": {
      "text/plain": [
       "58"
      ]
     },
     "execution_count": 59,
     "metadata": {},
     "output_type": "execute_result"
    }
   ],
   "source": [
    "def add(x,y):\n",
    "    while y!=0:\n",
    "        carry = x&y #carry bit\n",
    "        x=x^y #adding bits (half adder)\n",
    "        y=carry<<1 # carry shifted by 1 so that adding it to x gives the sum\n",
    "    return x\n",
    "add(35,23)"
   ]
  },
  {
   "cell_type": "markdown",
   "metadata": {},
   "source": [
    "### Write a program to subtract two numbers without using subtraction operator.\n",
    "### Diff   = y ⊕ x\n",
    "### Borrow = x' . y "
   ]
  },
  {
   "cell_type": "code",
   "execution_count": 64,
   "metadata": {},
   "outputs": [
    {
     "data": {
      "text/plain": [
       "12"
      ]
     },
     "execution_count": 64,
     "metadata": {},
     "output_type": "execute_result"
    }
   ],
   "source": [
    "def subtract(x,y):\n",
    "    while y!=0:\n",
    "        borrow = (~x)&y #carry bit\n",
    "        x = x^y #diff bits (half subtractor)\n",
    "        y = borrow<<1 # carry shifted by 1 so that adding it to x gives the sum\n",
    "    return x\n",
    "subtract(35,23)"
   ]
  },
  {
   "cell_type": "code",
   "execution_count": 82,
   "metadata": {},
   "outputs": [
    {
     "data": {
      "text/plain": [
       "True"
      ]
     },
     "execution_count": 82,
     "metadata": {},
     "output_type": "execute_result"
    }
   ],
   "source": [
    "def perfect_square(n):\n",
    "    sqrt = math.sqrt(n)\n",
    "    if int((sqrt+0.5))**2 == n:\n",
    "        return True\n",
    "    else:\n",
    "        return False\n",
    "perfect_square(25)"
   ]
  },
  {
   "cell_type": "markdown",
   "metadata": {},
   "source": [
    "### Largest Prime Factor for a Number"
   ]
  },
  {
   "cell_type": "code",
   "execution_count": 96,
   "metadata": {},
   "outputs": [
    {
     "name": "stdout",
     "output_type": "stream",
     "text": [
      "328513\n",
      "5\n"
     ]
    }
   ],
   "source": [
    "def prime_factors(n):\n",
    "    \n",
    "    res=[]\n",
    "    #Keep on dividing by 2\n",
    "    while n%2==0:\n",
    "        if 2 not in res:\n",
    "            res.append(2)\n",
    "        n=n/2\n",
    "#      n must be odd at this point. So we can skip one element (Note i = i +2)\n",
    "    for i in range(3,int(math.sqrt(n))+1, 2):\n",
    "        while n%i==0:\n",
    "            res.append(int(i))\n",
    "            n=n/i\n",
    "            \n",
    "    # This condition is to handle the case when n is a prime number greater than 2\n",
    "    if n>2:\n",
    "        res.append(int(n))\n",
    "    return res\n",
    "\n",
    "print(max(prime_factors(25698751364526)))\n",
    "print(max(prime_factors(15)))"
   ]
  },
  {
   "cell_type": "markdown",
   "metadata": {},
   "source": [
    "## LCM"
   ]
  },
  {
   "cell_type": "code",
   "execution_count": 99,
   "metadata": {},
   "outputs": [
    {
     "data": {
      "text/plain": [
       "60"
      ]
     },
     "execution_count": 99,
     "metadata": {},
     "output_type": "execute_result"
    }
   ],
   "source": [
    "def lcm(x,y):\n",
    "    greater = max(x,y)\n",
    "    while True:\n",
    "        if greater%x==0 and greater%y==0:\n",
    "            lcm=greater\n",
    "            break\n",
    "        greater+=1\n",
    "    return lcm\n",
    "\n",
    "lcm(12,20)\n",
    "        "
   ]
  },
  {
   "cell_type": "markdown",
   "metadata": {},
   "source": [
    "## HCF"
   ]
  },
  {
   "cell_type": "code",
   "execution_count": 100,
   "metadata": {},
   "outputs": [
    {
     "data": {
      "text/plain": [
       "6"
      ]
     },
     "execution_count": 100,
     "metadata": {},
     "output_type": "execute_result"
    }
   ],
   "source": [
    "def hcf(x,y):\n",
    "    smaller = min(x,y)\n",
    "    for i in range(1,smaller+1):\n",
    "        if x%i==0 and y%i==0:\n",
    "            hcf=i\n",
    "    return hcf\n",
    "hcf(24,54)\n",
    "            "
   ]
  },
  {
   "cell_type": "markdown",
   "metadata": {},
   "source": [
    "## Swapping without third variable"
   ]
  },
  {
   "cell_type": "code",
   "execution_count": 103,
   "metadata": {},
   "outputs": [
    {
     "data": {
      "text/plain": [
       "(4, 5)"
      ]
     },
     "execution_count": 103,
     "metadata": {},
     "output_type": "execute_result"
    }
   ],
   "source": [
    "def swap(x,y):\n",
    "    x=x+y\n",
    "    y=x-y\n",
    "    x=x-y\n",
    "    return x,y\n",
    "swap(5,4)"
   ]
  },
  {
   "cell_type": "markdown",
   "metadata": {},
   "source": [
    "### Roman Number Generator"
   ]
  },
  {
   "cell_type": "code",
   "execution_count": 102,
   "metadata": {},
   "outputs": [
    {
     "name": "stdout",
     "output_type": "stream",
     "text": [
      "XV\n"
     ]
    }
   ],
   "source": [
    "# -*- coding: utf-8 -*-\n",
    "\"\"\"\n",
    "\n",
    "Explanation:\n",
    "\n",
    "Step 1\n",
    "Initially number = 3549\n",
    "Since 3549 >= 1000 ; largest base value will be 1000 initially.\n",
    "Divide 3549/1000. Quotient = 3, Remainder =549. The corresponding symbol M will be repeated thrice.\n",
    "Step 2\n",
    "\n",
    "Now, number = 549\n",
    "1000 > 549 >= 500 ; largest base value will be 500.\n",
    "Divide 549/500. Quotient = 1, Remainder =49. The corresponding symbol D will be repeated once.\n",
    "Step 3\n",
    "\n",
    "Now, number = 49\n",
    "50 > 49 >= 40 ; largest base value is 40.\n",
    "Divide 49/40. Quotient = 1, Remainder = 9. The corresponding symbol XL will be repeated once.\n",
    "Step 4\n",
    "\n",
    "Now, number = 9\n",
    "10> 9 >= 9 ; largest base value is 9.\n",
    "Divide 9/9. Quotient = 1, Remainder = 0. The corresponding symbol IX will be repeated once.\n",
    "Step 5\n",
    "\n",
    "Finally number becomes 0, algorithm stops here.\n",
    "Output obtained MMMDXLIX.\n",
    "\"\"\"\n",
    "\n",
    "def printRoman(number): \n",
    "    num = [1, 4, 5, 9, 10, 40, 50, 90,  \n",
    "           100, 400, 500, 900, 1000] \n",
    "    sym = [\"I\", \"IV\", \"V\", \"IX\", \"X\", \"XL\",  \n",
    "           \"L\", \"XC\", \"C\", \"CD\", \"D\", \"CM\", \"M\"] \n",
    "    res=list()\n",
    "    i = 12\n",
    "    while number: \n",
    "        div = number // num[i] \n",
    "        number %= num[i] \n",
    "  \n",
    "        for k in range(0,div): \n",
    "            res.append(sym[i]) \n",
    "            \n",
    "        i -= 1\n",
    "    return ''.join(res)\n",
    "\n",
    "print(printRoman(15))"
   ]
  },
  {
   "cell_type": "markdown",
   "metadata": {},
   "source": [
    "### Check if a number can be written as a sum of ‘k’ prime numbers (GOLDBACH's CONJECTURE)"
   ]
  },
  {
   "cell_type": "code",
   "execution_count": 104,
   "metadata": {},
   "outputs": [
    {
     "name": "stdout",
     "output_type": "stream",
     "text": [
      "Yes\n"
     ]
    }
   ],
   "source": [
    "def primecheck(num):\n",
    "    if num==1:\n",
    "        return 'No'\n",
    "    for i in range(2,num):\n",
    "        if num%i==0:\n",
    "            return 'No' \n",
    "    else:\n",
    "        return 'Yes'\n",
    "\n",
    "def solve(n, k):\n",
    "    \n",
    "    if(n<2*k):                  # N < 2K directly return false\n",
    "        return \"No\"\n",
    "    \n",
    "    if(k==1):    # If K = 1 return value depends on primality of N\n",
    "        return primecheck(n)\n",
    "    \n",
    "    if k==2:   \n",
    "        if n%2==0:     # For k==2 if N is even directly return true; THIS IS GOLDBACH CONJECTURE (even and k==2) \n",
    "            return \"Yes\"\n",
    "    \n",
    "        return primecheck(n-2) # else If N is odd, then one prime must be 2 so checking if the other is prime too. \n",
    "                                 \n",
    "    return 'Yes' # If K >= 3 return true;\n",
    "                                 \n",
    "        \n",
    "print(solve(7,2))"
   ]
  },
  {
   "cell_type": "markdown",
   "metadata": {},
   "source": [
    "## List To Matrix"
   ]
  },
  {
   "cell_type": "code",
   "execution_count": 110,
   "metadata": {},
   "outputs": [
    {
     "name": "stdout",
     "output_type": "stream",
     "text": [
      "[[1, 2, 3, 4], [5, 6, 7, 8], [9, 10, 11, 12]]\n",
      "[[1, 2, 3, 4, 5, 6], [7, 8, 9, 10, 11, 12]]\n",
      "[[1, 2], [3, 4], [5, 6], [7, 8], [9, 10], [11, 12]]\n"
     ]
    }
   ],
   "source": [
    "def reshape(the_list, r, c): \n",
    "    \"\"\"Reshape the 1D list into a m row x n column list\"\"\" \n",
    "    if r*c != len(the_list): \n",
    "        raise ValueError('Invalid new shape')  \n",
    "    return [the_list[tr*c:(tr+1)*c] for tr in range(0,r)]\n",
    "    \n",
    "print(reshape([1,2,3,4,5,6,7,8,9,10,11,12],3,4))\n",
    "print(reshape([1,2,3,4,5,6,7,8,9,10,11,12],2,6))\n",
    "print(reshape([1,2,3,4,5,6,7,8,9,10,11,12],6,2))"
   ]
  },
  {
   "cell_type": "markdown",
   "metadata": {},
   "source": [
    "## Substrings"
   ]
  },
  {
   "cell_type": "code",
   "execution_count": 117,
   "metadata": {},
   "outputs": [
    {
     "data": {
      "text/plain": [
       "['G',\n",
       " 'GE',\n",
       " 'GEE',\n",
       " 'GEEK',\n",
       " 'GEEKS',\n",
       " 'E',\n",
       " 'EE',\n",
       " 'EEK',\n",
       " 'EEKS',\n",
       " 'E',\n",
       " 'EK',\n",
       " 'EKS',\n",
       " 'K',\n",
       " 'KS',\n",
       " 'S']"
      ]
     },
     "execution_count": 117,
     "metadata": {},
     "output_type": "execute_result"
    }
   ],
   "source": [
    "from itertools import combinations \n",
    "\n",
    "def substrings(string):\n",
    "\n",
    "    # Get all substrings of string \n",
    "    # Using itertools.combinations() \n",
    "    res = [string[x:y] for x, y in combinations(range(len(string) + 1), r = 2)] \n",
    "    return res\n",
    "  \n",
    "substrings('GEEKS')"
   ]
  },
  {
   "cell_type": "markdown",
   "metadata": {},
   "source": [
    "## Number of days between two dates"
   ]
  },
  {
   "cell_type": "code",
   "execution_count": 125,
   "metadata": {},
   "outputs": [
    {
     "name": "stdout",
     "output_type": "stream",
     "text": [
      "1 2 2000\n",
      "1 2 2004\n",
      "1461\n"
     ]
    }
   ],
   "source": [
    "first_date = list(map(int,input().strip().split()))[:3]\n",
    "last_date = list(map(int,input().strip().split()))[:3]\n",
    "\n",
    "''''\n",
    "count number of days before first_date\n",
    "n1 = year*365 + month(days) + days + numberOfLeapYears\n",
    "\n",
    "Count of leap years for a date 'd/m/y' can be calculated \n",
    "using following formula:\n",
    "Number leap years \n",
    "             = floor(y/4) - floor(y/100) + floor(y/400) if m > 2\n",
    "             = floor((y-1)/4) - floor((y-1)/100) + floor((y-1)/400) if m <= 2\n",
    "'''\n",
    "\n",
    "def find_Total_Leap_years(date):\n",
    "    if date[1]<=2: # for given dates with months lesser than february\n",
    "        date[2] = date[2]-1\n",
    "    return int(date[2]/4) -int(date[2]/100) + int(date[2]/400)\n",
    "    \n",
    "days_month_dict = {1:31, 2:28, 3:31, 4:30, 5:31, 6:30,  \n",
    "                    7:31, 8:31, 9:30, 10:31, 11:30, 12:31 }\n",
    "\n",
    "n1 = first_date[2]*365 + days_month_dict[first_date[1]] + first_date[0] + find_Total_Leap_years(first_date)\n",
    "n2 = last_date[2]*365 + days_month_dict[last_date[1]] + last_date[0] + find_Total_Leap_years(last_date)\n",
    "\n",
    "print(n2-n1)\n",
    "\n"
   ]
  },
  {
   "cell_type": "code",
   "execution_count": null,
   "metadata": {},
   "outputs": [],
   "source": []
  }
 ],
 "metadata": {
  "kernelspec": {
   "display_name": "Python 3",
   "language": "python",
   "name": "python3"
  },
  "language_info": {
   "codemirror_mode": {
    "name": "ipython",
    "version": 3
   },
   "file_extension": ".py",
   "mimetype": "text/x-python",
   "name": "python",
   "nbconvert_exporter": "python",
   "pygments_lexer": "ipython3",
   "version": "3.8.3"
  }
 },
 "nbformat": 4,
 "nbformat_minor": 4
}
