{
 "cells": [
  {
   "cell_type": "code",
   "execution_count": 1,
   "metadata": {},
   "outputs": [
    {
     "data": {
      "text/plain": [
       "{1: 'a', 2: 'b', 3: 'c', 4: 'd'}"
      ]
     },
     "execution_count": 1,
     "metadata": {},
     "output_type": "execute_result"
    }
   ],
   "source": [
    "# Two lists to dictionary using dictionary comprehension\n",
    "a = [1,2,3,4,] \n",
    "b = ['a' ,'b','c','d']\n",
    "d = {i:j for (i,j) in zip(a,b)}\n",
    "d"
   ]
  },
  {
   "cell_type": "code",
   "execution_count": 12,
   "metadata": {},
   "outputs": [
    {
     "data": {
      "text/plain": [
       "{1: 2, 3: 4, 5: 6, 7: 8}"
      ]
     },
     "execution_count": 12,
     "metadata": {},
     "output_type": "execute_result"
    }
   ],
   "source": [
    "# One list to dictionary using dictionary comprehension\n",
    "a=[1,2,3,4,5,6,7,8]\n",
    "d = {a[i]:a[i+1] for i in range(0,len(a),2)}\n",
    "d"
   ]
  },
  {
   "cell_type": "code",
   "execution_count": 13,
   "metadata": {},
   "outputs": [],
   "source": [
    "# Can we create a set of lists?\n",
    "# team_1 = [hero, guide]\n",
    "# team_2 = [enemy]\n",
    "# teams = {team_1, team_2}\n",
    "# # TypeError: unhashable type: 'list'\n",
    "# Listing 1-8: The set data type allows for only hashable elements.\n",
    "# You can create a set of strings because strings are hashable.\n",
    "# But you cannot create a set of lists, because lists are\n",
    "# unhashable. The reason is that the hash value depends on the\n",
    "# content of the item, and lists are mutable; if you change the list\n",
    "# data type, the hash value must change too. Because mutable\n",
    "# data types are not hashable, you cannot use them in sets."
   ]
  },
  {
   "cell_type": "code",
   "execution_count": 14,
   "metadata": {},
   "outputs": [
    {
     "data": {
      "text/plain": [
       "[('Alice', 100000), ('Carol', 122908)]"
      ]
     },
     "execution_count": 14,
     "metadata": {},
     "output_type": "execute_result"
    }
   ],
   "source": [
    "employees = {'Alice' : 100000,\n",
    "'Bob' : 99817,\n",
    "'Carol' : 122908,\n",
    "'Frank' : 88123,\n",
    "'Eve' : 93121}\n",
    "## One-Liner\n",
    "top_earners = [(k, v) for k, v in employees.items() if v >= 100000]\n",
    "top_earners"
   ]
  },
  {
   "cell_type": "code",
   "execution_count": 15,
   "metadata": {},
   "outputs": [
    {
     "name": "stdout",
     "output_type": "stream",
     "text": [
      "[[], ['Call', 'Ishmael.', 'Some', 'years', 'never', 'mind', 'long', 'precisely', 'having'], ['little', 'money', 'purse,', 'nothing', 'particular', 'interest'], ['shore,', 'thought', 'would', 'sail', 'about', 'little', 'watery', 'part'], ['world.', 'have', 'driving', 'spleen,', 'regulating'], ['circulation.', 'Moby', 'Dick']]\n"
     ]
    }
   ],
   "source": [
    "## Data\n",
    "text = '''\n",
    "Call me Ishmael. Some years ago - never mind how long precisely - having\n",
    "little or no money in my purse, and nothing particular to interest me\n",
    "on shore, I thought I would sail about a little and see the watery part\n",
    "of the world. It is a way I have of driving off the spleen, and regulating\n",
    "the circulation. - Moby Dick'''\n",
    "## One-Liner\n",
    "w = [[x for x in line.split() if len(x)>3] for line in text.split('\\n')]\n",
    "## Result\n",
    "print(w)"
   ]
  },
  {
   "cell_type": "code",
   "execution_count": 24,
   "metadata": {},
   "outputs": [
    {
     "name": "stdout",
     "output_type": "stream",
     "text": [
      "[(True, 'lambda functions are anonymous functions.'), (True, 'anonymous functions dont have a name.'), (False, 'functions are objects in Python.')]\n",
      "[(True, 'lambda functions are anonymous functions.'), (True, 'anonymous functions dont have a name.'), (False, 'functions are objects in Python.')]\n"
     ]
    }
   ],
   "source": [
    "## Data\n",
    "txt = ['lambda functions are anonymous functions.',\n",
    "'anonymous functions dont have a name.',\n",
    "'functions are objects in Python.']\n",
    "## One-Liner\n",
    "mark = map(lambda s: (True, s) if 'anonymous' in s else (False, s), txt) # using map function\n",
    "mark_ = [(True, s) if 'anonymous' in s else (False, s) for s in txt] # using List Comprehension\n",
    "## Result\n",
    "print(list(mark))\n",
    "print (mark_)"
   ]
  },
  {
   "cell_type": "code",
   "execution_count": 4,
   "metadata": {},
   "outputs": [
    {
     "name": "stdout",
     "output_type": "stream",
     "text": [
      "Dave\n",
      "dave@example.com\n",
      "['773-555-1212', '847-555-1212']\n"
     ]
    }
   ],
   "source": [
    "# You need to unpack N elements from an iterable, but the iterable may be longer than N\n",
    "# elements, causing a “too many values to unpack” exception.\n",
    "\n",
    "user_record = ('Dave', 'dave@example.com', '773-555-1212', '847-555-1212')\n",
    "name, email, *phone_numbers = user_record\n",
    "\n",
    "print(name)\n",
    "print(email)\n",
    "print(phone_numbers) # *expression will always give list (even if empty)"
   ]
  },
  {
   "cell_type": "code",
   "execution_count": 5,
   "metadata": {},
   "outputs": [
    {
     "name": "stdout",
     "output_type": "stream",
     "text": [
      "ACME\n",
      "2012\n"
     ]
    }
   ],
   "source": [
    "record = ('ACME', 50, 123.45, (12, 18, 2012))\n",
    "name, *_, (*_, year) = record\n",
    "print(name)\n",
    "print(year)"
   ]
  },
  {
   "cell_type": "code",
   "execution_count": 9,
   "metadata": {},
   "outputs": [
    {
     "name": "stdout",
     "output_type": "stream",
     "text": [
      "defaultdict(<class 'list'>, {'a': [1, 2], 'b': [4]})\n",
      "defaultdict(<class 'set'>, {'a': {1, 2}, 'b': {4}})\n"
     ]
    }
   ],
   "source": [
    "# You want to make a dictionary that maps keys to more than one value (a so-called\n",
    "# “multidict”).\n",
    "from collections import defaultdict\n",
    "dict_list = defaultdict(list)\n",
    "dict_list['a'].append(1)\n",
    "dict_list['a'].append(2)\n",
    "dict_list['b'].append(4)\n",
    "\n",
    "dict_set = defaultdict(set)\n",
    "dict_set['a'].add(1)\n",
    "dict_set['a'].add(2)\n",
    "dict_set['b'].add(4)\n",
    "\n",
    "print(dict_list)\n",
    "print(dict_set)\n"
   ]
  },
  {
   "cell_type": "code",
   "execution_count": 11,
   "metadata": {},
   "outputs": [
    {
     "name": "stdout",
     "output_type": "stream",
     "text": [
      "foo 1\n",
      "bar 2\n",
      "spam 3\n",
      "grok 4\n"
     ]
    }
   ],
   "source": [
    "#Ordered Dict\n",
    "from collections import OrderedDict\n",
    "d = OrderedDict()\n",
    "d['foo'] = 1\n",
    "d['bar'] = 2\n",
    "d['spam'] = 3\n",
    "d['grok'] = 4\n",
    "# Outputs \"foo 1\", \"bar 2\", \"spam 3\", \"grok 4\"\n",
    "for key in d:\n",
    "    print(key, d[key])\n",
    "    \n",
    "#NOTE\n",
    "# Consumes HIGH MEMORY double to that of ordinary dictionary due to the linked list involved"
   ]
  },
  {
   "cell_type": "code",
   "execution_count": 15,
   "metadata": {},
   "outputs": [
    {
     "name": "stdout",
     "output_type": "stream",
     "text": [
      "Min Price :  (10.75, 'FB')\n",
      "Max Price :  (612.78, 'AAPL')\n",
      "Sorted Price :  [(10.75, 'FB'), (37.2, 'HPQ'), (45.23, 'ACME'), (205.55, 'IBM'), (612.78, 'AAPL')]\n"
     ]
    }
   ],
   "source": [
    "# You want to perform various calculations (e.g., minimum value, maximum value, sorting, etc.) on a dictionary of data.\n",
    "\n",
    "prices = {\n",
    " 'ACME': 45.23,\n",
    " 'AAPL': 612.78,\n",
    " 'IBM': 205.55,\n",
    " 'HPQ': 37.20,\n",
    " 'FB': 10.75\n",
    "}\n",
    "# Finding minimum price we can invert the key-value for this\n",
    "min_price = min(zip(prices.values(),prices.keys()))\n",
    "print('Min Price : ',min_price)\n",
    "\n",
    "max_price = max(zip(prices.values(),prices.keys()))\n",
    "print('Max Price : ',max_price)\n",
    "\n",
    "sorted_price = sorted(zip(prices.values(),prices.keys()))\n",
    "print('Sorted Price : ',sorted_price)\n",
    "\n",
    "# When doing these calculations, be aware that zip() creates an iterator that can only be\n",
    "# consumed once. For example, the following code is an error:\n",
    "# prices_and_names = zip(prices.values(), prices.keys())\n",
    "# print(min(prices_and_names)) # OK\n",
    "# print(max(prices_and_names)) # ValueError: max() arg is an empty sequence"
   ]
  },
  {
   "cell_type": "code",
   "execution_count": 1,
   "metadata": {},
   "outputs": [
    {
     "name": "stdout",
     "output_type": "stream",
     "text": [
      "4\n"
     ]
    }
   ],
   "source": [
    "# Convert string to variable name in python DYNAMIC VARIABLE\n",
    "\n",
    "dictOfStuff = {} ##Make a Dictionary\n",
    "\n",
    "x = \"Buffalo\" ##OR it can equal the input of something, up to you.\n",
    "\n",
    "dictOfStuff[x] = 4 ##Get the dict spot that has the same key (\"name\") as what X is equal to. In this case \"Buffalo\". and set it to 4. Or you can set it to  what ever you like\n",
    "\n",
    "print(dictOfStuff[x]) ##print out the value of the spot in the dict that same key (\"name\") as the dictionary."
   ]
  },
  {
   "cell_type": "code",
   "execution_count": null,
   "metadata": {},
   "outputs": [],
   "source": []
  }
 ],
 "metadata": {
  "kernelspec": {
   "display_name": "Python 3",
   "language": "python",
   "name": "python3"
  },
  "language_info": {
   "codemirror_mode": {
    "name": "ipython",
    "version": 3
   },
   "file_extension": ".py",
   "mimetype": "text/x-python",
   "name": "python",
   "nbconvert_exporter": "python",
   "pygments_lexer": "ipython3",
   "version": "3.8.3"
  }
 },
 "nbformat": 4,
 "nbformat_minor": 4
}
