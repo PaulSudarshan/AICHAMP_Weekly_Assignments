{
 "cells": [
  {
   "cell_type": "code",
   "execution_count": 1,
   "metadata": {},
   "outputs": [],
   "source": [
    "import matplotlib as plt\n",
    "import matplotlib.pyplot as plt\n",
    "from sklearn.preprocessing import LabelBinarizer\n",
    "from sklearn.model_selection import train_test_split\n",
    "from keras.preprocessing.image import ImageDataGenerator\n",
    "from sklearn.metrics import classification_report\n",
    "import keras\n",
    "from keras.models import Sequential\n",
    "from keras.layers.core import Dense\n",
    "from keras.optimizers import SGD\n",
    "from keras.datasets import cifar10\n",
    "from imutils import paths\n",
    "import matplotlib.pyplot as plt\n",
    "import numpy as np\n",
    "import random\n",
    "import pickle\n",
    "import cv2\n",
    "import os\n",
    "import time   # time1 = time.time(); print('Time taken: {:.1f} seconds'.format(time.time() - time1))\n",
    "import warnings\n",
    "warnings.filterwarnings(\"ignore\")\n",
    "SEED = 42   # set random seed"
   ]
  },
  {
   "cell_type": "code",
   "execution_count": 2,
   "metadata": {},
   "outputs": [
    {
     "name": "stdout",
     "output_type": "stream",
     "text": [
      "x_train shape: (50000, 32, 32, 3)\n",
      "y_train shape: (50000, 1)\n",
      "50000 train samples\n",
      "10000 test samples\n"
     ]
    }
   ],
   "source": [
    "(x_train, y_train), (x_test, y_test) = cifar10.load_data()\n",
    "print('x_train shape:', x_train.shape)\n",
    "print('y_train shape:', y_train.shape)\n",
    "print(x_train.shape[0], 'train samples')\n",
    "print(x_test.shape[0], 'test samples')"
   ]
  },
  {
   "cell_type": "code",
   "execution_count": 21,
   "metadata": {},
   "outputs": [],
   "source": [
    "# set up image augmentation\n",
    "datagen = ImageDataGenerator(\n",
    "    rotation_range=15,\n",
    "    horizontal_flip=True,\n",
    "    width_shift_range=0.1,\n",
    "    height_shift_range=0.1\n",
    "    #zoom_range=0.3\n",
    "    )\n",
    "datagen.fit(x_train)"
   ]
  },
  {
   "cell_type": "code",
   "execution_count": 4,
   "metadata": {},
   "outputs": [],
   "source": [
    "x_train = x_train.astype('float32')\n",
    "x_test = x_test.astype('float32')\n"
   ]
  },
  {
   "cell_type": "code",
   "execution_count": 5,
   "metadata": {},
   "outputs": [],
   "source": [
    "# One hot encoding.\n",
    "y_train = keras.utils.to_categorical(y_train, 10)\n",
    "y_test = keras.utils.to_categorical(y_test, 10)"
   ]
  },
  {
   "cell_type": "code",
   "execution_count": 6,
   "metadata": {},
   "outputs": [],
   "source": [
    "x_train = x_train.astype('float32') / 255\n",
    "x_test = x_test.astype('float32') / 255"
   ]
  },
  {
   "cell_type": "code",
   "execution_count": 7,
   "metadata": {},
   "outputs": [
    {
     "data": {
      "text/plain": [
       "(50000, 10)"
      ]
     },
     "execution_count": 7,
     "metadata": {},
     "output_type": "execute_result"
    }
   ],
   "source": [
    "y_train.shape"
   ]
  },
  {
   "cell_type": "code",
   "execution_count": 9,
   "metadata": {},
   "outputs": [],
   "source": [
    "from keras.layers import Dropout\n",
    "model = keras.models.Sequential()\n",
    "model.add(keras.layers.Flatten(input_shape=[32, 32, 3]))\n",
    "model.add(keras.layers.Dense(800, activation=\"relu\"))\n",
    "model.add(Dropout(0.2))\n",
    "model.add(keras.layers.Dense(400, activation=\"relu\"))\n",
    "model.add(keras.layers.Dense(100, activation=\"relu\"))\n",
    "model.add(keras.layers.Dense(10, activation=\"softmax\"))"
   ]
  },
  {
   "cell_type": "code",
   "execution_count": 32,
   "metadata": {},
   "outputs": [
    {
     "name": "stdout",
     "output_type": "stream",
     "text": [
      "[INFO] training network...\n"
     ]
    }
   ],
   "source": [
    "# initialize our initial learning rate and # of epochs to train for\n",
    "# compile the model using SGD as our optimizer and categorical cross-entropy loss\n",
    "# (you'll want to use binary_crossentropy for 2-class classification)\n",
    "print(\"[INFO] training network...\")\n",
    "# opt = SGD(lr=learning_rate)  # Stochastic Gradient Descent (SGD) optimizer\n",
    "model.compile(loss='categorical_crossentropy', optimizer=\"sgd\", metrics=['accuracy'])"
   ]
  },
  {
   "cell_type": "code",
   "execution_count": 33,
   "metadata": {},
   "outputs": [],
   "source": [
    "batch_size = 64"
   ]
  },
  {
   "cell_type": "code",
   "execution_count": 38,
   "metadata": {},
   "outputs": [
    {
     "name": "stdout",
     "output_type": "stream",
     "text": [
      "Epoch 1/40\n",
      "781/781 [==============================] - 51s 66ms/step - loss: 1.5362 - accuracy: 0.4469 - val_loss: 1.4264 - val_accuracy: 0.4961\n",
      "Epoch 2/40\n",
      "781/781 [==============================] - 47s 61ms/step - loss: 1.5368 - accuracy: 0.4481 - val_loss: 1.4161 - val_accuracy: 0.5000\n",
      "Epoch 3/40\n",
      "781/781 [==============================] - 50s 64ms/step - loss: 1.5355 - accuracy: 0.4467 - val_loss: 1.4171 - val_accuracy: 0.5013s: -\n",
      "Epoch 4/40\n",
      "781/781 [==============================] - 51s 65ms/step - loss: 1.5324 - accuracy: 0.4476 - val_loss: 1.4131 - val_accuracy: 0.5036\n",
      "Epoch 5/40\n",
      "781/781 [==============================] - 53s 68ms/step - loss: 1.5345 - accuracy: 0.4470 - val_loss: 1.4144 - val_accuracy: 0.5000\n",
      "Epoch 6/40\n",
      "781/781 [==============================] - 53s 67ms/step - loss: 1.5312 - accuracy: 0.4488 - val_loss: 1.4117 - val_accuracy: 0.5000\n",
      "Epoch 7/40\n",
      "781/781 [==============================] - 52s 67ms/step - loss: 1.5347 - accuracy: 0.4466 - val_loss: 1.4122 - val_accuracy: 0.5005\n",
      "Epoch 8/40\n",
      "781/781 [==============================] - 55s 71ms/step - loss: 1.5320 - accuracy: 0.4487 - val_loss: 1.4059 - val_accuracy: 0.5042\n",
      "Epoch 9/40\n",
      "781/781 [==============================] - 52s 67ms/step - loss: 1.5331 - accuracy: 0.4490 - val_loss: 1.4180 - val_accuracy: 0.4972\n",
      "Epoch 10/40\n",
      "781/781 [==============================] - 52s 66ms/step - loss: 1.5324 - accuracy: 0.4480 - val_loss: 1.4176 - val_accuracy: 0.5014\n",
      "Epoch 11/40\n",
      "781/781 [==============================] - 52s 67ms/step - loss: 1.5281 - accuracy: 0.4500 - val_loss: 1.4080 - val_accuracy: 0.5033\n",
      "Epoch 12/40\n",
      "781/781 [==============================] - 53s 68ms/step - loss: 1.5298 - accuracy: 0.4477 - val_loss: 1.4114 - val_accuracy: 0.4993\n",
      "Epoch 13/40\n",
      "781/781 [==============================] - 52s 67ms/step - loss: 1.5290 - accuracy: 0.4501 - val_loss: 1.4108 - val_accuracy: 0.5023\n",
      "Epoch 14/40\n",
      "781/781 [==============================] - 52s 67ms/step - loss: 1.5258 - accuracy: 0.4500 - val_loss: 1.4033 - val_accuracy: 0.5060\n",
      "Epoch 15/40\n",
      "781/781 [==============================] - 54s 69ms/step - loss: 1.5299 - accuracy: 0.4516 - val_loss: 1.4045 - val_accuracy: 0.50455 - accuracy:  - E\n",
      "Epoch 16/40\n",
      "781/781 [==============================] - 53s 68ms/step - loss: 1.5289 - accuracy: 0.4472 - val_loss: 1.3993 - val_accuracy: 0.5057\n",
      "Epoch 17/40\n",
      "781/781 [==============================] - 53s 68ms/step - loss: 1.5254 - accuracy: 0.4521 - val_loss: 1.4061 - val_accuracy: 0.5001\n",
      "Epoch 18/40\n",
      "781/781 [==============================] - 52s 66ms/step - loss: 1.5268 - accuracy: 0.4498 - val_loss: 1.4066 - val_accuracy: 0.5019\n",
      "Epoch 19/40\n",
      "781/781 [==============================] - 53s 67ms/step - loss: 1.5296 - accuracy: 0.4493 - val_loss: 1.4106 - val_accuracy: 0.5055\n",
      "Epoch 20/40\n",
      "781/781 [==============================] - 51s 66ms/step - loss: 1.5249 - accuracy: 0.4499 - val_loss: 1.4016 - val_accuracy: 0.5045\n",
      "Epoch 21/40\n",
      "781/781 [==============================] - 51s 66ms/step - loss: 1.5287 - accuracy: 0.4518 - val_loss: 1.4091 - val_accuracy: 0.5027\n",
      "Epoch 22/40\n",
      "781/781 [==============================] - 53s 67ms/step - loss: 1.5255 - accuracy: 0.4511 - val_loss: 1.4064 - val_accuracy: 0.5017\n",
      "Epoch 23/40\n",
      "781/781 [==============================] - 54s 69ms/step - loss: 1.5266 - accuracy: 0.4494 - val_loss: 1.4027 - val_accuracy: 0.5051\n",
      "Epoch 24/40\n",
      "781/781 [==============================] - 51s 65ms/step - loss: 1.5212 - accuracy: 0.4545 - val_loss: 1.4026 - val_accuracy: 0.5046\n",
      "Epoch 25/40\n",
      "781/781 [==============================] - 51s 66ms/step - loss: 1.5255 - accuracy: 0.4488 - val_loss: 1.4097 - val_accuracy: 0.5025\n",
      "Epoch 26/40\n",
      "781/781 [==============================] - 51s 65ms/step - loss: 1.5232 - accuracy: 0.4523 - val_loss: 1.4062 - val_accuracy: 0.5060 - ETA: 0s - loss: 1.5232 - accura\n",
      "Epoch 27/40\n",
      "781/781 [==============================] - 52s 67ms/step - loss: 1.5258 - accuracy: 0.4489 - val_loss: 1.4050 - val_accuracy: 0.5009\n",
      "Epoch 28/40\n",
      "781/781 [==============================] - 52s 66ms/step - loss: 1.5208 - accuracy: 0.4519 - val_loss: 1.4025 - val_accuracy: 0.5040\n",
      "Epoch 29/40\n",
      "781/781 [==============================] - 51s 66ms/step - loss: 1.5215 - accuracy: 0.4543 - val_loss: 1.4025 - val_accuracy: 0.5069\n",
      "Epoch 30/40\n",
      "781/781 [==============================] - 52s 67ms/step - loss: 1.5227 - accuracy: 0.4500 - val_loss: 1.3973 - val_accuracy: 0.5057\n",
      "Epoch 31/40\n",
      "781/781 [==============================] - 51s 65ms/step - loss: 1.5213 - accuracy: 0.4523 - val_loss: 1.3989 - val_accuracy: 0.5056\n",
      "Epoch 32/40\n",
      "781/781 [==============================] - 52s 66ms/step - loss: 1.5203 - accuracy: 0.4529 - val_loss: 1.3961 - val_accuracy: 0.5048\n",
      "Epoch 33/40\n",
      "781/781 [==============================] - 51s 66ms/step - loss: 1.5200 - accuracy: 0.4545 - val_loss: 1.4024 - val_accuracy: 0.5008\n",
      "Epoch 34/40\n",
      "781/781 [==============================] - 51s 65ms/step - loss: 1.5186 - accuracy: 0.4536 - val_loss: 1.4005 - val_accuracy: 0.5025\n",
      "Epoch 35/40\n",
      "781/781 [==============================] - 52s 66ms/step - loss: 1.5227 - accuracy: 0.4512 - val_loss: 1.4091 - val_accuracy: 0.4992\n",
      "Epoch 36/40\n",
      "781/781 [==============================] - 51s 66ms/step - loss: 1.5171 - accuracy: 0.4518 - val_loss: 1.4040 - val_accuracy: 0.5053\n",
      "Epoch 37/40\n",
      "781/781 [==============================] - 50s 64ms/step - loss: 1.5211 - accuracy: 0.4520 - val_loss: 1.3964 - val_accuracy: 0.5052\n",
      "Epoch 38/40\n",
      "781/781 [==============================] - 53s 68ms/step - loss: 1.5189 - accuracy: 0.4544 - val_loss: 1.3973 - val_accuracy: 0.5026\n",
      "Epoch 39/40\n",
      "781/781 [==============================] - 53s 67ms/step - loss: 1.5228 - accuracy: 0.4511 - val_loss: 1.3978 - val_accuracy: 0.5063\n",
      "Epoch 40/40\n",
      "781/781 [==============================] - 53s 68ms/step - loss: 1.5168 - accuracy: 0.4532 - val_loss: 1.4024 - val_accuracy: 0.5041\n"
     ]
    },
    {
     "data": {
      "text/plain": [
       "<tensorflow.python.keras.callbacks.History at 0x26c4b1e3d60>"
      ]
     },
     "execution_count": 38,
     "metadata": {},
     "output_type": "execute_result"
    }
   ],
   "source": [
    "model.fit_generator(datagen.flow(x_train, y_train, batch_size=batch_size),\\\n",
    "                    steps_per_epoch=x_train.shape[0] // batch_size,epochs=40,\\\n",
    "                    verbose=1,validation_data=(x_test,y_test)) "
   ]
  },
  {
   "cell_type": "code",
   "execution_count": null,
   "metadata": {},
   "outputs": [],
   "source": []
  }
 ],
 "metadata": {
  "kernelspec": {
   "display_name": "Python 3",
   "language": "python",
   "name": "python3"
  },
  "language_info": {
   "codemirror_mode": {
    "name": "ipython",
    "version": 3
   },
   "file_extension": ".py",
   "mimetype": "text/x-python",
   "name": "python",
   "nbconvert_exporter": "python",
   "pygments_lexer": "ipython3",
   "version": "3.8.3"
  }
 },
 "nbformat": 4,
 "nbformat_minor": 4
}
