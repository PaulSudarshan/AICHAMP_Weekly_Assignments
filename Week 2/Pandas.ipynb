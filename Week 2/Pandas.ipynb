{
  "nbformat": 4,
  "nbformat_minor": 0,
  "metadata": {
    "kernelspec": {
      "display_name": "Python 3.7.3 64-bit ('cv-nd': conda)",
      "language": "python",
      "name": "python37364bitcvndcondab14a51f27e0e4dd69b303ff47403d3bd"
    },
    "language_info": {
      "codemirror_mode": {
        "name": "ipython",
        "version": 3
      },
      "file_extension": ".py",
      "mimetype": "text/x-python",
      "name": "python",
      "nbconvert_exporter": "python",
      "pygments_lexer": "ipython3",
      "version": "3.7.3"
    },
    "colab": {
      "name": "Pandas.ipynb",
      "provenance": []
    }
  },
  "cells": [
    {
      "cell_type": "code",
      "metadata": {
        "id": "UoRG7ulHHfsk",
        "colab_type": "code",
        "colab": {}
      },
      "source": [
        "import os\n",
        "import pandas as pd\n",
        "import numpy as np"
      ],
      "execution_count": null,
      "outputs": []
    },
    {
      "cell_type": "code",
      "metadata": {
        "id": "cz-RpJgVHfso",
        "colab_type": "code",
        "colab": {}
      },
      "source": [
        "DATA_FILE = os.path.join(\"data\", \"netflix_titles.csv\")"
      ],
      "execution_count": null,
      "outputs": []
    },
    {
      "cell_type": "markdown",
      "metadata": {
        "id": "L4FvNRjIHfsq",
        "colab_type": "text"
      },
      "source": [
        "## First DataFrame!"
      ]
    },
    {
      "cell_type": "code",
      "metadata": {
        "id": "uhH_I45xHfsr",
        "colab_type": "code",
        "colab": {},
        "outputId": "60764044-fa7b-4a22-90ef-d726d3f91ca2"
      },
      "source": [
        "df = pd.read_csv(DATA_FILE)\n",
        "\n",
        "df.head()\n",
        "# df.tail()"
      ],
      "execution_count": null,
      "outputs": [
        {
          "output_type": "execute_result",
          "data": {
            "text/html": [
              "<div>\n",
              "<style scoped>\n",
              "    .dataframe tbody tr th:only-of-type {\n",
              "        vertical-align: middle;\n",
              "    }\n",
              "\n",
              "    .dataframe tbody tr th {\n",
              "        vertical-align: top;\n",
              "    }\n",
              "\n",
              "    .dataframe thead th {\n",
              "        text-align: right;\n",
              "    }\n",
              "</style>\n",
              "<table border=\"1\" class=\"dataframe\">\n",
              "  <thead>\n",
              "    <tr style=\"text-align: right;\">\n",
              "      <th></th>\n",
              "      <th>show_id</th>\n",
              "      <th>type</th>\n",
              "      <th>title</th>\n",
              "      <th>director</th>\n",
              "      <th>cast</th>\n",
              "      <th>country</th>\n",
              "      <th>date_added</th>\n",
              "      <th>release_year</th>\n",
              "      <th>rating</th>\n",
              "      <th>duration</th>\n",
              "      <th>listed_in</th>\n",
              "      <th>description</th>\n",
              "    </tr>\n",
              "  </thead>\n",
              "  <tbody>\n",
              "    <tr>\n",
              "      <th>0</th>\n",
              "      <td>81145628</td>\n",
              "      <td>Movie</td>\n",
              "      <td>Norm of the North: King Sized Adventure</td>\n",
              "      <td>Richard Finn, Tim Maltby</td>\n",
              "      <td>Alan Marriott, Andrew Toth, Brian Dobson, Cole...</td>\n",
              "      <td>United States, India, South Korea, China</td>\n",
              "      <td>September 9, 2019</td>\n",
              "      <td>2019</td>\n",
              "      <td>TV-PG</td>\n",
              "      <td>90 min</td>\n",
              "      <td>Children &amp; Family Movies, Comedies</td>\n",
              "      <td>Before planning an awesome wedding for his gra...</td>\n",
              "    </tr>\n",
              "    <tr>\n",
              "      <th>1</th>\n",
              "      <td>80117401</td>\n",
              "      <td>Movie</td>\n",
              "      <td>Jandino: Whatever it Takes</td>\n",
              "      <td>NaN</td>\n",
              "      <td>Jandino Asporaat</td>\n",
              "      <td>United Kingdom</td>\n",
              "      <td>September 9, 2016</td>\n",
              "      <td>2016</td>\n",
              "      <td>TV-MA</td>\n",
              "      <td>94 min</td>\n",
              "      <td>Stand-Up Comedy</td>\n",
              "      <td>Jandino Asporaat riffs on the challenges of ra...</td>\n",
              "    </tr>\n",
              "    <tr>\n",
              "      <th>2</th>\n",
              "      <td>70234439</td>\n",
              "      <td>TV Show</td>\n",
              "      <td>Transformers Prime</td>\n",
              "      <td>NaN</td>\n",
              "      <td>Peter Cullen, Sumalee Montano, Frank Welker, J...</td>\n",
              "      <td>United States</td>\n",
              "      <td>September 8, 2018</td>\n",
              "      <td>2013</td>\n",
              "      <td>TV-Y7-FV</td>\n",
              "      <td>1 Season</td>\n",
              "      <td>Kids' TV</td>\n",
              "      <td>With the help of three human allies, the Autob...</td>\n",
              "    </tr>\n",
              "    <tr>\n",
              "      <th>3</th>\n",
              "      <td>80058654</td>\n",
              "      <td>TV Show</td>\n",
              "      <td>Transformers: Robots in Disguise</td>\n",
              "      <td>NaN</td>\n",
              "      <td>Will Friedle, Darren Criss, Constance Zimmer, ...</td>\n",
              "      <td>United States</td>\n",
              "      <td>September 8, 2018</td>\n",
              "      <td>2016</td>\n",
              "      <td>TV-Y7</td>\n",
              "      <td>1 Season</td>\n",
              "      <td>Kids' TV</td>\n",
              "      <td>When a prison ship crash unleashes hundreds of...</td>\n",
              "    </tr>\n",
              "    <tr>\n",
              "      <th>4</th>\n",
              "      <td>80125979</td>\n",
              "      <td>Movie</td>\n",
              "      <td>#realityhigh</td>\n",
              "      <td>Fernando Lebrija</td>\n",
              "      <td>Nesta Cooper, Kate Walsh, John Michael Higgins...</td>\n",
              "      <td>United States</td>\n",
              "      <td>September 8, 2017</td>\n",
              "      <td>2017</td>\n",
              "      <td>TV-14</td>\n",
              "      <td>99 min</td>\n",
              "      <td>Comedies</td>\n",
              "      <td>When nerdy high schooler Dani finally attracts...</td>\n",
              "    </tr>\n",
              "  </tbody>\n",
              "</table>\n",
              "</div>"
            ],
            "text/plain": [
              "    show_id     type                                    title  \\\n",
              "0  81145628    Movie  Norm of the North: King Sized Adventure   \n",
              "1  80117401    Movie               Jandino: Whatever it Takes   \n",
              "2  70234439  TV Show                       Transformers Prime   \n",
              "3  80058654  TV Show         Transformers: Robots in Disguise   \n",
              "4  80125979    Movie                             #realityhigh   \n",
              "\n",
              "                   director  \\\n",
              "0  Richard Finn, Tim Maltby   \n",
              "1                       NaN   \n",
              "2                       NaN   \n",
              "3                       NaN   \n",
              "4          Fernando Lebrija   \n",
              "\n",
              "                                                cast  \\\n",
              "0  Alan Marriott, Andrew Toth, Brian Dobson, Cole...   \n",
              "1                                   Jandino Asporaat   \n",
              "2  Peter Cullen, Sumalee Montano, Frank Welker, J...   \n",
              "3  Will Friedle, Darren Criss, Constance Zimmer, ...   \n",
              "4  Nesta Cooper, Kate Walsh, John Michael Higgins...   \n",
              "\n",
              "                                    country         date_added  release_year  \\\n",
              "0  United States, India, South Korea, China  September 9, 2019          2019   \n",
              "1                            United Kingdom  September 9, 2016          2016   \n",
              "2                             United States  September 8, 2018          2013   \n",
              "3                             United States  September 8, 2018          2016   \n",
              "4                             United States  September 8, 2017          2017   \n",
              "\n",
              "     rating  duration                           listed_in  \\\n",
              "0     TV-PG    90 min  Children & Family Movies, Comedies   \n",
              "1     TV-MA    94 min                     Stand-Up Comedy   \n",
              "2  TV-Y7-FV  1 Season                            Kids' TV   \n",
              "3     TV-Y7  1 Season                            Kids' TV   \n",
              "4     TV-14    99 min                            Comedies   \n",
              "\n",
              "                                         description  \n",
              "0  Before planning an awesome wedding for his gra...  \n",
              "1  Jandino Asporaat riffs on the challenges of ra...  \n",
              "2  With the help of three human allies, the Autob...  \n",
              "3  When a prison ship crash unleashes hundreds of...  \n",
              "4  When nerdy high schooler Dani finally attracts...  "
            ]
          },
          "metadata": {
            "tags": []
          },
          "execution_count": 4
        }
      ]
    },
    {
      "cell_type": "code",
      "metadata": {
        "id": "F6HjTvpZHfsu",
        "colab_type": "code",
        "colab": {},
        "outputId": "ecc31c24-5889-40e6-e623-3aa97b76450b"
      },
      "source": [
        "df.columns"
      ],
      "execution_count": null,
      "outputs": [
        {
          "output_type": "execute_result",
          "data": {
            "text/plain": [
              "Index(['show_id', 'type', 'title', 'director', 'cast', 'country', 'date_added',\n",
              "       'release_year', 'rating', 'duration', 'listed_in', 'description'],\n",
              "      dtype='object')"
            ]
          },
          "metadata": {
            "tags": []
          },
          "execution_count": 5
        }
      ]
    },
    {
      "cell_type": "code",
      "metadata": {
        "id": "flZxmlMWHfsw",
        "colab_type": "code",
        "colab": {},
        "outputId": "605021ca-ab35-4c70-f3b8-ecf9be8fb841"
      },
      "source": [
        "df.dtypes"
      ],
      "execution_count": null,
      "outputs": [
        {
          "output_type": "execute_result",
          "data": {
            "text/plain": [
              "show_id          int64\n",
              "type            object\n",
              "title           object\n",
              "director        object\n",
              "cast            object\n",
              "country         object\n",
              "date_added      object\n",
              "release_year     int64\n",
              "rating          object\n",
              "duration        object\n",
              "listed_in       object\n",
              "description     object\n",
              "dtype: object"
            ]
          },
          "metadata": {
            "tags": []
          },
          "execution_count": 6
        }
      ]
    },
    {
      "cell_type": "code",
      "metadata": {
        "id": "mVYC6ChlHfsz",
        "colab_type": "code",
        "colab": {},
        "outputId": "5dbb99c7-2cd7-4a78-88d1-5cd05581211c"
      },
      "source": [
        "df.describe()"
      ],
      "execution_count": null,
      "outputs": [
        {
          "output_type": "execute_result",
          "data": {
            "text/html": [
              "<div>\n",
              "<style scoped>\n",
              "    .dataframe tbody tr th:only-of-type {\n",
              "        vertical-align: middle;\n",
              "    }\n",
              "\n",
              "    .dataframe tbody tr th {\n",
              "        vertical-align: top;\n",
              "    }\n",
              "\n",
              "    .dataframe thead th {\n",
              "        text-align: right;\n",
              "    }\n",
              "</style>\n",
              "<table border=\"1\" class=\"dataframe\">\n",
              "  <thead>\n",
              "    <tr style=\"text-align: right;\">\n",
              "      <th></th>\n",
              "      <th>show_id</th>\n",
              "      <th>release_year</th>\n",
              "    </tr>\n",
              "  </thead>\n",
              "  <tbody>\n",
              "    <tr>\n",
              "      <th>count</th>\n",
              "      <td>6.234000e+03</td>\n",
              "      <td>6234.00000</td>\n",
              "    </tr>\n",
              "    <tr>\n",
              "      <th>mean</th>\n",
              "      <td>7.670368e+07</td>\n",
              "      <td>2013.35932</td>\n",
              "    </tr>\n",
              "    <tr>\n",
              "      <th>std</th>\n",
              "      <td>1.094296e+07</td>\n",
              "      <td>8.81162</td>\n",
              "    </tr>\n",
              "    <tr>\n",
              "      <th>min</th>\n",
              "      <td>2.477470e+05</td>\n",
              "      <td>1925.00000</td>\n",
              "    </tr>\n",
              "    <tr>\n",
              "      <th>25%</th>\n",
              "      <td>8.003580e+07</td>\n",
              "      <td>2013.00000</td>\n",
              "    </tr>\n",
              "    <tr>\n",
              "      <th>50%</th>\n",
              "      <td>8.016337e+07</td>\n",
              "      <td>2016.00000</td>\n",
              "    </tr>\n",
              "    <tr>\n",
              "      <th>75%</th>\n",
              "      <td>8.024489e+07</td>\n",
              "      <td>2018.00000</td>\n",
              "    </tr>\n",
              "    <tr>\n",
              "      <th>max</th>\n",
              "      <td>8.123573e+07</td>\n",
              "      <td>2020.00000</td>\n",
              "    </tr>\n",
              "  </tbody>\n",
              "</table>\n",
              "</div>"
            ],
            "text/plain": [
              "            show_id  release_year\n",
              "count  6.234000e+03    6234.00000\n",
              "mean   7.670368e+07    2013.35932\n",
              "std    1.094296e+07       8.81162\n",
              "min    2.477470e+05    1925.00000\n",
              "25%    8.003580e+07    2013.00000\n",
              "50%    8.016337e+07    2016.00000\n",
              "75%    8.024489e+07    2018.00000\n",
              "max    8.123573e+07    2020.00000"
            ]
          },
          "metadata": {
            "tags": []
          },
          "execution_count": 7
        }
      ]
    },
    {
      "cell_type": "code",
      "metadata": {
        "id": "Zasfeu2eHfs1",
        "colab_type": "code",
        "colab": {},
        "outputId": "9577ec03-0cf3-4a49-cfe8-5183799d78be"
      },
      "source": [
        "df.shape"
      ],
      "execution_count": null,
      "outputs": [
        {
          "output_type": "execute_result",
          "data": {
            "text/plain": [
              "(6234, 12)"
            ]
          },
          "metadata": {
            "tags": []
          },
          "execution_count": 8
        }
      ]
    },
    {
      "cell_type": "code",
      "metadata": {
        "id": "6pYl2isdHfs4",
        "colab_type": "code",
        "colab": {},
        "outputId": "0bf1464c-8a72-4e81-c79e-ab93d7d99fd2"
      },
      "source": [
        "df.type.unique()"
      ],
      "execution_count": null,
      "outputs": [
        {
          "output_type": "execute_result",
          "data": {
            "text/plain": [
              "array(['Movie', 'TV Show'], dtype=object)"
            ]
          },
          "metadata": {
            "tags": []
          },
          "execution_count": 10
        }
      ]
    },
    {
      "cell_type": "code",
      "metadata": {
        "id": "X3UeJPaRHfs7",
        "colab_type": "code",
        "colab": {},
        "outputId": "7ac12b31-2045-42d9-9101-8cb6e4c09ed7"
      },
      "source": [
        "df['type'].unique()"
      ],
      "execution_count": null,
      "outputs": [
        {
          "output_type": "execute_result",
          "data": {
            "text/plain": [
              "array(['Movie', 'TV Show'], dtype=object)"
            ]
          },
          "metadata": {
            "tags": []
          },
          "execution_count": 11
        }
      ]
    },
    {
      "cell_type": "code",
      "metadata": {
        "id": "4TjfogeiHfs9",
        "colab_type": "code",
        "colab": {},
        "outputId": "2ffd1e0a-325e-498a-8419-ab95d54dc693"
      },
      "source": [
        "df.type.value_counts()"
      ],
      "execution_count": null,
      "outputs": [
        {
          "output_type": "execute_result",
          "data": {
            "text/plain": [
              "Movie      4265\n",
              "TV Show    1969\n",
              "Name: type, dtype: int64"
            ]
          },
          "metadata": {
            "tags": []
          },
          "execution_count": 14
        }
      ]
    },
    {
      "cell_type": "markdown",
      "metadata": {
        "id": "Ga2SoVpWHfs_",
        "colab_type": "text"
      },
      "source": [
        "### Series : Similar to numpy arrays"
      ]
    },
    {
      "cell_type": "code",
      "metadata": {
        "id": "KDRa4_r-Hfs_",
        "colab_type": "code",
        "colab": {},
        "outputId": "0f122423-4d42-410c-f64f-6a557e40035d"
      },
      "source": [
        "a = np.random.randint(0, 10, size=(5))\n",
        "a"
      ],
      "execution_count": null,
      "outputs": [
        {
          "output_type": "execute_result",
          "data": {
            "text/plain": [
              "array([1, 7, 3, 8, 0])"
            ]
          },
          "metadata": {
            "tags": []
          },
          "execution_count": 16
        }
      ]
    },
    {
      "cell_type": "code",
      "metadata": {
        "id": "kWfXBecRHftC",
        "colab_type": "code",
        "colab": {},
        "outputId": "86ae44e9-d8b3-41cb-f855-bf3730453207"
      },
      "source": [
        "s = pd.Series(a)\n",
        "s"
      ],
      "execution_count": null,
      "outputs": [
        {
          "output_type": "execute_result",
          "data": {
            "text/plain": [
              "0    1\n",
              "1    7\n",
              "2    3\n",
              "3    8\n",
              "4    0\n",
              "dtype: int64"
            ]
          },
          "metadata": {
            "tags": []
          },
          "execution_count": 17
        }
      ]
    },
    {
      "cell_type": "code",
      "metadata": {
        "id": "NjaEQQsYHftE",
        "colab_type": "code",
        "colab": {},
        "outputId": "5ed3dfd3-fc57-4398-a632-f5782d5b6b78"
      },
      "source": [
        "labels = ['a', 'b', 'c', 'd', 'e']\n",
        "a = np.random.randint(0, 10, size=(5))\n",
        "\n",
        "s = pd.Series(a, index=labels)\n",
        "s"
      ],
      "execution_count": null,
      "outputs": [
        {
          "output_type": "execute_result",
          "data": {
            "text/plain": [
              "a    3\n",
              "b    2\n",
              "c    3\n",
              "d    6\n",
              "e    1\n",
              "dtype: int64"
            ]
          },
          "metadata": {
            "tags": []
          },
          "execution_count": 27
        }
      ]
    },
    {
      "cell_type": "code",
      "metadata": {
        "id": "9A9FCCloHftG",
        "colab_type": "code",
        "colab": {},
        "outputId": "16d5a6d4-84c4-451b-fc7d-502b3378e607"
      },
      "source": [
        "print(\"Both are same: {} {}\".format(s[0], s['a']))"
      ],
      "execution_count": null,
      "outputs": [
        {
          "output_type": "stream",
          "text": [
            "Both are same: 3 3\n"
          ],
          "name": "stdout"
        }
      ]
    },
    {
      "cell_type": "markdown",
      "metadata": {
        "id": "TH4aAl5KHftJ",
        "colab_type": "text"
      },
      "source": [
        "### What if index is repeating?"
      ]
    },
    {
      "cell_type": "code",
      "metadata": {
        "id": "-pP_XBx1HftJ",
        "colab_type": "code",
        "colab": {},
        "outputId": "8b619bb1-25ac-400a-a078-f0e8f9f6fac6"
      },
      "source": [
        "labels = ['a', 'b', 'c', 'a', 'a']\n",
        "a = np.random.randint(0, 10, size=(5))\n",
        "\n",
        "s = pd.Series(a, index=labels)\n",
        "s"
      ],
      "execution_count": null,
      "outputs": [
        {
          "output_type": "execute_result",
          "data": {
            "text/plain": [
              "a    5\n",
              "b    9\n",
              "c    7\n",
              "a    3\n",
              "a    6\n",
              "dtype: int64"
            ]
          },
          "metadata": {
            "tags": []
          },
          "execution_count": 34
        }
      ]
    },
    {
      "cell_type": "code",
      "metadata": {
        "id": "CqpAM6tRHftM",
        "colab_type": "code",
        "colab": {},
        "outputId": "5406feb6-c412-4bfb-98ac-ea330c92da22"
      },
      "source": [
        "print(\"s[0]:\\n{}\\n\\ns['a']:\\n{}\\nTypes: s[0]: {} s['a']: {}\".format(s[0], s['a'], type(s[0]), type(s['a'])))"
      ],
      "execution_count": null,
      "outputs": [
        {
          "output_type": "stream",
          "text": [
            "s[0]:\n",
            "3\n",
            "\n",
            "s['a']:\n",
            "a    3\n",
            "a    3\n",
            "a    2\n",
            "dtype: int64\n",
            "Types: s[0]: <class 'numpy.int64'> s['a']: <class 'pandas.core.series.Series'>\n"
          ],
          "name": "stdout"
        }
      ]
    },
    {
      "cell_type": "markdown",
      "metadata": {
        "id": "5IAWbs_3HftO",
        "colab_type": "text"
      },
      "source": [
        "## Creating DataFrame"
      ]
    },
    {
      "cell_type": "code",
      "metadata": {
        "id": "3HvMBtVJHftO",
        "colab_type": "code",
        "colab": {}
      },
      "source": [
        "a = ['vinay', 'kuldeep', 'abhishek', 'siddharth', 'viren']\n",
        "b = np.random.randint(1,45, size=(5))"
      ],
      "execution_count": null,
      "outputs": []
    },
    {
      "cell_type": "code",
      "metadata": {
        "id": "G6fIDR4YHftQ",
        "colab_type": "code",
        "colab": {},
        "outputId": "b995abeb-df1b-453c-e862-6cc8e4e86a0e"
      },
      "source": [
        "a"
      ],
      "execution_count": null,
      "outputs": [
        {
          "output_type": "execute_result",
          "data": {
            "text/plain": [
              "['vinay', 'kuldeep', 'abhishek', 'siddharth', 'viren']"
            ]
          },
          "metadata": {
            "tags": []
          },
          "execution_count": 36
        }
      ]
    },
    {
      "cell_type": "code",
      "metadata": {
        "id": "Rb2Tqod6HftU",
        "colab_type": "code",
        "colab": {},
        "outputId": "de7a5e1c-f753-447b-b79d-3c293d4bb1c8"
      },
      "source": [
        "b"
      ],
      "execution_count": null,
      "outputs": [
        {
          "output_type": "execute_result",
          "data": {
            "text/plain": [
              "array([24, 16, 22, 41, 32])"
            ]
          },
          "metadata": {
            "tags": []
          },
          "execution_count": 37
        }
      ]
    },
    {
      "cell_type": "code",
      "metadata": {
        "id": "Gp414UywHftW",
        "colab_type": "code",
        "colab": {},
        "outputId": "1f3c55c6-84ee-4263-ae09-700f951805b0"
      },
      "source": [
        "df = pd.DataFrame({\n",
        "    \"name\": a,\n",
        "    \"balance\": b\n",
        "})\n",
        "\n",
        "df.head()"
      ],
      "execution_count": null,
      "outputs": [
        {
          "output_type": "execute_result",
          "data": {
            "text/html": [
              "<div>\n",
              "<style scoped>\n",
              "    .dataframe tbody tr th:only-of-type {\n",
              "        vertical-align: middle;\n",
              "    }\n",
              "\n",
              "    .dataframe tbody tr th {\n",
              "        vertical-align: top;\n",
              "    }\n",
              "\n",
              "    .dataframe thead th {\n",
              "        text-align: right;\n",
              "    }\n",
              "</style>\n",
              "<table border=\"1\" class=\"dataframe\">\n",
              "  <thead>\n",
              "    <tr style=\"text-align: right;\">\n",
              "      <th></th>\n",
              "      <th>name</th>\n",
              "      <th>balance</th>\n",
              "    </tr>\n",
              "  </thead>\n",
              "  <tbody>\n",
              "    <tr>\n",
              "      <th>0</th>\n",
              "      <td>vinay</td>\n",
              "      <td>24</td>\n",
              "    </tr>\n",
              "    <tr>\n",
              "      <th>1</th>\n",
              "      <td>kuldeep</td>\n",
              "      <td>16</td>\n",
              "    </tr>\n",
              "    <tr>\n",
              "      <th>2</th>\n",
              "      <td>abhishek</td>\n",
              "      <td>22</td>\n",
              "    </tr>\n",
              "    <tr>\n",
              "      <th>3</th>\n",
              "      <td>siddharth</td>\n",
              "      <td>41</td>\n",
              "    </tr>\n",
              "    <tr>\n",
              "      <th>4</th>\n",
              "      <td>viren</td>\n",
              "      <td>32</td>\n",
              "    </tr>\n",
              "  </tbody>\n",
              "</table>\n",
              "</div>"
            ],
            "text/plain": [
              "        name  balance\n",
              "0      vinay       24\n",
              "1    kuldeep       16\n",
              "2   abhishek       22\n",
              "3  siddharth       41\n",
              "4      viren       32"
            ]
          },
          "metadata": {
            "tags": []
          },
          "execution_count": 41
        }
      ]
    },
    {
      "cell_type": "code",
      "metadata": {
        "id": "cQ45hHc0HftY",
        "colab_type": "code",
        "colab": {},
        "outputId": "3057fba3-2c87-4b1f-c984-11afa16fb89b"
      },
      "source": [
        "df.name"
      ],
      "execution_count": null,
      "outputs": [
        {
          "output_type": "execute_result",
          "data": {
            "text/plain": [
              "0        vinay\n",
              "1      kuldeep\n",
              "2     abhishek\n",
              "3    siddharth\n",
              "4        viren\n",
              "Name: name, dtype: object"
            ]
          },
          "metadata": {
            "tags": []
          },
          "execution_count": 42
        }
      ]
    },
    {
      "cell_type": "code",
      "metadata": {
        "id": "vHZA_SrBHfta",
        "colab_type": "code",
        "colab": {},
        "outputId": "f9a2d49a-ac82-47ec-d97a-2be11cc97894"
      },
      "source": [
        "df['name']"
      ],
      "execution_count": null,
      "outputs": [
        {
          "output_type": "execute_result",
          "data": {
            "text/plain": [
              "0        vinay\n",
              "1      kuldeep\n",
              "2     abhishek\n",
              "3    siddharth\n",
              "4        viren\n",
              "Name: name, dtype: object"
            ]
          },
          "metadata": {
            "tags": []
          },
          "execution_count": 43
        }
      ]
    },
    {
      "cell_type": "code",
      "metadata": {
        "id": "gGDqW03nHftc",
        "colab_type": "code",
        "colab": {},
        "outputId": "39b131d8-10d8-4621-b685-0a4e42594641"
      },
      "source": [
        "type(df.name)"
      ],
      "execution_count": null,
      "outputs": [
        {
          "output_type": "execute_result",
          "data": {
            "text/plain": [
              "pandas.core.series.Series"
            ]
          },
          "metadata": {
            "tags": []
          },
          "execution_count": 44
        }
      ]
    },
    {
      "cell_type": "code",
      "metadata": {
        "id": "E9X5T2SsHfte",
        "colab_type": "code",
        "colab": {},
        "outputId": "305e896d-8b62-4494-96d1-b38f1f345c21"
      },
      "source": [
        "df['name'][0]"
      ],
      "execution_count": null,
      "outputs": [
        {
          "output_type": "execute_result",
          "data": {
            "text/plain": [
              "'vinay'"
            ]
          },
          "metadata": {
            "tags": []
          },
          "execution_count": 45
        }
      ]
    },
    {
      "cell_type": "code",
      "metadata": {
        "id": "AUopMPVsHftg",
        "colab_type": "code",
        "colab": {},
        "outputId": "d11a1b3b-340e-4d0f-edc9-c76acaaae99c"
      },
      "source": [
        "df.iloc[:2, :]"
      ],
      "execution_count": null,
      "outputs": [
        {
          "output_type": "execute_result",
          "data": {
            "text/html": [
              "<div>\n",
              "<style scoped>\n",
              "    .dataframe tbody tr th:only-of-type {\n",
              "        vertical-align: middle;\n",
              "    }\n",
              "\n",
              "    .dataframe tbody tr th {\n",
              "        vertical-align: top;\n",
              "    }\n",
              "\n",
              "    .dataframe thead th {\n",
              "        text-align: right;\n",
              "    }\n",
              "</style>\n",
              "<table border=\"1\" class=\"dataframe\">\n",
              "  <thead>\n",
              "    <tr style=\"text-align: right;\">\n",
              "      <th></th>\n",
              "      <th>name</th>\n",
              "      <th>balance</th>\n",
              "    </tr>\n",
              "  </thead>\n",
              "  <tbody>\n",
              "    <tr>\n",
              "      <th>0</th>\n",
              "      <td>vinay</td>\n",
              "      <td>24</td>\n",
              "    </tr>\n",
              "    <tr>\n",
              "      <th>1</th>\n",
              "      <td>kuldeep</td>\n",
              "      <td>16</td>\n",
              "    </tr>\n",
              "  </tbody>\n",
              "</table>\n",
              "</div>"
            ],
            "text/plain": [
              "      name  balance\n",
              "0    vinay       24\n",
              "1  kuldeep       16"
            ]
          },
          "metadata": {
            "tags": []
          },
          "execution_count": 48
        }
      ]
    },
    {
      "cell_type": "code",
      "metadata": {
        "id": "8nBQSJ1wHftk",
        "colab_type": "code",
        "colab": {},
        "outputId": "cc63da81-1c0c-48ec-fa5d-696d5244ff2d"
      },
      "source": [
        "df['name'].iloc[:3]"
      ],
      "execution_count": null,
      "outputs": [
        {
          "output_type": "execute_result",
          "data": {
            "text/plain": [
              "0       vinay\n",
              "1     kuldeep\n",
              "2    abhishek\n",
              "Name: name, dtype: object"
            ]
          },
          "metadata": {
            "tags": []
          },
          "execution_count": 51
        }
      ]
    },
    {
      "cell_type": "code",
      "metadata": {
        "id": "ruUBs1tuHftm",
        "colab_type": "code",
        "colab": {},
        "outputId": "88d9fc20-9a08-4f6a-b915-2eee1c6bc889"
      },
      "source": [
        "df.loc[:, ['balance']]"
      ],
      "execution_count": null,
      "outputs": [
        {
          "output_type": "execute_result",
          "data": {
            "text/html": [
              "<div>\n",
              "<style scoped>\n",
              "    .dataframe tbody tr th:only-of-type {\n",
              "        vertical-align: middle;\n",
              "    }\n",
              "\n",
              "    .dataframe tbody tr th {\n",
              "        vertical-align: top;\n",
              "    }\n",
              "\n",
              "    .dataframe thead th {\n",
              "        text-align: right;\n",
              "    }\n",
              "</style>\n",
              "<table border=\"1\" class=\"dataframe\">\n",
              "  <thead>\n",
              "    <tr style=\"text-align: right;\">\n",
              "      <th></th>\n",
              "      <th>balance</th>\n",
              "    </tr>\n",
              "  </thead>\n",
              "  <tbody>\n",
              "    <tr>\n",
              "      <th>0</th>\n",
              "      <td>24</td>\n",
              "    </tr>\n",
              "    <tr>\n",
              "      <th>1</th>\n",
              "      <td>16</td>\n",
              "    </tr>\n",
              "    <tr>\n",
              "      <th>2</th>\n",
              "      <td>22</td>\n",
              "    </tr>\n",
              "    <tr>\n",
              "      <th>3</th>\n",
              "      <td>41</td>\n",
              "    </tr>\n",
              "    <tr>\n",
              "      <th>4</th>\n",
              "      <td>32</td>\n",
              "    </tr>\n",
              "  </tbody>\n",
              "</table>\n",
              "</div>"
            ],
            "text/plain": [
              "   balance\n",
              "0       24\n",
              "1       16\n",
              "2       22\n",
              "3       41\n",
              "4       32"
            ]
          },
          "metadata": {
            "tags": []
          },
          "execution_count": 53
        }
      ]
    },
    {
      "cell_type": "code",
      "metadata": {
        "id": "18hkWweWHfto",
        "colab_type": "code",
        "colab": {},
        "outputId": "1f650592-3f44-410d-93b6-16fd966ce7c4"
      },
      "source": [
        "df.balance > 30"
      ],
      "execution_count": null,
      "outputs": [
        {
          "output_type": "execute_result",
          "data": {
            "text/plain": [
              "0    False\n",
              "1    False\n",
              "2    False\n",
              "3     True\n",
              "4     True\n",
              "Name: balance, dtype: bool"
            ]
          },
          "metadata": {
            "tags": []
          },
          "execution_count": 57
        }
      ]
    },
    {
      "cell_type": "code",
      "metadata": {
        "id": "gwAO9qzMHftp",
        "colab_type": "code",
        "colab": {},
        "outputId": "35225835-89e4-43af-8ff4-1c39589f0cec"
      },
      "source": [
        "df.loc[df.balance > 30]"
      ],
      "execution_count": null,
      "outputs": [
        {
          "output_type": "execute_result",
          "data": {
            "text/html": [
              "<div>\n",
              "<style scoped>\n",
              "    .dataframe tbody tr th:only-of-type {\n",
              "        vertical-align: middle;\n",
              "    }\n",
              "\n",
              "    .dataframe tbody tr th {\n",
              "        vertical-align: top;\n",
              "    }\n",
              "\n",
              "    .dataframe thead th {\n",
              "        text-align: right;\n",
              "    }\n",
              "</style>\n",
              "<table border=\"1\" class=\"dataframe\">\n",
              "  <thead>\n",
              "    <tr style=\"text-align: right;\">\n",
              "      <th></th>\n",
              "      <th>name</th>\n",
              "      <th>balance</th>\n",
              "    </tr>\n",
              "  </thead>\n",
              "  <tbody>\n",
              "    <tr>\n",
              "      <th>3</th>\n",
              "      <td>siddharth</td>\n",
              "      <td>41</td>\n",
              "    </tr>\n",
              "    <tr>\n",
              "      <th>4</th>\n",
              "      <td>viren</td>\n",
              "      <td>32</td>\n",
              "    </tr>\n",
              "  </tbody>\n",
              "</table>\n",
              "</div>"
            ],
            "text/plain": [
              "        name  balance\n",
              "3  siddharth       41\n",
              "4      viren       32"
            ]
          },
          "metadata": {
            "tags": []
          },
          "execution_count": 58
        }
      ]
    },
    {
      "cell_type": "markdown",
      "metadata": {
        "id": "oJoGl8zCHftr",
        "colab_type": "text"
      },
      "source": [
        "### Map"
      ]
    },
    {
      "cell_type": "code",
      "metadata": {
        "id": "pTKClP5FHfts",
        "colab_type": "code",
        "colab": {}
      },
      "source": [
        "df['name'] = df['name'].map(lambda x: \"codevector \"+ x)"
      ],
      "execution_count": null,
      "outputs": []
    },
    {
      "cell_type": "code",
      "metadata": {
        "id": "hRNn7DR_Hftu",
        "colab_type": "code",
        "colab": {},
        "outputId": "a0730e77-c5e9-4030-b930-ef3ebd3e709a"
      },
      "source": [
        "df"
      ],
      "execution_count": null,
      "outputs": [
        {
          "output_type": "execute_result",
          "data": {
            "text/html": [
              "<div>\n",
              "<style scoped>\n",
              "    .dataframe tbody tr th:only-of-type {\n",
              "        vertical-align: middle;\n",
              "    }\n",
              "\n",
              "    .dataframe tbody tr th {\n",
              "        vertical-align: top;\n",
              "    }\n",
              "\n",
              "    .dataframe thead th {\n",
              "        text-align: right;\n",
              "    }\n",
              "</style>\n",
              "<table border=\"1\" class=\"dataframe\">\n",
              "  <thead>\n",
              "    <tr style=\"text-align: right;\">\n",
              "      <th></th>\n",
              "      <th>name</th>\n",
              "      <th>balance</th>\n",
              "    </tr>\n",
              "  </thead>\n",
              "  <tbody>\n",
              "    <tr>\n",
              "      <th>0</th>\n",
              "      <td>codevector vinay</td>\n",
              "      <td>24</td>\n",
              "    </tr>\n",
              "    <tr>\n",
              "      <th>1</th>\n",
              "      <td>codevector kuldeep</td>\n",
              "      <td>16</td>\n",
              "    </tr>\n",
              "    <tr>\n",
              "      <th>2</th>\n",
              "      <td>codevector abhishek</td>\n",
              "      <td>22</td>\n",
              "    </tr>\n",
              "    <tr>\n",
              "      <th>3</th>\n",
              "      <td>codevector siddharth</td>\n",
              "      <td>41</td>\n",
              "    </tr>\n",
              "    <tr>\n",
              "      <th>4</th>\n",
              "      <td>codevector viren</td>\n",
              "      <td>32</td>\n",
              "    </tr>\n",
              "  </tbody>\n",
              "</table>\n",
              "</div>"
            ],
            "text/plain": [
              "                   name  balance\n",
              "0      codevector vinay       24\n",
              "1    codevector kuldeep       16\n",
              "2   codevector abhishek       22\n",
              "3  codevector siddharth       41\n",
              "4      codevector viren       32"
            ]
          },
          "metadata": {
            "tags": []
          },
          "execution_count": 62
        }
      ]
    },
    {
      "cell_type": "code",
      "metadata": {
        "id": "CzgO1n1MHftw",
        "colab_type": "code",
        "colab": {},
        "outputId": "2af4004c-4d5b-4a2f-c022-0f9ff6f5637d"
      },
      "source": [
        "def example_function(x):\n",
        "    return \"from example \"+ x\n",
        "\n",
        "df['name'] = df['name'].map(example_function)\n",
        "df"
      ],
      "execution_count": null,
      "outputs": [
        {
          "output_type": "execute_result",
          "data": {
            "text/html": [
              "<div>\n",
              "<style scoped>\n",
              "    .dataframe tbody tr th:only-of-type {\n",
              "        vertical-align: middle;\n",
              "    }\n",
              "\n",
              "    .dataframe tbody tr th {\n",
              "        vertical-align: top;\n",
              "    }\n",
              "\n",
              "    .dataframe thead th {\n",
              "        text-align: right;\n",
              "    }\n",
              "</style>\n",
              "<table border=\"1\" class=\"dataframe\">\n",
              "  <thead>\n",
              "    <tr style=\"text-align: right;\">\n",
              "      <th></th>\n",
              "      <th>name</th>\n",
              "      <th>balance</th>\n",
              "    </tr>\n",
              "  </thead>\n",
              "  <tbody>\n",
              "    <tr>\n",
              "      <th>0</th>\n",
              "      <td>from example codevector vinay</td>\n",
              "      <td>24</td>\n",
              "    </tr>\n",
              "    <tr>\n",
              "      <th>1</th>\n",
              "      <td>from example codevector kuldeep</td>\n",
              "      <td>16</td>\n",
              "    </tr>\n",
              "    <tr>\n",
              "      <th>2</th>\n",
              "      <td>from example codevector abhishek</td>\n",
              "      <td>22</td>\n",
              "    </tr>\n",
              "    <tr>\n",
              "      <th>3</th>\n",
              "      <td>from example codevector siddharth</td>\n",
              "      <td>41</td>\n",
              "    </tr>\n",
              "    <tr>\n",
              "      <th>4</th>\n",
              "      <td>from example codevector viren</td>\n",
              "      <td>32</td>\n",
              "    </tr>\n",
              "  </tbody>\n",
              "</table>\n",
              "</div>"
            ],
            "text/plain": [
              "                                name  balance\n",
              "0      from example codevector vinay       24\n",
              "1    from example codevector kuldeep       16\n",
              "2   from example codevector abhishek       22\n",
              "3  from example codevector siddharth       41\n",
              "4      from example codevector viren       32"
            ]
          },
          "metadata": {
            "tags": []
          },
          "execution_count": 63
        }
      ]
    },
    {
      "cell_type": "markdown",
      "metadata": {
        "id": "GyDdWssyHfty",
        "colab_type": "text"
      },
      "source": [
        "### Apply"
      ]
    },
    {
      "cell_type": "code",
      "metadata": {
        "id": "oEb6Ow-OHftz",
        "colab_type": "code",
        "colab": {},
        "outputId": "0b81d3df-cecd-49db-95aa-fb9f464cd0ff"
      },
      "source": [
        "def example_function(row):\n",
        "    row['new_balance'] = int(row.balance) + 10\n",
        "    return row\n",
        "\n",
        "df.apply(example_function, axis='columns')"
      ],
      "execution_count": null,
      "outputs": [
        {
          "output_type": "execute_result",
          "data": {
            "text/html": [
              "<div>\n",
              "<style scoped>\n",
              "    .dataframe tbody tr th:only-of-type {\n",
              "        vertical-align: middle;\n",
              "    }\n",
              "\n",
              "    .dataframe tbody tr th {\n",
              "        vertical-align: top;\n",
              "    }\n",
              "\n",
              "    .dataframe thead th {\n",
              "        text-align: right;\n",
              "    }\n",
              "</style>\n",
              "<table border=\"1\" class=\"dataframe\">\n",
              "  <thead>\n",
              "    <tr style=\"text-align: right;\">\n",
              "      <th></th>\n",
              "      <th>name</th>\n",
              "      <th>balance</th>\n",
              "      <th>new_balance</th>\n",
              "    </tr>\n",
              "  </thead>\n",
              "  <tbody>\n",
              "    <tr>\n",
              "      <th>0</th>\n",
              "      <td>from example codevector vinay</td>\n",
              "      <td>24</td>\n",
              "      <td>34</td>\n",
              "    </tr>\n",
              "    <tr>\n",
              "      <th>1</th>\n",
              "      <td>from example codevector kuldeep</td>\n",
              "      <td>16</td>\n",
              "      <td>26</td>\n",
              "    </tr>\n",
              "    <tr>\n",
              "      <th>2</th>\n",
              "      <td>from example codevector abhishek</td>\n",
              "      <td>22</td>\n",
              "      <td>32</td>\n",
              "    </tr>\n",
              "    <tr>\n",
              "      <th>3</th>\n",
              "      <td>from example codevector siddharth</td>\n",
              "      <td>41</td>\n",
              "      <td>51</td>\n",
              "    </tr>\n",
              "    <tr>\n",
              "      <th>4</th>\n",
              "      <td>from example codevector viren</td>\n",
              "      <td>32</td>\n",
              "      <td>42</td>\n",
              "    </tr>\n",
              "  </tbody>\n",
              "</table>\n",
              "</div>"
            ],
            "text/plain": [
              "                                name  balance  new_balance\n",
              "0      from example codevector vinay       24           34\n",
              "1    from example codevector kuldeep       16           26\n",
              "2   from example codevector abhishek       22           32\n",
              "3  from example codevector siddharth       41           51\n",
              "4      from example codevector viren       32           42"
            ]
          },
          "metadata": {
            "tags": []
          },
          "execution_count": 71
        }
      ]
    },
    {
      "cell_type": "code",
      "metadata": {
        "id": "63HqYv-UHft1",
        "colab_type": "code",
        "colab": {}
      },
      "source": [
        ""
      ],
      "execution_count": null,
      "outputs": []
    }
  ]
}