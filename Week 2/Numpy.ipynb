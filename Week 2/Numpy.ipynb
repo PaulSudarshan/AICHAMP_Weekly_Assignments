{
  "nbformat": 4,
  "nbformat_minor": 0,
  "metadata": {
    "kernelspec": {
      "display_name": "Python 3.7.3 64-bit ('cv-nd': conda)",
      "language": "python",
      "name": "python37364bitcvndcondab14a51f27e0e4dd69b303ff47403d3bd"
    },
    "language_info": {
      "codemirror_mode": {
        "name": "ipython",
        "version": 3
      },
      "file_extension": ".py",
      "mimetype": "text/x-python",
      "name": "python",
      "nbconvert_exporter": "python",
      "pygments_lexer": "ipython3",
      "version": "3.7.3"
    },
    "colab": {
      "name": "Numpy.ipynb",
      "provenance": []
    }
  },
  "cells": [
    {
      "cell_type": "code",
      "metadata": {
        "id": "uFUVcJyFHR51",
        "colab_type": "code",
        "colab": {}
      },
      "source": [
        "import numpy as np"
      ],
      "execution_count": null,
      "outputs": []
    },
    {
      "cell_type": "markdown",
      "metadata": {
        "id": "VCHhAjK7HR55",
        "colab_type": "text"
      },
      "source": [
        "# Numpy is used for fast vector operations"
      ]
    },
    {
      "cell_type": "code",
      "metadata": {
        "id": "8HKD1zSNHR55",
        "colab_type": "code",
        "colab": {}
      },
      "source": [
        "normal_list = [1, 2, 3]\n",
        "numpy_array = np.array(normal_list)"
      ],
      "execution_count": null,
      "outputs": []
    },
    {
      "cell_type": "markdown",
      "metadata": {
        "id": "l380wdRxHR58",
        "colab_type": "text"
      },
      "source": [
        "# Let's try to compare both for large arrays!"
      ]
    },
    {
      "cell_type": "code",
      "metadata": {
        "id": "KFeivCkOHR58",
        "colab_type": "code",
        "colab": {}
      },
      "source": [
        "normal_list = lisvt(range(1,10000000))\n",
        "numpy_array = np.array(normal_list)\n",
        "\n",
        "# print(\"Normal array: {} \\nType: {} \\n\\n -------- \\n\\nNumpy array: {} \\nType: {}\".format(normal_list, type(normal_list), numpy_array, type(numpy_array)))"
      ],
      "execution_count": null,
      "outputs": []
    },
    {
      "cell_type": "markdown",
      "metadata": {
        "id": "XBsF-zv6HR5_",
        "colab_type": "text"
      },
      "source": [
        "# How to subtract 1 from each element?"
      ]
    },
    {
      "cell_type": "code",
      "metadata": {
        "id": "bPItFoMBHR5_",
        "colab_type": "code",
        "colab": {},
        "outputId": "9a1e48d8-9185-4b0c-ccd7-cf1232e7a1bc"
      },
      "source": [
        "%%time\n",
        "\n",
        "# List compreshension method\n",
        "print(\"List compreshenison method: \")\n",
        "a = [x - 1 for x in normal_list] "
      ],
      "execution_count": null,
      "outputs": [
        {
          "output_type": "stream",
          "text": [
            "List compreshenison method: \n",
            "CPU times: user 14.6 s, sys: 15.9 s, total: 30.5 s\n",
            "Wall time: 8min 32s\n"
          ],
          "name": "stdout"
        }
      ]
    },
    {
      "cell_type": "code",
      "metadata": {
        "id": "WditQKNMHR6D",
        "colab_type": "code",
        "colab": {},
        "outputId": "4c0e8e4d-79d1-4233-d539-2024a1c47c36"
      },
      "source": [
        "%%time\n",
        "\n",
        "# Loop method\n",
        "print(\"Loop method: \")\n",
        "\n",
        "a = []\n",
        "for x in normal_list:\n",
        "    a.append(x-1)"
      ],
      "execution_count": null,
      "outputs": [
        {
          "output_type": "stream",
          "text": [
            "Loop method: \n",
            "CPU times: user 21 s, sys: 11 s, total: 32 s\n",
            "Wall time: 8min 31s\n"
          ],
          "name": "stdout"
        }
      ]
    },
    {
      "cell_type": "code",
      "metadata": {
        "id": "jVlYNSONHR6F",
        "colab_type": "code",
        "colab": {},
        "outputId": "7e851f82-dffa-4c5e-c987-c9b41bfacd6b"
      },
      "source": [
        "%%time\n",
        "\n",
        "# Numpy\n",
        "print(\"Numpy method: \")\n",
        "\n",
        "a = numpy_array - 1"
      ],
      "execution_count": null,
      "outputs": [
        {
          "output_type": "stream",
          "text": [
            "Numpy method: \n",
            "CPU times: user 1.37 s, sys: 3.13 s, total: 4.49 s\n",
            "Wall time: 1min 47s\n"
          ],
          "name": "stdout"
        }
      ]
    },
    {
      "cell_type": "markdown",
      "metadata": {
        "id": "SKpX5gc-HR6I",
        "colab_type": "text"
      },
      "source": [
        "# Numpy is fast and easy!"
      ]
    },
    {
      "cell_type": "code",
      "metadata": {
        "id": "vfdOU-w9HR6I",
        "colab_type": "code",
        "colab": {}
      },
      "source": [
        "a = np.array([4, 5, 7, 89, 343, 767, 23])"
      ],
      "execution_count": null,
      "outputs": []
    },
    {
      "cell_type": "code",
      "metadata": {
        "id": "LirBUKtLHR6L",
        "colab_type": "code",
        "colab": {},
        "outputId": "257a0222-0941-4741-afa6-9dafce291718"
      },
      "source": [
        "print(\"numpy array a: {}\\ntype of a: {}\\n\".format(a, type(a)))\n",
        "\n",
        "print(\"What is the 4th element? : {}\".format(a[3]))\n",
        "print(\"What is the first element? : {}\".format(a[0]))\n",
        "print(\"What is the last element? : {}\".format(a[-1]))\n",
        "print(\"What is the second last element? : {}\".format(a[-2]))"
      ],
      "execution_count": null,
      "outputs": [
        {
          "output_type": "stream",
          "text": [
            "numpy array a: [  4   5   7  89 343 767  23]\n",
            "type of a: <class 'numpy.ndarray'>\n",
            "\n",
            "What is the 4th element? : 89\n",
            "What is the first element? : 4\n",
            "What is the last element? : 23\n",
            "What is the second last element? : 767\n"
          ],
          "name": "stdout"
        }
      ]
    },
    {
      "cell_type": "markdown",
      "metadata": {
        "id": "pHBwnOuBHR6N",
        "colab_type": "text"
      },
      "source": [
        "# Finding the shape of the array"
      ]
    },
    {
      "cell_type": "code",
      "metadata": {
        "id": "QLhcBQzwHR6N",
        "colab_type": "code",
        "colab": {},
        "outputId": "0950d57b-a5fc-4064-d3ee-5d3edcfc0da9"
      },
      "source": [
        "a = np.array([[3, 4],\n",
        "              [5, 7],\n",
        "              [9, 77]])\n",
        "\n",
        "print(\"array a:\\n {}\\narray shape: {}\".format(a,\n",
        "                                              a.shape))\n",
        "\n",
        "rows, cols = a.shape\n",
        "\n",
        "print(\"Rows: {}\\nColumns: {}\".format(rows, cols))"
      ],
      "execution_count": null,
      "outputs": [
        {
          "output_type": "stream",
          "text": [
            "array a:\n",
            " [[ 3  4]\n",
            " [ 5  7]\n",
            " [ 9 77]]\n",
            "array shape: (3, 2)\n",
            "Rows: 3\n",
            "Columns: 2\n"
          ],
          "name": "stdout"
        }
      ]
    },
    {
      "cell_type": "markdown",
      "metadata": {
        "id": "SVlF7Pv1HR6Q",
        "colab_type": "text"
      },
      "source": [
        "# Handy numpy functions"
      ]
    },
    {
      "cell_type": "code",
      "metadata": {
        "id": "-zuKjzFfHR6Q",
        "colab_type": "code",
        "colab": {},
        "outputId": "9570de3f-973b-4a30-a74a-1560d080e1eb"
      },
      "source": [
        "a = np.zeros((4,4))\n",
        "a"
      ],
      "execution_count": null,
      "outputs": [
        {
          "output_type": "execute_result",
          "data": {
            "text/plain": [
              "array([[0., 0., 0., 0.],\n",
              "       [0., 0., 0., 0.],\n",
              "       [0., 0., 0., 0.],\n",
              "       [0., 0., 0., 0.]])"
            ]
          },
          "metadata": {
            "tags": []
          },
          "execution_count": 5
        }
      ]
    },
    {
      "cell_type": "code",
      "metadata": {
        "id": "uUoUy-8AHR6T",
        "colab_type": "code",
        "colab": {},
        "outputId": "3a99ed30-7b02-4f99-97d9-cf6f0e287145"
      },
      "source": [
        "a = np.ones((2, 3))\n",
        "a"
      ],
      "execution_count": null,
      "outputs": [
        {
          "output_type": "execute_result",
          "data": {
            "text/plain": [
              "array([[1., 1., 1.],\n",
              "       [1., 1., 1.]])"
            ]
          },
          "metadata": {
            "tags": []
          },
          "execution_count": 9
        }
      ]
    },
    {
      "cell_type": "code",
      "metadata": {
        "id": "Y5_z-b4HHR6V",
        "colab_type": "code",
        "colab": {},
        "outputId": "f5a4d44e-8b26-4f44-e586-1401a5992179"
      },
      "source": [
        "a = np.eye(5)\n",
        "a"
      ],
      "execution_count": null,
      "outputs": [
        {
          "output_type": "execute_result",
          "data": {
            "text/plain": [
              "array([[1., 0., 0., 0., 0.],\n",
              "       [0., 1., 0., 0., 0.],\n",
              "       [0., 0., 1., 0., 0.],\n",
              "       [0., 0., 0., 1., 0.],\n",
              "       [0., 0., 0., 0., 1.]])"
            ]
          },
          "metadata": {
            "tags": []
          },
          "execution_count": 10
        }
      ]
    },
    {
      "cell_type": "code",
      "metadata": {
        "id": "Xng2F4T5HR6X",
        "colab_type": "code",
        "colab": {},
        "outputId": "5d7f9bc5-d1b3-4549-9a3c-39f2dc521c28"
      },
      "source": [
        "a = np.full((3,3), 555)\n",
        "a"
      ],
      "execution_count": null,
      "outputs": [
        {
          "output_type": "execute_result",
          "data": {
            "text/plain": [
              "array([[555, 555, 555],\n",
              "       [555, 555, 555],\n",
              "       [555, 555, 555]])"
            ]
          },
          "metadata": {
            "tags": []
          },
          "execution_count": 11
        }
      ]
    },
    {
      "cell_type": "code",
      "metadata": {
        "id": "2M_8uYfZHR6b",
        "colab_type": "code",
        "colab": {},
        "outputId": "365cc393-64e7-4d13-e267-d4185ab957c0"
      },
      "source": [
        "a = np.random.randint(1, 30, size=(4, 8))\n",
        "a"
      ],
      "execution_count": null,
      "outputs": [
        {
          "output_type": "execute_result",
          "data": {
            "text/plain": [
              "array([[22,  5, 20, 26, 23, 25,  6,  3],\n",
              "       [12,  4, 20, 10, 28, 18, 21, 13],\n",
              "       [19,  4,  1,  5, 11, 29,  9, 29],\n",
              "       [ 3, 17, 13, 20, 25, 15, 19, 26]])"
            ]
          },
          "metadata": {
            "tags": []
          },
          "execution_count": 17
        }
      ]
    },
    {
      "cell_type": "code",
      "metadata": {
        "id": "BPlcSCnLHR6d",
        "colab_type": "code",
        "colab": {},
        "outputId": "97feb13e-ccf9-455a-c228-0f3c28e4f15e"
      },
      "source": [
        "a = np.random.random((5,5))\n",
        "a"
      ],
      "execution_count": null,
      "outputs": [
        {
          "output_type": "execute_result",
          "data": {
            "text/plain": [
              "array([[0.0735311 , 0.54719671, 0.40940399, 0.71902975, 0.5539599 ],\n",
              "       [0.87589601, 0.22286364, 0.28840412, 0.6714646 , 0.49373039],\n",
              "       [0.6887555 , 0.5340898 , 0.68114597, 0.95924657, 0.3645496 ],\n",
              "       [0.30846282, 0.85385316, 0.73063915, 0.14620541, 0.45924258],\n",
              "       [0.28967141, 0.09916125, 0.39629238, 0.33648872, 0.04158296]])"
            ]
          },
          "metadata": {
            "tags": []
          },
          "execution_count": 18
        }
      ]
    },
    {
      "cell_type": "markdown",
      "metadata": {
        "id": "q7Uy1InkHR6f",
        "colab_type": "text"
      },
      "source": [
        "# Array Indexing"
      ]
    },
    {
      "cell_type": "code",
      "metadata": {
        "id": "FNZ9Vcu4HR6g",
        "colab_type": "code",
        "colab": {},
        "outputId": "b05fbd4c-9540-420c-ef19-d58bb3380e8a"
      },
      "source": [
        "a = np.random.randint(4, 99, size=(8,8))\n",
        "a"
      ],
      "execution_count": null,
      "outputs": [
        {
          "output_type": "execute_result",
          "data": {
            "text/plain": [
              "array([[46, 69, 44, 45, 31, 90, 33,  7],\n",
              "       [65, 37, 39, 55, 98, 54, 46, 81],\n",
              "       [89, 25, 63, 48, 59, 90, 91, 83],\n",
              "       [36, 67, 40, 63, 54, 21, 71, 74],\n",
              "       [86, 90, 21, 68, 45, 95, 85, 36],\n",
              "       [61, 64, 29,  4, 65, 15, 88, 30],\n",
              "       [12, 20,  7, 72, 71, 12, 75,  6],\n",
              "       [48, 38, 12, 78, 32,  4,  7, 63]])"
            ]
          },
          "metadata": {
            "tags": []
          },
          "execution_count": 19
        }
      ]
    },
    {
      "cell_type": "code",
      "metadata": {
        "id": "j7rlcRBHHR6i",
        "colab_type": "code",
        "colab": {},
        "outputId": "b850d33d-cb5e-4266-f473-438168eba7c9"
      },
      "source": [
        "print(\"First row: {}\".format(a[0]))\n",
        "print(\"Second row: {}\".format(a[1]))\n",
        "\n",
        "print(\"Last row: {}\".format(a[-1]))\n",
        "print(\"Second Last row: {}\".format(a[-2]))"
      ],
      "execution_count": null,
      "outputs": [
        {
          "output_type": "stream",
          "text": [
            "First row: [46 69 44 45 31 90 33  7]\n",
            "Second row: [65 37 39 55 98 54 46 81]\n",
            "Last row: [48 38 12 78 32  4  7 63]\n",
            "Second Last row: [12 20  7 72 71 12 75  6]\n"
          ],
          "name": "stdout"
        }
      ]
    },
    {
      "cell_type": "code",
      "metadata": {
        "id": "7YVUY2zNHR6l",
        "colab_type": "code",
        "colab": {},
        "outputId": "3c79f1e0-7f87-4db7-e2a0-13d0fd52e40c"
      },
      "source": [
        "print(\"First 3 rows:\\n {}\".format(a[:3]))\n",
        "print(\"First 3 rows:\\n {}\".format(a[:3, :]))"
      ],
      "execution_count": null,
      "outputs": [
        {
          "output_type": "stream",
          "text": [
            "First 3 rows:\n",
            " [[46 69 44 45 31 90 33  7]\n",
            " [65 37 39 55 98 54 46 81]\n",
            " [89 25 63 48 59 90 91 83]]\n",
            "First 3 rows:\n",
            " [[46 69 44 45 31 90 33  7]\n",
            " [65 37 39 55 98 54 46 81]\n",
            " [89 25 63 48 59 90 91 83]]\n"
          ],
          "name": "stdout"
        }
      ]
    },
    {
      "cell_type": "code",
      "metadata": {
        "id": "ckem_q7UHR6n",
        "colab_type": "code",
        "colab": {},
        "outputId": "3b4ef087-df9c-4b24-b577-0f468cc2f2c6"
      },
      "source": [
        "print(\"First 3 columns:\\n {}\".format(a[:, :3]))"
      ],
      "execution_count": null,
      "outputs": [
        {
          "output_type": "stream",
          "text": [
            "First 3 columns:\n",
            " [[46 69 44]\n",
            " [65 37 39]\n",
            " [89 25 63]\n",
            " [36 67 40]\n",
            " [86 90 21]\n",
            " [61 64 29]\n",
            " [12 20  7]\n",
            " [48 38 12]]\n"
          ],
          "name": "stdout"
        }
      ]
    },
    {
      "cell_type": "code",
      "metadata": {
        "id": "LVK32bCzHR6p",
        "colab_type": "code",
        "colab": {},
        "outputId": "795d227e-9504-409f-8f0f-03d1dd54e958"
      },
      "source": [
        "print(\"First 3 rows and 2 columns:\\n {}\".format(a[:3,:2]))"
      ],
      "execution_count": null,
      "outputs": [
        {
          "output_type": "stream",
          "text": [
            "First 3 rows and 2 columns:\n",
            " [[46 69]\n",
            " [65 37]\n",
            " [89 25]]\n"
          ],
          "name": "stdout"
        }
      ]
    },
    {
      "cell_type": "code",
      "metadata": {
        "id": "00iOmzmdHR6r",
        "colab_type": "code",
        "colab": {},
        "outputId": "727403f3-16f6-4386-9a09-0382c5e6b729"
      },
      "source": [
        "print(\"Last 3 rows and last 2 columns:\\n {}\".format(a[-3:,-2:]))"
      ],
      "execution_count": null,
      "outputs": [
        {
          "output_type": "stream",
          "text": [
            "Last 3 rows and last 2 columns:\n",
            " [[88 30]\n",
            " [75  6]\n",
            " [ 7 63]]\n"
          ],
          "name": "stdout"
        }
      ]
    },
    {
      "cell_type": "code",
      "metadata": {
        "id": "SzQdGZ7aHR6s",
        "colab_type": "code",
        "colab": {},
        "outputId": "5d57f614-1b5c-48d7-9f2f-d16f63c8c7d1"
      },
      "source": [
        "print(\"From 2nd row to 4th row and 2nd column to 5th column:\\n {}\".format(a[1:5,1:6]))"
      ],
      "execution_count": null,
      "outputs": [
        {
          "output_type": "stream",
          "text": [
            "From 2nd row to 4th row and 2nd column to 5th column:\n",
            " [[37 39 55 98 54]\n",
            " [25 63 48 59 90]\n",
            " [67 40 63 54 21]\n",
            " [90 21 68 45 95]]\n"
          ],
          "name": "stdout"
        }
      ]
    },
    {
      "cell_type": "markdown",
      "metadata": {
        "id": "MG7qPDHoHR6u",
        "colab_type": "text"
      },
      "source": [
        "## Easy to remember\n",
        "\n",
        "- [row_start:row_end, col_start:col_end]\n",
        "- \"-\" sign means from end\n",
        "- keeping it empty (no number) means till the end\n",
        "- upper boundary number is one extra than required"
      ]
    },
    {
      "cell_type": "code",
      "metadata": {
        "id": "z8YaOuwjHR6v",
        "colab_type": "code",
        "colab": {},
        "outputId": "d7e35e4b-df0e-4244-eb4b-8ee057bff6ab"
      },
      "source": [
        "print(\"Steps!\\n{}\".format(a[::2]))"
      ],
      "execution_count": null,
      "outputs": [
        {
          "output_type": "stream",
          "text": [
            "Steps!\n",
            "[[32 43 18 68 35 26]\n",
            " [24 50 45 66 49 55]\n",
            " [31  8 23  4 46 30]]\n"
          ],
          "name": "stdout"
        }
      ]
    },
    {
      "cell_type": "markdown",
      "metadata": {
        "id": "NdnuL09VHR6x",
        "colab_type": "text"
      },
      "source": [
        "### Boolean: Get all elements greater than x"
      ]
    },
    {
      "cell_type": "code",
      "metadata": {
        "id": "Shlf5GWVHR6x",
        "colab_type": "code",
        "colab": {},
        "outputId": "2778ea55-7386-4404-bfc9-5bfe7867c717"
      },
      "source": [
        "x = 50\n",
        "\n",
        "b = a > x\n",
        "b"
      ],
      "execution_count": null,
      "outputs": [
        {
          "output_type": "execute_result",
          "data": {
            "text/plain": [
              "array([[False,  True, False, False, False,  True, False, False],\n",
              "       [ True, False, False,  True,  True,  True, False,  True],\n",
              "       [ True, False,  True, False,  True,  True,  True,  True],\n",
              "       [False,  True, False,  True,  True, False,  True,  True],\n",
              "       [ True,  True, False,  True, False,  True,  True, False],\n",
              "       [ True,  True, False, False,  True, False,  True, False],\n",
              "       [False, False, False,  True,  True, False,  True, False],\n",
              "       [False, False, False,  True, False, False, False,  True]])"
            ]
          },
          "metadata": {
            "tags": []
          },
          "execution_count": 40
        }
      ]
    },
    {
      "cell_type": "code",
      "metadata": {
        "id": "mwtjrF3_HR60",
        "colab_type": "code",
        "colab": {},
        "outputId": "7285a441-1164-4ca7-ff56-c8d55c6fd060"
      },
      "source": [
        "a[b]"
      ],
      "execution_count": null,
      "outputs": [
        {
          "output_type": "execute_result",
          "data": {
            "text/plain": [
              "array([69, 90, 65, 55, 98, 54, 81, 89, 63, 59, 90, 91, 83, 67, 63, 54, 71,\n",
              "       74, 86, 90, 68, 95, 85, 61, 64, 65, 88, 72, 71, 75, 78, 63])"
            ]
          },
          "metadata": {
            "tags": []
          },
          "execution_count": 41
        }
      ]
    },
    {
      "cell_type": "code",
      "metadata": {
        "id": "q2AI0MYiHR62",
        "colab_type": "code",
        "colab": {},
        "outputId": "578f867e-9af0-43db-fb70-17ed869f9f5e"
      },
      "source": [
        "a[a>x]"
      ],
      "execution_count": null,
      "outputs": [
        {
          "output_type": "execute_result",
          "data": {
            "text/plain": [
              "array([69, 90, 65, 55, 98, 54, 81, 89, 63, 59, 90, 91, 83, 67, 63, 54, 71,\n",
              "       74, 86, 90, 68, 95, 85, 61, 64, 65, 88, 72, 71, 75, 78, 63])"
            ]
          },
          "metadata": {
            "tags": []
          },
          "execution_count": 42
        }
      ]
    },
    {
      "cell_type": "code",
      "metadata": {
        "id": "IDPdPBnOHR64",
        "colab_type": "code",
        "colab": {},
        "outputId": "36f2843c-50e9-4b16-b514-b6f52160acc0"
      },
      "source": [
        "a==90"
      ],
      "execution_count": null,
      "outputs": [
        {
          "output_type": "execute_result",
          "data": {
            "text/plain": [
              "array([[False, False, False, False, False,  True, False, False],\n",
              "       [False, False, False, False, False, False, False, False],\n",
              "       [False, False, False, False, False,  True, False, False],\n",
              "       [False, False, False, False, False, False, False, False],\n",
              "       [False,  True, False, False, False, False, False, False],\n",
              "       [False, False, False, False, False, False, False, False],\n",
              "       [False, False, False, False, False, False, False, False],\n",
              "       [False, False, False, False, False, False, False, False]])"
            ]
          },
          "metadata": {
            "tags": []
          },
          "execution_count": 45
        }
      ]
    },
    {
      "cell_type": "code",
      "metadata": {
        "id": "hV2B_smSHR66",
        "colab_type": "code",
        "colab": {},
        "outputId": "b61581da-0ce0-488d-aff4-59501900f9ee"
      },
      "source": [
        "a[a%2==0]"
      ],
      "execution_count": null,
      "outputs": [
        {
          "output_type": "execute_result",
          "data": {
            "text/plain": [
              "array([46, 44, 90, 98, 54, 46, 48, 90, 36, 40, 54, 74, 86, 90, 68, 36, 64,\n",
              "        4, 88, 30, 12, 20, 72, 12,  6, 48, 38, 12, 78, 32,  4])"
            ]
          },
          "metadata": {
            "tags": []
          },
          "execution_count": 47
        }
      ]
    },
    {
      "cell_type": "code",
      "metadata": {
        "id": "VPeZD2XVHR68",
        "colab_type": "code",
        "colab": {},
        "outputId": "de3aa39e-e71b-432a-9150-1269d3e7427c"
      },
      "source": [
        "a = np.random.randint(4, 77,size=(5,6))\n",
        "a"
      ],
      "execution_count": null,
      "outputs": [
        {
          "output_type": "execute_result",
          "data": {
            "text/plain": [
              "array([[32, 43, 18, 68, 35, 26],\n",
              "       [ 8, 39, 13, 29, 42,  5],\n",
              "       [24, 50, 45, 66, 49, 55],\n",
              "       [62, 37, 45, 36, 46, 46],\n",
              "       [31,  8, 23,  4, 46, 30]])"
            ]
          },
          "metadata": {
            "tags": []
          },
          "execution_count": 7
        }
      ]
    },
    {
      "cell_type": "code",
      "metadata": {
        "id": "qI_DPHEpHR6_",
        "colab_type": "code",
        "colab": {},
        "outputId": "c82e4de0-46f1-43df-ffe3-e5561f631100"
      },
      "source": [
        "a.reshape((3,10))"
      ],
      "execution_count": null,
      "outputs": [
        {
          "output_type": "execute_result",
          "data": {
            "text/plain": [
              "array([[32, 43, 18, 68, 35, 26,  8, 39, 13, 29],\n",
              "       [42,  5, 24, 50, 45, 66, 49, 55, 62, 37],\n",
              "       [45, 36, 46, 46, 31,  8, 23,  4, 46, 30]])"
            ]
          },
          "metadata": {
            "tags": []
          },
          "execution_count": 14
        }
      ]
    },
    {
      "cell_type": "markdown",
      "metadata": {
        "id": "DY62XeIIHR7B",
        "colab_type": "text"
      },
      "source": [
        "## Arithmetic Operations"
      ]
    },
    {
      "cell_type": "code",
      "metadata": {
        "id": "Rr5zp0kaHR7C",
        "colab_type": "code",
        "colab": {}
      },
      "source": [
        "a = np.random.randint(0, 10, size=(5,5))\n",
        "b = np.random.randint(0, 10, size=(5,5))"
      ],
      "execution_count": null,
      "outputs": []
    },
    {
      "cell_type": "code",
      "metadata": {
        "id": "UZlny0qUHR7D",
        "colab_type": "code",
        "colab": {},
        "outputId": "f142559e-78de-4599-a6ac-54ec2397d6a7"
      },
      "source": [
        "print(\"A:\\n{}\\n\\nB:\\n{}\".format(a, b))"
      ],
      "execution_count": null,
      "outputs": [
        {
          "output_type": "stream",
          "text": [
            "A:\n",
            "[[7 8 2 0 3]\n",
            " [4 2 5 3 0]\n",
            " [0 4 6 7 3]\n",
            " [3 0 5 6 6]\n",
            " [4 8 3 4 1]]\n",
            "\n",
            "B:\n",
            "[[8 8 8 7 1]\n",
            " [8 5 3 5 2]\n",
            " [8 9 5 1 9]\n",
            " [6 7 5 7 7]\n",
            " [5 1 8 4 3]]\n"
          ],
          "name": "stdout"
        }
      ]
    },
    {
      "cell_type": "markdown",
      "metadata": {
        "id": "bIl0KIbIHR7F",
        "colab_type": "text"
      },
      "source": [
        "### All operations are elementwise (addition, subtraction, multiplication, division)"
      ]
    },
    {
      "cell_type": "code",
      "metadata": {
        "id": "M2Rrg-qYHR7G",
        "colab_type": "code",
        "colab": {},
        "outputId": "38782bbb-0576-45be-f31f-deb23306dfca"
      },
      "source": [
        "a+b"
      ],
      "execution_count": null,
      "outputs": [
        {
          "output_type": "execute_result",
          "data": {
            "text/plain": [
              "array([[15, 16, 10,  7,  4],\n",
              "       [12,  7,  8,  8,  2],\n",
              "       [ 8, 13, 11,  8, 12],\n",
              "       [ 9,  7, 10, 13, 13],\n",
              "       [ 9,  9, 11,  8,  4]])"
            ]
          },
          "metadata": {
            "tags": []
          },
          "execution_count": 19
        }
      ]
    },
    {
      "cell_type": "code",
      "metadata": {
        "id": "lwN7FaUwHR7I",
        "colab_type": "code",
        "colab": {},
        "outputId": "d6078982-a54f-4a30-c0f2-33f5feb84c07"
      },
      "source": [
        "a-b"
      ],
      "execution_count": null,
      "outputs": [
        {
          "output_type": "execute_result",
          "data": {
            "text/plain": [
              "array([[-1,  0, -6, -7,  2],\n",
              "       [-4, -3,  2, -2, -2],\n",
              "       [-8, -5,  1,  6, -6],\n",
              "       [-3, -7,  0, -1, -1],\n",
              "       [-1,  7, -5,  0, -2]])"
            ]
          },
          "metadata": {
            "tags": []
          },
          "execution_count": 20
        }
      ]
    },
    {
      "cell_type": "code",
      "metadata": {
        "id": "NUAPGlrVHR7K",
        "colab_type": "code",
        "colab": {},
        "outputId": "f7b827fe-baaa-45aa-bc6b-80f3dad32a05"
      },
      "source": [
        "## Note: this is not matrix multiplication\n",
        "\n",
        "a*b"
      ],
      "execution_count": null,
      "outputs": [
        {
          "output_type": "execute_result",
          "data": {
            "text/plain": [
              "array([[56, 64, 16,  0,  3],\n",
              "       [32, 10, 15, 15,  0],\n",
              "       [ 0, 36, 30,  7, 27],\n",
              "       [18,  0, 25, 42, 42],\n",
              "       [20,  8, 24, 16,  3]])"
            ]
          },
          "metadata": {
            "tags": []
          },
          "execution_count": 25
        }
      ]
    },
    {
      "cell_type": "code",
      "metadata": {
        "id": "U0znQKFEHR7O",
        "colab_type": "code",
        "colab": {},
        "outputId": "73765683-8d7b-418b-abb6-442945ee0d87"
      },
      "source": [
        "a/b"
      ],
      "execution_count": null,
      "outputs": [
        {
          "output_type": "execute_result",
          "data": {
            "text/plain": [
              "array([[0.875     , 1.        , 0.25      , 0.        , 3.        ],\n",
              "       [0.5       , 0.4       , 1.66666667, 0.6       , 0.        ],\n",
              "       [0.        , 0.44444444, 1.2       , 7.        , 0.33333333],\n",
              "       [0.5       , 0.        , 1.        , 0.85714286, 0.85714286],\n",
              "       [0.8       , 8.        , 0.375     , 1.        , 0.33333333]])"
            ]
          },
          "metadata": {
            "tags": []
          },
          "execution_count": 22
        }
      ]
    },
    {
      "cell_type": "markdown",
      "metadata": {
        "id": "Zkd0AbLxHR7Q",
        "colab_type": "text"
      },
      "source": [
        "### Matrix Multiplication"
      ]
    },
    {
      "cell_type": "code",
      "metadata": {
        "id": "1eTCE90tHR7Q",
        "colab_type": "code",
        "colab": {},
        "outputId": "c19b4115-da18-4417-e7a8-7e88033f2c58"
      },
      "source": [
        "a.dot(b)"
      ],
      "execution_count": null,
      "outputs": [
        {
          "output_type": "execute_result",
          "data": {
            "text/plain": [
              "array([[151, 117, 114, 103,  50],\n",
              "       [106, 108,  78,  64,  74],\n",
              "       [137, 126, 101,  87, 120],\n",
              "       [130, 117, 127,  92, 108],\n",
              "       [149, 128,  99, 103,  78]])"
            ]
          },
          "metadata": {
            "tags": []
          },
          "execution_count": 23
        }
      ]
    },
    {
      "cell_type": "code",
      "metadata": {
        "id": "TziEXvHcHR7S",
        "colab_type": "code",
        "colab": {},
        "outputId": "e59bfb34-337c-4758-dd2e-73b8555c8ae3"
      },
      "source": [
        "np.dot(a, b)"
      ],
      "execution_count": null,
      "outputs": [
        {
          "output_type": "execute_result",
          "data": {
            "text/plain": [
              "array([[151, 117, 114, 103,  50],\n",
              "       [106, 108,  78,  64,  74],\n",
              "       [137, 126, 101,  87, 120],\n",
              "       [130, 117, 127,  92, 108],\n",
              "       [149, 128,  99, 103,  78]])"
            ]
          },
          "metadata": {
            "tags": []
          },
          "execution_count": 24
        }
      ]
    },
    {
      "cell_type": "markdown",
      "metadata": {
        "id": "gkBz6SC0HR7U",
        "colab_type": "text"
      },
      "source": [
        "## Transpose"
      ]
    },
    {
      "cell_type": "code",
      "metadata": {
        "id": "w5AuGBbuHR7U",
        "colab_type": "code",
        "colab": {},
        "outputId": "f6afa121-cfd4-4dd2-f97c-fe19da4b597b"
      },
      "source": [
        "print(\"Original:\\n{}\\n\\nTranspose:\\n{}\".format(a, a.T))"
      ],
      "execution_count": null,
      "outputs": [
        {
          "output_type": "stream",
          "text": [
            "Original:\n",
            "[[1 2 2 8 5]\n",
            " [4 3 2 2 1]\n",
            " [4 8 2 5 7]\n",
            " [8 0 5 1 6]\n",
            " [3 0 2 5 2]]\n",
            "\n",
            "Transpose:\n",
            "[[1 4 4 8 3]\n",
            " [2 3 8 0 0]\n",
            " [2 2 2 5 2]\n",
            " [8 2 5 1 5]\n",
            " [5 1 7 6 2]]\n"
          ],
          "name": "stdout"
        }
      ]
    },
    {
      "cell_type": "markdown",
      "metadata": {
        "id": "iQOn49B1HR7X",
        "colab_type": "text"
      },
      "source": [
        "## Broadcasting"
      ]
    },
    {
      "cell_type": "code",
      "metadata": {
        "id": "VIV8tnhnHR7X",
        "colab_type": "code",
        "colab": {}
      },
      "source": [
        "a = np.random.randint(0, 10, size=(5,5))\n",
        "b = np.random.randint(0, 10, size=(5))"
      ],
      "execution_count": null,
      "outputs": []
    },
    {
      "cell_type": "code",
      "metadata": {
        "id": "jVXkWLZFHR7Z",
        "colab_type": "code",
        "colab": {},
        "outputId": "72ab0468-425d-4f90-daaa-8144e4d31c4a"
      },
      "source": [
        "print(\"A:\\n{}\\n\\nB:\\n{}\".format(a, b))"
      ],
      "execution_count": null,
      "outputs": [
        {
          "output_type": "stream",
          "text": [
            "A:\n",
            "[[7 1 2 0 7]\n",
            " [7 4 5 8 9]\n",
            " [1 5 6 7 6]\n",
            " [8 4 4 2 8]\n",
            " [6 3 3 2 1]]\n",
            "\n",
            "B:\n",
            "[2 2 7 6 7]\n"
          ],
          "name": "stdout"
        }
      ]
    },
    {
      "cell_type": "code",
      "metadata": {
        "id": "IfexaB50HR7c",
        "colab_type": "code",
        "colab": {},
        "outputId": "d0c95c82-aff9-4a50-ee52-c0e20bc59eb6"
      },
      "source": [
        "a + b"
      ],
      "execution_count": null,
      "outputs": [
        {
          "output_type": "execute_result",
          "data": {
            "text/plain": [
              "array([[ 9,  3,  9,  6, 14],\n",
              "       [ 9,  6, 12, 14, 16],\n",
              "       [ 3,  7, 13, 13, 13],\n",
              "       [10,  6, 11,  8, 15],\n",
              "       [ 8,  5, 10,  8,  8]])"
            ]
          },
          "metadata": {
            "tags": []
          },
          "execution_count": 35
        }
      ]
    },
    {
      "cell_type": "code",
      "metadata": {
        "id": "ll5z4J97HR7e",
        "colab_type": "code",
        "colab": {},
        "outputId": "13a1ada2-916b-4c4c-ef8f-e4a4e4082f06"
      },
      "source": [
        "b"
      ],
      "execution_count": null,
      "outputs": [
        {
          "output_type": "execute_result",
          "data": {
            "text/plain": [
              "array([2, 2, 7, 6, 7])"
            ]
          },
          "metadata": {
            "tags": []
          },
          "execution_count": 40
        }
      ]
    },
    {
      "cell_type": "code",
      "metadata": {
        "id": "ygN5ui_oHR7h",
        "colab_type": "code",
        "colab": {},
        "outputId": "70ef1c89-cb6b-4b0c-ddbd-9d1363804a4d"
      },
      "source": [
        "b.reshape(-1, 1)"
      ],
      "execution_count": null,
      "outputs": [
        {
          "output_type": "execute_result",
          "data": {
            "text/plain": [
              "array([[2],\n",
              "       [2],\n",
              "       [7],\n",
              "       [6],\n",
              "       [7]])"
            ]
          },
          "metadata": {
            "tags": []
          },
          "execution_count": 43
        }
      ]
    },
    {
      "cell_type": "code",
      "metadata": {
        "id": "-HWkm1iSHR7j",
        "colab_type": "code",
        "colab": {},
        "outputId": "6b90352d-3ed4-46c7-9ea9-562568f614b0"
      },
      "source": [
        "a + b.reshape(-1, 1)"
      ],
      "execution_count": null,
      "outputs": [
        {
          "output_type": "execute_result",
          "data": {
            "text/plain": [
              "array([[ 9,  3,  4,  2,  9],\n",
              "       [ 9,  6,  7, 10, 11],\n",
              "       [ 8, 12, 13, 14, 13],\n",
              "       [14, 10, 10,  8, 14],\n",
              "       [13, 10, 10,  9,  8]])"
            ]
          },
          "metadata": {
            "tags": []
          },
          "execution_count": 44
        }
      ]
    },
    {
      "cell_type": "markdown",
      "metadata": {
        "id": "L29jV152HR7m",
        "colab_type": "text"
      },
      "source": [
        ""
      ]
    },
    {
      "cell_type": "code",
      "metadata": {
        "id": "2tEHHMVsHR7m",
        "colab_type": "code",
        "colab": {}
      },
      "source": [
        ""
      ],
      "execution_count": null,
      "outputs": []
    }
  ]
}