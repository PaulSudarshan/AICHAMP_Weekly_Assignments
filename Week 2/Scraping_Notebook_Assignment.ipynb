{
 "cells": [
  {
   "cell_type": "code",
   "execution_count": 1,
   "metadata": {},
   "outputs": [],
   "source": [
    "import os\n",
    "import pandas as pd\n",
    "import requests\n",
    "from bs4 import BeautifulSoup"
   ]
  },
  {
   "cell_type": "code",
   "execution_count": 2,
   "metadata": {},
   "outputs": [],
   "source": [
    "WEBSITE = \"http://books.toscrape.com/catalogue/page-1.html\""
   ]
  },
  {
   "cell_type": "code",
   "execution_count": 8,
   "metadata": {},
   "outputs": [],
   "source": [
    "html_content = requests.get(WEBSITE).text\n",
    "soup = BeautifulSoup(html_content)"
   ]
  },
  {
   "cell_type": "code",
   "execution_count": 4,
   "metadata": {},
   "outputs": [],
   "source": [
    "def get_title(soup):    \n",
    "    title=[]\n",
    "    for i in soup.findAll('h3'):\n",
    "        for j in i.findAll('a'):\n",
    "            title.append(j.get('title'))\n",
    "    return title"
   ]
  },
  {
   "cell_type": "code",
   "execution_count": 5,
   "metadata": {},
   "outputs": [],
   "source": [
    "def get_price(soup):\n",
    "    prices=[]\n",
    "    for price in soup.findAll('p',attrs={'class':'price_color'}):\n",
    "        prices.append(price.text.split('£')[1])\n",
    "    return prices\n",
    "    "
   ]
  },
  {
   "cell_type": "code",
   "execution_count": 6,
   "metadata": {},
   "outputs": [],
   "source": [
    "def images(soup):\n",
    "    image_links=[]\n",
    "    for img_link in soup.findAll('img',attrs={'class':'thumbnail'}):\n",
    "        image_links.append('http://books.toscrape.com/'+img_link.get('src'))\n",
    "    return image_links"
   ]
  },
  {
   "cell_type": "code",
   "execution_count": 77,
   "metadata": {},
   "outputs": [],
   "source": [
    "titles=[]\n",
    "prices=[]\n",
    "images_links=[]\n",
    "details = {'UPC':[],'Product Type':[],'Price (excl. tax)':[],'Price (incl. tax)':[],'Tax':[],'Availability':[],'Number of reviews':[]}\n",
    "for pg_no in range(1,51):    \n",
    "    link = \"http://books.toscrape.com/catalogue/page-\"+str(pg_no)+\".html\"\n",
    "    html_content = requests.get(link).text\n",
    "    soup = BeautifulSoup(html_content)\n",
    "    \n",
    "    #get_title\n",
    "    titles.extend(get_title(soup))\n",
    "    \n",
    "    #get_price\n",
    "    prices.extend(get_price(soup))\n",
    "    \n",
    "    #images\n",
    "    images_links.extend(images(soup))\n",
    "    \n",
    "    for i in soup.findAll('h3'):\n",
    "        for j in i.findAll('a'):\n",
    "            book_content = requests.get('http://books.toscrape.com/catalogue/'+j.get('href')).text\n",
    "            book_soup = BeautifulSoup(book_content)\n",
    "            for tr in book_soup.findAll('tr'):\n",
    "                for th in tr.findAll('th'):\n",
    "                    for td in tr.findAll('td'):\n",
    "                        details[th.text].append(td.text)\n",
    "    \n",
    "    \n",
    "    "
   ]
  },
  {
   "cell_type": "code",
   "execution_count": 78,
   "metadata": {},
   "outputs": [],
   "source": [
    "scraped_details = pd.DataFrame({'BOOK_TITLE':titles,'PRICE (£)':prices, 'IMAGES':images_links})\n",
    "book_info = pd.DataFrame(details)"
   ]
  },
  {
   "cell_type": "code",
   "execution_count": 86,
   "metadata": {},
   "outputs": [],
   "source": [
    "final_scrape = pd.concat([scraped_details,book_info],axis=1)"
   ]
  },
  {
   "cell_type": "code",
   "execution_count": 87,
   "metadata": {},
   "outputs": [
    {
     "data": {
      "text/html": [
       "<div>\n",
       "<style scoped>\n",
       "    .dataframe tbody tr th:only-of-type {\n",
       "        vertical-align: middle;\n",
       "    }\n",
       "\n",
       "    .dataframe tbody tr th {\n",
       "        vertical-align: top;\n",
       "    }\n",
       "\n",
       "    .dataframe thead th {\n",
       "        text-align: right;\n",
       "    }\n",
       "</style>\n",
       "<table border=\"1\" class=\"dataframe\">\n",
       "  <thead>\n",
       "    <tr style=\"text-align: right;\">\n",
       "      <th></th>\n",
       "      <th>BOOK_TITLE</th>\n",
       "      <th>PRICE (£)</th>\n",
       "      <th>IMAGES</th>\n",
       "      <th>UPC</th>\n",
       "      <th>Product Type</th>\n",
       "      <th>Price (excl. tax)</th>\n",
       "      <th>Price (incl. tax)</th>\n",
       "      <th>Tax</th>\n",
       "      <th>Availability</th>\n",
       "      <th>Number of reviews</th>\n",
       "    </tr>\n",
       "  </thead>\n",
       "  <tbody>\n",
       "    <tr>\n",
       "      <th>0</th>\n",
       "      <td>A Light in the Attic</td>\n",
       "      <td>51.77</td>\n",
       "      <td>http://books.toscrape.com/../media/cache/2c/da...</td>\n",
       "      <td>a897fe39b1053632</td>\n",
       "      <td>Books</td>\n",
       "      <td>Â£51.77</td>\n",
       "      <td>Â£51.77</td>\n",
       "      <td>Â£0.00</td>\n",
       "      <td>In stock (22 available)</td>\n",
       "      <td>0</td>\n",
       "    </tr>\n",
       "    <tr>\n",
       "      <th>1</th>\n",
       "      <td>Tipping the Velvet</td>\n",
       "      <td>53.74</td>\n",
       "      <td>http://books.toscrape.com/../media/cache/26/0c...</td>\n",
       "      <td>90fa61229261140a</td>\n",
       "      <td>Books</td>\n",
       "      <td>Â£53.74</td>\n",
       "      <td>Â£53.74</td>\n",
       "      <td>Â£0.00</td>\n",
       "      <td>In stock (20 available)</td>\n",
       "      <td>0</td>\n",
       "    </tr>\n",
       "    <tr>\n",
       "      <th>2</th>\n",
       "      <td>Soumission</td>\n",
       "      <td>50.10</td>\n",
       "      <td>http://books.toscrape.com/../media/cache/3e/ef...</td>\n",
       "      <td>6957f44c3847a760</td>\n",
       "      <td>Books</td>\n",
       "      <td>Â£50.10</td>\n",
       "      <td>Â£50.10</td>\n",
       "      <td>Â£0.00</td>\n",
       "      <td>In stock (20 available)</td>\n",
       "      <td>0</td>\n",
       "    </tr>\n",
       "    <tr>\n",
       "      <th>3</th>\n",
       "      <td>Sharp Objects</td>\n",
       "      <td>47.82</td>\n",
       "      <td>http://books.toscrape.com/../media/cache/32/51...</td>\n",
       "      <td>e00eb4fd7b871a48</td>\n",
       "      <td>Books</td>\n",
       "      <td>Â£47.82</td>\n",
       "      <td>Â£47.82</td>\n",
       "      <td>Â£0.00</td>\n",
       "      <td>In stock (20 available)</td>\n",
       "      <td>0</td>\n",
       "    </tr>\n",
       "    <tr>\n",
       "      <th>4</th>\n",
       "      <td>Sapiens: A Brief History of Humankind</td>\n",
       "      <td>54.23</td>\n",
       "      <td>http://books.toscrape.com/../media/cache/be/a5...</td>\n",
       "      <td>4165285e1663650f</td>\n",
       "      <td>Books</td>\n",
       "      <td>Â£54.23</td>\n",
       "      <td>Â£54.23</td>\n",
       "      <td>Â£0.00</td>\n",
       "      <td>In stock (20 available)</td>\n",
       "      <td>0</td>\n",
       "    </tr>\n",
       "  </tbody>\n",
       "</table>\n",
       "</div>"
      ],
      "text/plain": [
       "                              BOOK_TITLE PRICE (£)  \\\n",
       "0                   A Light in the Attic     51.77   \n",
       "1                     Tipping the Velvet     53.74   \n",
       "2                             Soumission     50.10   \n",
       "3                          Sharp Objects     47.82   \n",
       "4  Sapiens: A Brief History of Humankind     54.23   \n",
       "\n",
       "                                              IMAGES               UPC  \\\n",
       "0  http://books.toscrape.com/../media/cache/2c/da...  a897fe39b1053632   \n",
       "1  http://books.toscrape.com/../media/cache/26/0c...  90fa61229261140a   \n",
       "2  http://books.toscrape.com/../media/cache/3e/ef...  6957f44c3847a760   \n",
       "3  http://books.toscrape.com/../media/cache/32/51...  e00eb4fd7b871a48   \n",
       "4  http://books.toscrape.com/../media/cache/be/a5...  4165285e1663650f   \n",
       "\n",
       "  Product Type Price (excl. tax) Price (incl. tax)     Tax  \\\n",
       "0        Books           Â£51.77           Â£51.77  Â£0.00   \n",
       "1        Books           Â£53.74           Â£53.74  Â£0.00   \n",
       "2        Books           Â£50.10           Â£50.10  Â£0.00   \n",
       "3        Books           Â£47.82           Â£47.82  Â£0.00   \n",
       "4        Books           Â£54.23           Â£54.23  Â£0.00   \n",
       "\n",
       "              Availability Number of reviews  \n",
       "0  In stock (22 available)                 0  \n",
       "1  In stock (20 available)                 0  \n",
       "2  In stock (20 available)                 0  \n",
       "3  In stock (20 available)                 0  \n",
       "4  In stock (20 available)                 0  "
      ]
     },
     "execution_count": 87,
     "metadata": {},
     "output_type": "execute_result"
    }
   ],
   "source": [
    "final_scrape.head()"
   ]
  },
  {
   "cell_type": "code",
   "execution_count": 88,
   "metadata": {},
   "outputs": [],
   "source": [
    "final_scrape.to_csv(os.getcwd()+'//scraped.csv')"
   ]
  },
  {
   "cell_type": "code",
   "execution_count": 75,
   "metadata": {},
   "outputs": [],
   "source": []
  },
  {
   "cell_type": "code",
   "execution_count": null,
   "metadata": {},
   "outputs": [],
   "source": []
  },
  {
   "cell_type": "code",
   "execution_count": null,
   "metadata": {},
   "outputs": [],
   "source": []
  }
 ],
 "metadata": {
  "kernelspec": {
   "display_name": "Python 3",
   "language": "python",
   "name": "python3"
  },
  "language_info": {
   "codemirror_mode": {
    "name": "ipython",
    "version": 3
   },
   "file_extension": ".py",
   "mimetype": "text/x-python",
   "name": "python",
   "nbconvert_exporter": "python",
   "pygments_lexer": "ipython3",
   "version": "3.8.3"
  }
 },
 "nbformat": 4,
 "nbformat_minor": 4
}
