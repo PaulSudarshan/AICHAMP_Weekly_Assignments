{
 "cells": [
  {
   "cell_type": "markdown",
   "metadata": {},
   "source": [
    "## Step-1:  Importing required libraries"
   ]
  },
  {
   "cell_type": "code",
   "execution_count": 1,
   "metadata": {},
   "outputs": [],
   "source": [
    "import cv2\n",
    "import numpy as np\n",
    "import matplotlib.pyplot as plt\n",
    "import io"
   ]
  },
  {
   "cell_type": "markdown",
   "metadata": {},
   "source": [
    "## Step-2:  Loading the image\n"
   ]
  },
  {
   "cell_type": "code",
   "execution_count": 2,
   "metadata": {},
   "outputs": [],
   "source": [
    "img = cv2.imread('dali.jpg')\n",
    "# img = cv2.cvtColor(img_1, cv2.COLOR_BGR2RGB)"
   ]
  },
  {
   "cell_type": "code",
   "execution_count": 3,
   "metadata": {},
   "outputs": [],
   "source": [
    "# cv2.imshow('original',img)\n",
    "\n",
    "cv2.waitKey(0)\n",
    "cv2.destroyAllWindows() "
   ]
  },
  {
   "cell_type": "markdown",
   "metadata": {},
   "source": [
    "## Step-3: Converting an image into gray_scale image\n",
    "### Converting an image into grayscale gives us black & white pixels in the image which is used for creating a pencil sketch."
   ]
  },
  {
   "cell_type": "code",
   "execution_count": 4,
   "metadata": {},
   "outputs": [
    {
     "ename": "error",
     "evalue": "OpenCV(4.4.0) C:\\Users\\appveyor\\AppData\\Local\\Temp\\1\\pip-req-build-9d_dfo3_\\opencv\\modules\\imgproc\\src\\color.cpp:182: error: (-215:Assertion failed) !_src.empty() in function 'cv::cvtColor'\n",
     "output_type": "error",
     "traceback": [
      "\u001b[1;31m---------------------------------------------------------------------------\u001b[0m",
      "\u001b[1;31merror\u001b[0m                                     Traceback (most recent call last)",
      "\u001b[1;32m<ipython-input-4-5910060a7e3c>\u001b[0m in \u001b[0;36m<module>\u001b[1;34m\u001b[0m\n\u001b[1;32m----> 1\u001b[1;33m \u001b[0mimg_gray\u001b[0m \u001b[1;33m=\u001b[0m \u001b[0mcv2\u001b[0m\u001b[1;33m.\u001b[0m\u001b[0mcvtColor\u001b[0m\u001b[1;33m(\u001b[0m\u001b[0mimg\u001b[0m\u001b[1;33m,\u001b[0m \u001b[0mcv2\u001b[0m\u001b[1;33m.\u001b[0m\u001b[0mCOLOR_BGR2GRAY\u001b[0m\u001b[1;33m)\u001b[0m\u001b[1;33m\u001b[0m\u001b[1;33m\u001b[0m\u001b[0m\n\u001b[0m",
      "\u001b[1;31merror\u001b[0m: OpenCV(4.4.0) C:\\Users\\appveyor\\AppData\\Local\\Temp\\1\\pip-req-build-9d_dfo3_\\opencv\\modules\\imgproc\\src\\color.cpp:182: error: (-215:Assertion failed) !_src.empty() in function 'cv::cvtColor'\n"
     ]
    }
   ],
   "source": [
    "img_gray = cv2.cvtColor(img, cv2.COLOR_BGR2GRAY)"
   ]
  },
  {
   "cell_type": "code",
   "execution_count": null,
   "metadata": {},
   "outputs": [],
   "source": [
    "cv2.imshow('grayscale',img_gray)\n",
    "cv2.waitKey(0)\n",
    "cv2.destroyAllWindows() "
   ]
  },
  {
   "cell_type": "markdown",
   "metadata": {},
   "source": [
    "## Step-4: Inverting the image\n",
    "### We are using the bitwise_not function which is used to make brighter regions lighter and vice versa so that we can find the edges to create a pencil sketch. "
   ]
  },
  {
   "cell_type": "code",
   "execution_count": null,
   "metadata": {},
   "outputs": [],
   "source": [
    "img_invert = cv2.bitwise_not(img_gray)"
   ]
  },
  {
   "cell_type": "code",
   "execution_count": null,
   "metadata": {},
   "outputs": [],
   "source": [
    "cv2.imshow('inv',img_invert)\n",
    "cv2.waitKey(0)\n",
    "cv2.destroyAllWindows() "
   ]
  },
  {
   "cell_type": "markdown",
   "metadata": {},
   "source": [
    "## Step-5: Smoothing the image \n",
    "### We have used the gaussian blur technique with 21 x 21 pixel and the default sigma values filter on the image to smoothen our image. By increasing the filter size, we can create thin lines for our sketch and it is used to reduce the noise in the image. "
   ]
  },
  {
   "cell_type": "code",
   "execution_count": null,
   "metadata": {},
   "outputs": [],
   "source": [
    "img_smoothing = cv2.GaussianBlur(img_invert, (21, 21),sigmaX=0, sigmaY=0)\n",
    "\n",
    "cv2.imshow('smoothen',img_smoothing)\n",
    "cv2.waitKey(0)\n",
    "cv2.destroyAllWindows() "
   ]
  },
  {
   "cell_type": "markdown",
   "metadata": {},
   "source": [
    "## Final Output as Pencil Sketch"
   ]
  },
  {
   "cell_type": "code",
   "execution_count": 5,
   "metadata": {},
   "outputs": [],
   "source": [
    "def dodgeV2(x, y):\n",
    "    return cv2.divide(x, 255 - y, scale=256)\n",
    "\n",
    "def burnV2(image, mask):\n",
    "    return 255 -cv2.divide(255-image, 255-mask, scale=256)"
   ]
  },
  {
   "cell_type": "code",
   "execution_count": 6,
   "metadata": {},
   "outputs": [
    {
     "ename": "NameError",
     "evalue": "name 'img_gray' is not defined",
     "output_type": "error",
     "traceback": [
      "\u001b[1;31m---------------------------------------------------------------------------\u001b[0m",
      "\u001b[1;31mNameError\u001b[0m                                 Traceback (most recent call last)",
      "\u001b[1;32m<ipython-input-6-f7a05dbe8dd3>\u001b[0m in \u001b[0;36m<module>\u001b[1;34m\u001b[0m\n\u001b[1;32m----> 1\u001b[1;33m \u001b[0mdodge_img\u001b[0m \u001b[1;33m=\u001b[0m \u001b[0mdodgeV2\u001b[0m\u001b[1;33m(\u001b[0m\u001b[0mimg_gray\u001b[0m\u001b[1;33m,\u001b[0m \u001b[0mimg_smoothing\u001b[0m\u001b[1;33m)\u001b[0m\u001b[1;33m\u001b[0m\u001b[1;33m\u001b[0m\u001b[0m\n\u001b[0m",
      "\u001b[1;31mNameError\u001b[0m: name 'img_gray' is not defined"
     ]
    }
   ],
   "source": [
    "dodge_img = dodgeV2(img_gray, img_smoothing)"
   ]
  },
  {
   "cell_type": "code",
   "execution_count": null,
   "metadata": {},
   "outputs": [],
   "source": [
    "# cv2.imshow('sketch',dodge_img)\n",
    "# cv2.waitKey(0)\n",
    "# cv2.destroyAllWindows() "
   ]
  },
  {
   "cell_type": "code",
   "execution_count": null,
   "metadata": {},
   "outputs": [],
   "source": [
    "# burned_img = dodgeV2(dodge_img, img_smoothing)"
   ]
  },
  {
   "cell_type": "code",
   "execution_count": null,
   "metadata": {},
   "outputs": [],
   "source": [
    "cv2.imshow('sketch',burned_img)\n",
    "cv2.waitKey(0)\n",
    "cv2.destroyAllWindows() "
   ]
  },
  {
   "cell_type": "code",
   "execution_count": 7,
   "metadata": {
    "scrolled": false
   },
   "outputs": [
    {
     "name": "stdout",
     "output_type": "stream",
     "text": [
      "Dash is running on http://127.0.0.1:8050/\n",
      "\n",
      " * Serving Flask app \"__main__\" (lazy loading)\n",
      " * Environment: production\n",
      "   WARNING: This is a development server. Do not use it in a production deployment.\n",
      "   Use a production WSGI server instead.\n",
      " * Debug mode: off\n"
     ]
    },
    {
     "name": "stderr",
     "output_type": "stream",
     "text": [
      " * Running on http://127.0.0.1:8050/ (Press CTRL+C to quit)\n",
      "127.0.0.1 - - [20/Oct/2020 19:09:35] \"\u001b[37mGET / HTTP/1.1\u001b[0m\" 200 -\n",
      "127.0.0.1 - - [20/Oct/2020 19:09:35] \"\u001b[37mGET /assets/style.css?m=1595541614.0 HTTP/1.1\u001b[0m\" 200 -\n",
      "127.0.0.1 - - [20/Oct/2020 19:09:35] \"\u001b[37mGET /_dash-component-suites/dash_renderer/react@16.v1_8_1m1600775263.13.0.min.js HTTP/1.1\u001b[0m\" 200 -\n",
      "127.0.0.1 - - [20/Oct/2020 19:09:35] \"\u001b[37mGET /_dash-component-suites/dash_renderer/react-dom@16.v1_8_1m1600775263.13.0.min.js HTTP/1.1\u001b[0m\" 200 -\n",
      "127.0.0.1 - - [20/Oct/2020 19:09:35] \"\u001b[37mGET /_dash-component-suites/dash_renderer/prop-types@15.v1_8_1m1600775263.7.2.min.js HTTP/1.1\u001b[0m\" 200 -\n",
      "127.0.0.1 - - [20/Oct/2020 19:09:35] \"\u001b[37mGET /_dash-component-suites/dash_html_components/dash_html_components.v1_1_1m1600775268.min.js HTTP/1.1\u001b[0m\" 200 -\n",
      "127.0.0.1 - - [20/Oct/2020 19:09:35] \"\u001b[37mGET /_dash-component-suites/dash_renderer/polyfill@7.v1_8_1m1600775263.8.7.min.js HTTP/1.1\u001b[0m\" 200 -\n",
      "127.0.0.1 - - [20/Oct/2020 19:09:35] \"\u001b[37mGET /_dash-component-suites/dash_bootstrap_components/_components/dash_bootstrap_components.v0_10_6m1600775362.min.js HTTP/1.1\u001b[0m\" 200 -\n",
      "127.0.0.1 - - [20/Oct/2020 19:09:35] \"\u001b[37mGET /_dash-component-suites/dash_core_components/dash_core_components-shared.v1_12_1m1600775265.js HTTP/1.1\u001b[0m\" 200 -\n",
      "127.0.0.1 - - [20/Oct/2020 19:09:35] \"\u001b[37mGET /_dash-component-suites/dash_core_components/dash_core_components.v1_12_1m1600775265.min.js HTTP/1.1\u001b[0m\" 200 -\n",
      "127.0.0.1 - - [20/Oct/2020 19:09:35] \"\u001b[37mGET /_dash-component-suites/dash_renderer/dash_renderer.v1_8_1m1600775263.min.js HTTP/1.1\u001b[0m\" 200 -\n",
      "127.0.0.1 - - [20/Oct/2020 19:09:36] \"\u001b[37mGET /_dash-layout HTTP/1.1\u001b[0m\" 200 -\n",
      "127.0.0.1 - - [20/Oct/2020 19:09:36] \"\u001b[37mGET /_dash-dependencies HTTP/1.1\u001b[0m\" 200 -\n",
      "127.0.0.1 - - [20/Oct/2020 19:09:36] \"\u001b[37mGET /_dash-component-suites/dash_core_components/async-upload.v1_12_1m1600286997.js HTTP/1.1\u001b[0m\" 200 -\n",
      "127.0.0.1 - - [20/Oct/2020 19:09:36] \"\u001b[37mPOST /_dash-update-component HTTP/1.1\u001b[0m\" 200 -\n",
      "127.0.0.1 - - [20/Oct/2020 19:09:36] \"\u001b[37mPOST /_dash-update-component HTTP/1.1\u001b[0m\" 200 -\n",
      "127.0.0.1 - - [20/Oct/2020 19:21:09] \"\u001b[37mGET / HTTP/1.1\u001b[0m\" 200 -\n",
      "127.0.0.1 - - [20/Oct/2020 19:21:10] \"\u001b[37mGET /_dash-layout HTTP/1.1\u001b[0m\" 200 -\n",
      "127.0.0.1 - - [20/Oct/2020 19:21:10] \"\u001b[37mGET /_dash-dependencies HTTP/1.1\u001b[0m\" 200 -\n",
      "127.0.0.1 - - [20/Oct/2020 19:21:10] \"\u001b[37mPOST /_dash-update-component HTTP/1.1\u001b[0m\" 200 -\n",
      "127.0.0.1 - - [20/Oct/2020 19:21:10] \"\u001b[37mPOST /_dash-update-component HTTP/1.1\u001b[0m\" 200 -\n",
      "127.0.0.1 - - [20/Oct/2020 19:21:42] \"\u001b[37mPOST /_dash-update-component HTTP/1.1\u001b[0m\" 200 -\n",
      "127.0.0.1 - - [20/Oct/2020 19:21:50] \"\u001b[37mPOST /_dash-update-component HTTP/1.1\u001b[0m\" 200 -\n"
     ]
    }
   ],
   "source": [
    "import datetime\n",
    "import dash\n",
    "from dash.dependencies import Input, Output, State\n",
    "import dash_core_components as dcc\n",
    "import dash_html_components as html\n",
    "import base64\n",
    "from PIL import Image\n",
    "\n",
    "import dash_bootstrap_components as dbc\n",
    "\n",
    "\n",
    "app = dash.Dash(external_stylesheets=[dbc.themes.DARKLY])\n",
    "\n",
    "app.layout = html.Div([\n",
    "    html.H1(\"SKETCH YOUR IMAGE!!\",className='title'),\n",
    "    dcc.Upload(\n",
    "        id='upload-image',\n",
    "        children=html.Div([\n",
    "            'Drag and Drop or ',\n",
    "            html.A('Select Files')\n",
    "        ]),\n",
    "        style={\n",
    "            'width': '100%',\n",
    "            'height': '60px',\n",
    "            'lineHeight': '60px',\n",
    "            'borderWidth': '1px',\n",
    "            'borderStyle': 'dashed',\n",
    "            'borderRadius': '5px',\n",
    "            'textAlign': 'center',\n",
    "            'margin': '10px'\n",
    "        },\n",
    "        # Allow multiple files to be uploaded\n",
    "        multiple=True\n",
    "    ),\n",
    "    html.Div(id='output-image-upload'),\n",
    "    \n",
    "    dbc.Button(\"Submit\", id='submit-val',color=\"success\",size=\"lg\"),\n",
    "    html.Div(id='output-sketch-upload'),\n",
    "])\n",
    "\n",
    "@app.callback(Output('output-sketch-upload','children'),\n",
    "            [Input('submit-val', 'n_clicks')])\n",
    "\n",
    "def sketch_pic(n_clicks):\n",
    "    if n_clicks:\n",
    "        name = ''.join(name_img.split('.')[0]) + '.png'\n",
    "        image = base64.b64decode(str(contents_img[22:])) \n",
    "        imagePath = (\"test.jpeg\")\n",
    "        img = Image.open(io.BytesIO(image))\n",
    "        img.save(name,'png')\n",
    "\n",
    "        image_file = cv2.imread(name)\n",
    "\n",
    "        img_gray = cv2.cvtColor(image_file, cv2.COLOR_BGR2GRAY)\n",
    "\n",
    "        img_invert = cv2.bitwise_not(img_gray)\n",
    "\n",
    "        img_smoothing = cv2.GaussianBlur(img_invert, (21, 21),sigmaX=0, sigmaY=0)\n",
    "\n",
    "        final_img = dodgeV2(img_gray, img_smoothing)\n",
    "\n",
    "        cv2.imwrite('result.png',final_img)\n",
    "\n",
    "        test_png = 'result.png'\n",
    "        test_base64 = base64.b64encode(open(test_png, 'rb').read()).decode('ascii')\n",
    "\n",
    "        return html.Div([\n",
    "            html.H5(name+' Sketching!!'),\n",
    "            # HTML images accept base64 encoded strings in the same format\n",
    "            # that is supplied by the upload\n",
    "            html.Img(src='data:image/png;base64,{}'.format(test_base64),style={'height':'50%', 'width':'50%'}),\n",
    "            html.Hr(),\n",
    "        ])\n",
    "\n",
    "\n",
    "contents_img=0\n",
    "name_img=0\n",
    "def parse_contents(contents, filename, date):\n",
    "    global contents_img, name_img\n",
    "    name_img=filename\n",
    "    contents_img = contents\n",
    "    return html.Div([\n",
    "        html.H5(filename),\n",
    "        html.H6(datetime.datetime.fromtimestamp(date)),\n",
    "\n",
    "        # HTML images accept base64 encoded strings in the same format\n",
    "        # that is supplied by the upload\n",
    "        html.Img(src=contents,style={'height':'50%', 'width':'50%'}),\n",
    "        html.Hr(),\n",
    "    ])\n",
    "\n",
    "\n",
    "@app.callback(Output('output-image-upload', 'children'),\n",
    "              [Input('upload-image', 'contents')],\n",
    "              [State('upload-image', 'filename'),\n",
    "               State('upload-image', 'last_modified')])\n",
    "def update_output(list_of_contents, list_of_names, list_of_dates):\n",
    "    if list_of_contents is not None:\n",
    "        children = [\n",
    "            parse_contents(c, n, d) for c, n, d in\n",
    "            zip(list_of_contents, list_of_names, list_of_dates)]\n",
    "        return children\n",
    "\n",
    "\n",
    "if __name__ == '__main__':\n",
    "    app.run_server(debug=False)\n"
   ]
  },
  {
   "cell_type": "code",
   "execution_count": null,
   "metadata": {},
   "outputs": [],
   "source": []
  },
  {
   "cell_type": "code",
   "execution_count": null,
   "metadata": {},
   "outputs": [],
   "source": []
  },
  {
   "cell_type": "code",
   "execution_count": null,
   "metadata": {},
   "outputs": [],
   "source": []
  },
  {
   "cell_type": "code",
   "execution_count": null,
   "metadata": {},
   "outputs": [],
   "source": []
  },
  {
   "cell_type": "code",
   "execution_count": null,
   "metadata": {},
   "outputs": [],
   "source": []
  },
  {
   "cell_type": "code",
   "execution_count": null,
   "metadata": {},
   "outputs": [],
   "source": []
  },
  {
   "cell_type": "code",
   "execution_count": null,
   "metadata": {},
   "outputs": [],
   "source": []
  },
  {
   "cell_type": "code",
   "execution_count": null,
   "metadata": {},
   "outputs": [],
   "source": []
  },
  {
   "cell_type": "code",
   "execution_count": null,
   "metadata": {},
   "outputs": [],
   "source": []
  }
 ],
 "metadata": {
  "kernelspec": {
   "display_name": "Python 3",
   "language": "python",
   "name": "python3"
  },
  "language_info": {
   "codemirror_mode": {
    "name": "ipython",
    "version": 3
   },
   "file_extension": ".py",
   "mimetype": "text/x-python",
   "name": "python",
   "nbconvert_exporter": "python",
   "pygments_lexer": "ipython3",
   "version": "3.8.3"
  }
 },
 "nbformat": 4,
 "nbformat_minor": 4
}
