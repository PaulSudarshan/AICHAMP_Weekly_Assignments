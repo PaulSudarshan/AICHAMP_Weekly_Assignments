{
 "cells": [
  {
   "cell_type": "code",
   "execution_count": 28,
   "metadata": {},
   "outputs": [],
   "source": [
    "def speech_to_text():\n",
    "\n",
    "    sample_rate = 48000\n",
    "\n",
    "    chunk_size = 2048\n",
    "    #Initialize the recognizer \n",
    "    r = sr.Recognizer() \n",
    "\n",
    "    with sr.Microphone(sample_rate = sample_rate,  \n",
    "                            chunk_size = chunk_size) as source: \n",
    "        #wait for a second to let the recognizer adjust the  \n",
    "        #energy threshold based on the surrounding noise level \n",
    "        r.adjust_for_ambient_noise(source) \n",
    "        print (\"Speak the name of the movie \")\n",
    "        #listens for the user's input \n",
    "        audio = r.listen(source) \n",
    "\n",
    "        try: \n",
    "            text = r.recognize_google(audio) \n",
    "            \n",
    "            print(text)\n",
    "\n",
    "        #error occurs when google could not understand what was said \n",
    "\n",
    "        except sr.UnknownValueError: \n",
    "            return (\"Google Speech Recognition could not understand audio\") \n",
    "            \n",
    "\n",
    "        except sr.RequestError as e: \n",
    "            return (\"Could not request results from Google  Speech Recognition service; {0}\".format(e)) \n",
    "                \n",
    "        return text"
   ]
  },
  {
   "cell_type": "code",
   "execution_count": 31,
   "metadata": {},
   "outputs": [
    {
     "name": "stdout",
     "output_type": "stream",
     "text": [
      " * Serving Flask app \"__main__\" (lazy loading)\n",
      " * Environment: production\n",
      "   WARNING: This is a development server. Do not use it in a production deployment.\n",
      "   Use a production WSGI server instead.\n",
      " * Debug mode: off\n"
     ]
    },
    {
     "name": "stderr",
     "output_type": "stream",
     "text": [
      " * Running on http://127.0.0.1:5000/ (Press CTRL+C to quit)\n"
     ]
    }
   ],
   "source": [
    "from flask import Flask, render_template, request\n",
    "import speech_recognition as sr\n",
    "app = Flask(__name__)\n",
    "\n",
    "@app.route('/')\n",
    "def index():\n",
    "    return render_template('index.html')\n",
    "\n",
    "@app.route('/result',methods = ['POST', 'GET'])\n",
    "def result():\n",
    "    if request.method == 'POST':\n",
    "        movie_name=speech_to_text()\n",
    "        \n",
    "        return render_template(\"result.html\",result = result)\n",
    "        \n",
    "if __name__ == '__main__':\n",
    "    app.run(debug = False)"
   ]
  },
  {
   "cell_type": "code",
   "execution_count": null,
   "metadata": {},
   "outputs": [],
   "source": [
    "spee"
   ]
  }
 ],
 "metadata": {
  "kernelspec": {
   "display_name": "Python 3",
   "language": "python",
   "name": "python3"
  },
  "language_info": {
   "codemirror_mode": {
    "name": "ipython",
    "version": 3
   },
   "file_extension": ".py",
   "mimetype": "text/x-python",
   "name": "python",
   "nbconvert_exporter": "python",
   "pygments_lexer": "ipython3",
   "version": "3.8.3"
  }
 },
 "nbformat": 4,
 "nbformat_minor": 4
}
