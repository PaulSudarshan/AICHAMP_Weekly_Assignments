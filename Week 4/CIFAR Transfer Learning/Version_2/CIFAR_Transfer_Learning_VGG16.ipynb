{
  "nbformat": 4,
  "nbformat_minor": 0,
  "metadata": {
    "colab": {
      "name": "CIFAR_Transfer_Learning_VGG16.ipynb",
      "provenance": [],
      "collapsed_sections": []
    },
    "kernelspec": {
      "name": "python3",
      "display_name": "Python 3"
    },
    "accelerator": "GPU"
  },
  "cells": [
    {
      "cell_type": "code",
      "metadata": {
        "id": "JHX4V5dyGSFt",
        "outputId": "6a9c4215-bab6-42e5-987f-d00e818dc34f",
        "colab": {
          "base_uri": "https://localhost:8080/",
          "height": 35
        }
      },
      "source": [
        "import tensorflow as tf\n",
        "tf.test.gpu_device_name()"
      ],
      "execution_count": 15,
      "outputs": [
        {
          "output_type": "execute_result",
          "data": {
            "application/vnd.google.colaboratory.intrinsic+json": {
              "type": "string"
            },
            "text/plain": [
              "'/device:GPU:0'"
            ]
          },
          "metadata": {
            "tags": []
          },
          "execution_count": 15
        }
      ]
    },
    {
      "cell_type": "code",
      "metadata": {
        "id": "vGF6AAx_Gz8w"
      },
      "source": [
        "import scipy as sp\n",
        "import numpy as np\n",
        "import pandas as pd\n",
        "import matplotlib.pyplot as plt\n",
        "from numpy.random import rand\n",
        "pd.options.display.max_colwidth = 600\n",
        "import h5py\n",
        "# Scikit Imports\n",
        "from sklearn import preprocessing\n",
        "from sklearn.metrics import roc_curve, auc, precision_recall_curve\n",
        "from sklearn.model_selection import train_test_split\n",
        "\n",
        "# Matplot Imports\n",
        "import matplotlib.pyplot as plt"
      ],
      "execution_count": 16,
      "outputs": []
    },
    {
      "cell_type": "code",
      "metadata": {
        "id": "14OxMI8sHONU"
      },
      "source": [
        "import tensorflow as tf\n",
        "from keras import callbacks\n",
        "from keras import optimizers\n",
        "from keras.datasets import cifar10\n",
        "from keras.engine import Model\n",
        "from keras.applications import vgg16 as vgg\n",
        "from keras.layers import Dropout, Flatten, Dense, GlobalAveragePooling2D,BatchNormalization\n",
        "from keras.preprocessing.image import ImageDataGenerator\n",
        "from keras.utils import np_utils"
      ],
      "execution_count": 17,
      "outputs": []
    },
    {
      "cell_type": "code",
      "metadata": {
        "id": "ckMt1Aqxz0JC"
      },
      "source": [
        "BATCH_SIZE = 32\n",
        "epoch = 5\n",
        "NUM_CLASSES = 10\n",
        "LEARNING_RATE = 1e-4\n",
        "MOMENTUM = 0.9"
      ],
      "execution_count": 18,
      "outputs": []
    },
    {
      "cell_type": "code",
      "metadata": {
        "id": "TTHUhA_5z5KU",
        "outputId": "c2553752-a984-42db-8351-869803b3217f",
        "colab": {
          "base_uri": "https://localhost:8080/",
          "height": 51
        }
      },
      "source": [
        "(X_train, y_train), (X_test, y_test) = cifar10.load_data()"
      ],
      "execution_count": 19,
      "outputs": [
        {
          "output_type": "stream",
          "text": [
            "Downloading data from https://www.cs.toronto.edu/~kriz/cifar-10-python.tar.gz\n",
            "170500096/170498071 [==============================] - 4s 0us/step\n"
          ],
          "name": "stdout"
        }
      ]
    },
    {
      "cell_type": "code",
      "metadata": {
        "id": "PmQoyBSOGS98"
      },
      "source": [
        "mean = np.mean(X_train,axis=(0,1,2,3))\n",
        "std = np.std(X_train,axis=(0,1,2,3))\n",
        "X_train = (X_train-mean)/(std+1e-7)\n",
        "X_test = (X_test-mean)/(std+1e-7)"
      ],
      "execution_count": 20,
      "outputs": []
    },
    {
      "cell_type": "code",
      "metadata": {
        "id": "i6A3ZQBrz72_"
      },
      "source": [
        "X_train, X_val, y_train, y_val = train_test_split(X_train, \n",
        "                                                  y_train, \n",
        "                                                  test_size=0.15, \n",
        "                                                  stratify=np.array(y_train), \n",
        "                                                  random_state=42)"
      ],
      "execution_count": 21,
      "outputs": []
    },
    {
      "cell_type": "code",
      "metadata": {
        "id": "fDWqFZTr0Eoe"
      },
      "source": [
        "Y_train = np_utils.to_categorical(y_train, NUM_CLASSES)\n",
        "Y_val = np_utils.to_categorical(y_val, NUM_CLASSES)\n",
        "Y_test = np_utils.to_categorical(y_test, NUM_CLASSES)"
      ],
      "execution_count": 22,
      "outputs": []
    },
    {
      "cell_type": "code",
      "metadata": {
        "id": "O54TpvhnGhJj",
        "outputId": "9167fe29-81ab-4540-ac86-2340c9ccac1e",
        "colab": {
          "base_uri": "https://localhost:8080/",
          "height": 34
        }
      },
      "source": [
        "X_train.shape"
      ],
      "execution_count": 23,
      "outputs": [
        {
          "output_type": "execute_result",
          "data": {
            "text/plain": [
              "(42500, 32, 32, 3)"
            ]
          },
          "metadata": {
            "tags": []
          },
          "execution_count": 23
        }
      ]
    },
    {
      "cell_type": "code",
      "metadata": {
        "id": "WIi3XZxt0JEO"
      },
      "source": [
        "import cv2\n",
        "X_train = np.array([cv2.resize(x,(48,48)) for x in X_train])\n",
        "X_val = np.array([cv2.resize(x,(48,48)) for x in X_val])\n",
        "X_test = np.array([cv2.resize(x,(48,48)) for x in X_test])"
      ],
      "execution_count": 24,
      "outputs": []
    },
    {
      "cell_type": "code",
      "metadata": {
        "id": "eRVqmz1XGl0z",
        "outputId": "31ed7fff-b4c7-4869-db21-68be8b29cda8",
        "colab": {
          "base_uri": "https://localhost:8080/",
          "height": 34
        }
      },
      "source": [
        "X_train.shape"
      ],
      "execution_count": 25,
      "outputs": [
        {
          "output_type": "execute_result",
          "data": {
            "text/plain": [
              "(42500, 48, 48, 3)"
            ]
          },
          "metadata": {
            "tags": []
          },
          "execution_count": 25
        }
      ]
    },
    {
      "cell_type": "code",
      "metadata": {
        "id": "ikM3Wj-W61PC"
      },
      "source": [
        "# X_train = tf.keras.applications.vgg16.preprocess_input(X_train)\n",
        "# X_val = tf.keras.applications.vgg16.preprocess_input(X_val)\n",
        "# X_test = tf.keras.applications.vgg16.preprocess_input(X_test)"
      ],
      "execution_count": 26,
      "outputs": []
    },
    {
      "cell_type": "code",
      "metadata": {
        "id": "lXEcBjIg6mCJ",
        "outputId": "b59b8a14-6e23-4671-8f77-1c0dfd5f1b6e",
        "colab": {
          "base_uri": "https://localhost:8080/",
          "height": 71
        }
      },
      "source": [
        "base_model = vgg.VGG16(weights='imagenet', \n",
        "                       include_top=False, \n",
        "                       input_shape=(48, 48, 3))"
      ],
      "execution_count": 27,
      "outputs": [
        {
          "output_type": "stream",
          "text": [
            "Downloading data from https://storage.googleapis.com/tensorflow/keras-applications/vgg16/vgg16_weights_tf_dim_ordering_tf_kernels_notop.h5\n",
            "58892288/58889256 [==============================] - 0s 0us/step\n"
          ],
          "name": "stdout"
        }
      ]
    },
    {
      "cell_type": "code",
      "metadata": {
        "id": "KJ-Kbo8X7kEZ"
      },
      "source": [
        "last = base_model.get_layer('block3_pool').output\n",
        "avg = tf.keras.layers.GlobalAveragePooling2D()(last)\n",
        "cust_cnn = BatchNormalization()(avg)\n",
        "cust_cnn = Dense(256, activation='relu')(cust_cnn)\n",
        "cust_cnn = Dense(256, activation='relu')(cust_cnn)\n",
        "cust_cnn = Dropout(0.5)(cust_cnn)\n",
        "pred = Dense(10, activation='softmax')(cust_cnn)\n",
        "model = Model(base_model.input, pred)"
      ],
      "execution_count": 28,
      "outputs": []
    },
    {
      "cell_type": "code",
      "metadata": {
        "id": "eg3gRUXk9m_I"
      },
      "source": [
        "for layer in base_model.layers:\n",
        "     layer.trainable = True"
      ],
      "execution_count": 29,
      "outputs": []
    },
    {
      "cell_type": "code",
      "metadata": {
        "id": "gnO4GWMeCpfC"
      },
      "source": [
        "# def lr_schedule(epoch):\n",
        "#     lrate = 0.001\n",
        "#     if epoch > 50:\n",
        "#         lrate = 0.0005\n",
        "#     if epoch > 80:\n",
        "#         lrate = 0.0001\n",
        "#     if epoch > 100:\n",
        "#         lrate = 0.00005\n",
        "#     if epoch > 120:\n",
        "#         lrate = 0.00001\n",
        "#     return lrate"
      ],
      "execution_count": 30,
      "outputs": []
    },
    {
      "cell_type": "code",
      "metadata": {
        "id": "19QNn4Do9tjv"
      },
      "source": [
        "model.compile(loss='categorical_crossentropy',\n",
        "              optimizer='adam',\n",
        "              metrics=['accuracy'])"
      ],
      "execution_count": 31,
      "outputs": []
    },
    {
      "cell_type": "code",
      "metadata": {
        "id": "2ZsHeJhz9wtL",
        "outputId": "5885a794-958a-4704-b5b2-f889a6c12788",
        "colab": {
          "base_uri": "https://localhost:8080/",
          "height": 731
        }
      },
      "source": [
        "\n",
        "model.summary()"
      ],
      "execution_count": 32,
      "outputs": [
        {
          "output_type": "stream",
          "text": [
            "Model: \"functional_1\"\n",
            "_________________________________________________________________\n",
            "Layer (type)                 Output Shape              Param #   \n",
            "=================================================================\n",
            "input_1 (InputLayer)         [(None, 48, 48, 3)]       0         \n",
            "_________________________________________________________________\n",
            "block1_conv1 (Conv2D)        (None, 48, 48, 64)        1792      \n",
            "_________________________________________________________________\n",
            "block1_conv2 (Conv2D)        (None, 48, 48, 64)        36928     \n",
            "_________________________________________________________________\n",
            "block1_pool (MaxPooling2D)   (None, 24, 24, 64)        0         \n",
            "_________________________________________________________________\n",
            "block2_conv1 (Conv2D)        (None, 24, 24, 128)       73856     \n",
            "_________________________________________________________________\n",
            "block2_conv2 (Conv2D)        (None, 24, 24, 128)       147584    \n",
            "_________________________________________________________________\n",
            "block2_pool (MaxPooling2D)   (None, 12, 12, 128)       0         \n",
            "_________________________________________________________________\n",
            "block3_conv1 (Conv2D)        (None, 12, 12, 256)       295168    \n",
            "_________________________________________________________________\n",
            "block3_conv2 (Conv2D)        (None, 12, 12, 256)       590080    \n",
            "_________________________________________________________________\n",
            "block3_conv3 (Conv2D)        (None, 12, 12, 256)       590080    \n",
            "_________________________________________________________________\n",
            "block3_pool (MaxPooling2D)   (None, 6, 6, 256)         0         \n",
            "_________________________________________________________________\n",
            "global_average_pooling2d (Gl (None, 256)               0         \n",
            "_________________________________________________________________\n",
            "batch_normalization (BatchNo (None, 256)               1024      \n",
            "_________________________________________________________________\n",
            "dense (Dense)                (None, 256)               65792     \n",
            "_________________________________________________________________\n",
            "dense_1 (Dense)              (None, 256)               65792     \n",
            "_________________________________________________________________\n",
            "dropout (Dropout)            (None, 256)               0         \n",
            "_________________________________________________________________\n",
            "dense_2 (Dense)              (None, 10)                2570      \n",
            "=================================================================\n",
            "Total params: 1,870,666\n",
            "Trainable params: 1,870,154\n",
            "Non-trainable params: 512\n",
            "_________________________________________________________________\n"
          ],
          "name": "stdout"
        }
      ]
    },
    {
      "cell_type": "code",
      "metadata": {
        "id": "uaZqLGyD937k"
      },
      "source": [
        "#data augmentation\n",
        "datagen = ImageDataGenerator(\n",
        "    rotation_range=15,\n",
        "    width_shift_range=0.1,\n",
        "    height_shift_range=0.1,\n",
        "    horizontal_flip=True,\n",
        "    )\n",
        "datagen.fit(X_train)"
      ],
      "execution_count": 33,
      "outputs": []
    },
    {
      "cell_type": "code",
      "metadata": {
        "id": "3r5IZ5GNDlqG"
      },
      "source": [
        "from keras.callbacks import EarlyStopping\n",
        "es = EarlyStopping(monitor='val_accuracy',baseline='0.9')"
      ],
      "execution_count": 34,
      "outputs": []
    },
    {
      "cell_type": "code",
      "metadata": {
        "id": "lMTX1Vyf-Enp",
        "outputId": "d40e78fc-2346-4871-da7d-3031fa960321",
        "colab": {
          "base_uri": "https://localhost:8080/",
          "height": 1000
        }
      },
      "source": [
        "model.fit_generator(datagen.flow(X_train, Y_train, batch_size=BATCH_SIZE),\\\n",
        "                    steps_per_epoch=X_train.shape[0] // BATCH_SIZE,epochs=45,\\\n",
        "                    verbose=1,validation_data=(X_val,Y_val))"
      ],
      "execution_count": 37,
      "outputs": [
        {
          "output_type": "stream",
          "text": [
            "Epoch 1/45\n",
            "1328/1328 [==============================] - 44s 33ms/step - loss: 0.8480 - accuracy: 0.7140 - val_loss: 0.7845 - val_accuracy: 0.7315\n",
            "Epoch 2/45\n",
            "1328/1328 [==============================] - 43s 32ms/step - loss: 0.7538 - accuracy: 0.7465 - val_loss: 0.6946 - val_accuracy: 0.7631\n",
            "Epoch 3/45\n",
            "1328/1328 [==============================] - 43s 32ms/step - loss: 0.6775 - accuracy: 0.7725 - val_loss: 0.9040 - val_accuracy: 0.7208\n",
            "Epoch 4/45\n",
            "1328/1328 [==============================] - 43s 32ms/step - loss: 0.6181 - accuracy: 0.7942 - val_loss: 0.6579 - val_accuracy: 0.7873\n",
            "Epoch 5/45\n",
            "1328/1328 [==============================] - 43s 32ms/step - loss: 0.5749 - accuracy: 0.8075 - val_loss: 0.5635 - val_accuracy: 0.8153\n",
            "Epoch 6/45\n",
            "1328/1328 [==============================] - 43s 32ms/step - loss: 0.5409 - accuracy: 0.8193 - val_loss: 0.5194 - val_accuracy: 0.8233\n",
            "Epoch 7/45\n",
            "1328/1328 [==============================] - 42s 32ms/step - loss: 0.5105 - accuracy: 0.8310 - val_loss: 0.5154 - val_accuracy: 0.8264\n",
            "Epoch 8/45\n",
            "1328/1328 [==============================] - 42s 32ms/step - loss: 0.4771 - accuracy: 0.8409 - val_loss: 0.6594 - val_accuracy: 0.7872\n",
            "Epoch 9/45\n",
            "1328/1328 [==============================] - 42s 32ms/step - loss: 0.4555 - accuracy: 0.8484 - val_loss: 0.4609 - val_accuracy: 0.8451\n",
            "Epoch 10/45\n",
            "1328/1328 [==============================] - 43s 32ms/step - loss: 0.4255 - accuracy: 0.8578 - val_loss: 0.5314 - val_accuracy: 0.8320\n",
            "Epoch 11/45\n",
            "1328/1328 [==============================] - 42s 32ms/step - loss: 0.4135 - accuracy: 0.8624 - val_loss: 0.6372 - val_accuracy: 0.8087\n",
            "Epoch 12/45\n",
            "1328/1328 [==============================] - 42s 32ms/step - loss: 0.3839 - accuracy: 0.8711 - val_loss: 0.4177 - val_accuracy: 0.8649\n",
            "Epoch 13/45\n",
            "1328/1328 [==============================] - 42s 32ms/step - loss: 0.3780 - accuracy: 0.8729 - val_loss: 0.4466 - val_accuracy: 0.8585\n",
            "Epoch 14/45\n",
            "1328/1328 [==============================] - 42s 32ms/step - loss: 0.3550 - accuracy: 0.8812 - val_loss: 0.4004 - val_accuracy: 0.8716\n",
            "Epoch 15/45\n",
            "1328/1328 [==============================] - 42s 32ms/step - loss: 0.3456 - accuracy: 0.8842 - val_loss: 0.4072 - val_accuracy: 0.8695\n",
            "Epoch 16/45\n",
            "1328/1328 [==============================] - 43s 32ms/step - loss: 0.3338 - accuracy: 0.8890 - val_loss: 0.8203 - val_accuracy: 0.7819\n",
            "Epoch 17/45\n",
            "1328/1328 [==============================] - 43s 32ms/step - loss: 0.3246 - accuracy: 0.8922 - val_loss: 0.4756 - val_accuracy: 0.8603\n",
            "Epoch 18/45\n",
            "1328/1328 [==============================] - 42s 32ms/step - loss: 0.3046 - accuracy: 0.8988 - val_loss: 0.4691 - val_accuracy: 0.8549\n",
            "Epoch 19/45\n",
            "1328/1328 [==============================] - 43s 32ms/step - loss: 0.3000 - accuracy: 0.9004 - val_loss: 0.4429 - val_accuracy: 0.8688\n",
            "Epoch 20/45\n",
            "1328/1328 [==============================] - 43s 32ms/step - loss: 0.2838 - accuracy: 0.9033 - val_loss: 0.3792 - val_accuracy: 0.8832\n",
            "Epoch 21/45\n",
            "1328/1328 [==============================] - 43s 32ms/step - loss: 0.2808 - accuracy: 0.9044 - val_loss: 0.4207 - val_accuracy: 0.8707\n",
            "Epoch 22/45\n",
            "1328/1328 [==============================] - 42s 32ms/step - loss: 0.2669 - accuracy: 0.9085 - val_loss: 0.4480 - val_accuracy: 0.8731\n",
            "Epoch 23/45\n",
            "1328/1328 [==============================] - 43s 32ms/step - loss: 0.2641 - accuracy: 0.9119 - val_loss: 0.5228 - val_accuracy: 0.8520\n",
            "Epoch 24/45\n",
            "1328/1328 [==============================] - 43s 32ms/step - loss: 0.2572 - accuracy: 0.9159 - val_loss: 0.4564 - val_accuracy: 0.8712\n",
            "Epoch 25/45\n",
            "1328/1328 [==============================] - 42s 32ms/step - loss: 0.2460 - accuracy: 0.9168 - val_loss: 0.3738 - val_accuracy: 0.8897\n",
            "Epoch 26/45\n",
            "1328/1328 [==============================] - 42s 32ms/step - loss: 0.2402 - accuracy: 0.9194 - val_loss: 0.3680 - val_accuracy: 0.8911\n",
            "Epoch 27/45\n",
            "1328/1328 [==============================] - 42s 31ms/step - loss: 0.2342 - accuracy: 0.9198 - val_loss: 0.4411 - val_accuracy: 0.8788\n",
            "Epoch 28/45\n",
            "1328/1328 [==============================] - 42s 31ms/step - loss: 0.2306 - accuracy: 0.9229 - val_loss: 0.3896 - val_accuracy: 0.8843\n",
            "Epoch 29/45\n",
            "1328/1328 [==============================] - 42s 31ms/step - loss: 0.2207 - accuracy: 0.9259 - val_loss: 0.4365 - val_accuracy: 0.8799\n",
            "Epoch 30/45\n",
            "1328/1328 [==============================] - 42s 31ms/step - loss: 0.2140 - accuracy: 0.9277 - val_loss: 0.4964 - val_accuracy: 0.8745\n",
            "Epoch 31/45\n",
            "1328/1328 [==============================] - 42s 32ms/step - loss: 0.2066 - accuracy: 0.9313 - val_loss: 0.3964 - val_accuracy: 0.8875\n",
            "Epoch 32/45\n",
            "1328/1328 [==============================] - 42s 32ms/step - loss: 0.2115 - accuracy: 0.9299 - val_loss: 0.3890 - val_accuracy: 0.8877\n",
            "Epoch 33/45\n",
            "1328/1328 [==============================] - 42s 31ms/step - loss: 0.2029 - accuracy: 0.9326 - val_loss: 0.3679 - val_accuracy: 0.8941\n",
            "Epoch 34/45\n",
            "1328/1328 [==============================] - 42s 31ms/step - loss: 0.1952 - accuracy: 0.9343 - val_loss: 0.4500 - val_accuracy: 0.8736\n",
            "Epoch 35/45\n",
            "1328/1328 [==============================] - 42s 31ms/step - loss: 0.1961 - accuracy: 0.9335 - val_loss: 0.3877 - val_accuracy: 0.8889\n",
            "Epoch 36/45\n",
            "1328/1328 [==============================] - 42s 31ms/step - loss: 0.1807 - accuracy: 0.9392 - val_loss: 0.5635 - val_accuracy: 0.8737\n",
            "Epoch 37/45\n",
            "1328/1328 [==============================] - 42s 31ms/step - loss: 0.1858 - accuracy: 0.9378 - val_loss: 0.3604 - val_accuracy: 0.8961\n",
            "Epoch 38/45\n",
            "1328/1328 [==============================] - 42s 32ms/step - loss: 0.1915 - accuracy: 0.9369 - val_loss: 0.4033 - val_accuracy: 0.8852\n",
            "Epoch 39/45\n",
            "1328/1328 [==============================] - 43s 32ms/step - loss: 0.1761 - accuracy: 0.9405 - val_loss: 0.4632 - val_accuracy: 0.8781\n",
            "Epoch 40/45\n",
            "1328/1328 [==============================] - 42s 32ms/step - loss: 0.1801 - accuracy: 0.9404 - val_loss: 0.3851 - val_accuracy: 0.8940\n",
            "Epoch 41/45\n",
            "1328/1328 [==============================] - 42s 32ms/step - loss: 0.1691 - accuracy: 0.9423 - val_loss: 0.3995 - val_accuracy: 0.8924\n",
            "Epoch 42/45\n",
            "1328/1328 [==============================] - 42s 32ms/step - loss: 0.1637 - accuracy: 0.9457 - val_loss: 0.6149 - val_accuracy: 0.8891\n",
            "Epoch 43/45\n",
            "1328/1328 [==============================] - 42s 31ms/step - loss: 0.1614 - accuracy: 0.9473 - val_loss: 0.3775 - val_accuracy: 0.8961\n",
            "Epoch 44/45\n",
            "1328/1328 [==============================] - 42s 32ms/step - loss: 0.1649 - accuracy: 0.9455 - val_loss: 0.4831 - val_accuracy: 0.8892\n",
            "Epoch 45/45\n",
            "1328/1328 [==============================] - 42s 31ms/step - loss: 0.1618 - accuracy: 0.9450 - val_loss: 0.3755 - val_accuracy: 0.9023\n"
          ],
          "name": "stdout"
        },
        {
          "output_type": "execute_result",
          "data": {
            "text/plain": [
              "<tensorflow.python.keras.callbacks.History at 0x7f4ae87017f0>"
            ]
          },
          "metadata": {
            "tags": []
          },
          "execution_count": 37
        }
      ]
    },
    {
      "cell_type": "code",
      "metadata": {
        "id": "qsZCa-jDxODA"
      },
      "source": [
        "# model.save('CIFAR_TF_ver_2.h5') \n",
        "# model.history.history"
      ],
      "execution_count": 59,
      "outputs": []
    },
    {
      "cell_type": "code",
      "metadata": {
        "id": "qjNCX7izpzT9"
      },
      "source": [
        "from keras.models import load_model \n",
        "import numpy as np\n",
        "# model = load_model('CIFAR_TF_ver_2.h5')\n",
        "np.save('model_history.npy',model.history.history) # Saving Model history to plot accuracy plots later"
      ],
      "execution_count": 55,
      "outputs": []
    },
    {
      "cell_type": "code",
      "metadata": {
        "id": "13JTC4jfyzPC",
        "outputId": "7062abea-79a4-4d3e-fd98-0e4ec15311dc",
        "colab": {
          "base_uri": "https://localhost:8080/",
          "height": 54
        }
      },
      "source": [
        "history_of_model=np.load('model_history.npy',allow_pickle='TRUE').item()\n",
        "print(history_of_model)"
      ],
      "execution_count": 67,
      "outputs": [
        {
          "output_type": "stream",
          "text": [
            "{'loss': [0.8480274677276611, 0.7538004517555237, 0.6774652004241943, 0.6180837750434875, 0.5749370455741882, 0.5409276485443115, 0.5104835629463196, 0.477076917886734, 0.455490380525589, 0.42548853158950806, 0.4134719669818878, 0.3838558495044708, 0.3779584765434265, 0.35502007603645325, 0.34563204646110535, 0.33379000425338745, 0.32458558678627014, 0.3045596778392792, 0.3000198304653168, 0.2837684750556946, 0.2807844281196594, 0.2669062614440918, 0.26408764719963074, 0.25716885924339294, 0.2459755539894104, 0.24024368822574615, 0.2342108190059662, 0.23055553436279297, 0.22074007987976074, 0.2140309363603592, 0.20661363005638123, 0.21145229041576385, 0.20287230610847473, 0.19519805908203125, 0.1961095780134201, 0.1806674301624298, 0.18579323589801788, 0.19146935641765594, 0.17613117396831512, 0.1800934076309204, 0.1690928339958191, 0.16372893750667572, 0.16144803166389465, 0.16491864621639252, 0.16184371709823608], 'accuracy': [0.7140199542045593, 0.7464679479598999, 0.7724875211715698, 0.7941508889198303, 0.8075020909309387, 0.8192992210388184, 0.8310492634773254, 0.8409390449523926, 0.8484035134315491, 0.8577752709388733, 0.8624140620231628, 0.8711029291152954, 0.8728925585746765, 0.8811811208724976, 0.8841951489448547, 0.8889516592025757, 0.892248272895813, 0.8987708687782288, 0.9003955721855164, 0.9032683372497559, 0.9044457077980042, 0.9085429310798645, 0.9119101166725159, 0.9159367084503174, 0.916784405708313, 0.9194216728210449, 0.9197513461112976, 0.9229066371917725, 0.9258500337600708, 0.9277102947235107, 0.9313129782676697, 0.9299237132072449, 0.9325609803199768, 0.9343034625053406, 0.9335028529167175, 0.9391542077064514, 0.9377884268760681, 0.9369407296180725, 0.9405434727668762, 0.9403786659240723, 0.9422624111175537, 0.9457473754882812, 0.9473015069961548, 0.9454883933067322, 0.9449938535690308], 'val_loss': [0.7844885587692261, 0.6946268081665039, 0.9040424227714539, 0.6578946709632874, 0.5635014176368713, 0.5194156765937805, 0.5153804421424866, 0.6593981385231018, 0.460907906293869, 0.5314205884933472, 0.6371903419494629, 0.4177291989326477, 0.44662225246429443, 0.4004490375518799, 0.40721380710601807, 0.8202913403511047, 0.47561243176460266, 0.46911385655403137, 0.44291287660598755, 0.3792372941970825, 0.4207276999950409, 0.448001503944397, 0.5228308439254761, 0.45642322301864624, 0.37382403016090393, 0.36796778440475464, 0.441145122051239, 0.3896101415157318, 0.43653765320777893, 0.4963686764240265, 0.39635252952575684, 0.3889930844306946, 0.3678550720214844, 0.449969083070755, 0.3876596689224243, 0.5635237097740173, 0.36042365431785583, 0.4032788872718811, 0.46323180198669434, 0.38509055972099304, 0.3994590640068054, 0.6149222254753113, 0.3775293231010437, 0.4830746054649353, 0.37548571825027466], 'val_accuracy': [0.7314666509628296, 0.7630666494369507, 0.72079998254776, 0.7873333096504211, 0.8153333067893982, 0.8233333230018616, 0.8263999819755554, 0.7871999740600586, 0.8450666666030884, 0.8320000171661377, 0.8086666464805603, 0.8649333119392395, 0.8585333228111267, 0.8715999722480774, 0.8694666624069214, 0.7818666696548462, 0.8602666854858398, 0.8549333214759827, 0.8687999844551086, 0.8831999897956848, 0.8706666827201843, 0.8730666637420654, 0.8519999980926514, 0.8712000250816345, 0.8897333145141602, 0.8910666704177856, 0.8787999749183655, 0.8842666745185852, 0.8798666596412659, 0.8745333552360535, 0.8874666690826416, 0.8877333402633667, 0.8941333293914795, 0.8736000061035156, 0.8889333605766296, 0.8737333416938782, 0.896133303642273, 0.885200023651123, 0.8781333565711975, 0.8939999938011169, 0.8924000263214111, 0.8890666961669922, 0.896133303642273, 0.88919997215271, 0.9022666811943054]}\n"
          ],
          "name": "stdout"
        }
      ]
    },
    {
      "cell_type": "code",
      "metadata": {
        "id": "ymuD56GImeVg"
      },
      "source": [
        "# plotting helper function\n",
        "def plothist(hist):\n",
        "    plt.figure(figsize=(12,5))\n",
        "    plt.plot(hist['accuracy'])\n",
        "    plt.plot(hist['val_accuracy'])\n",
        "    plt.title('model accuracy')\n",
        "    plt.ylabel('accuracy')\n",
        "    plt.xlabel('epoch')\n",
        "    plt.legend(['train', 'test'], loc='upper left')\n",
        "    plt.show()"
      ],
      "execution_count": 81,
      "outputs": []
    },
    {
      "cell_type": "code",
      "metadata": {
        "id": "sXbVKjFWmgM1",
        "outputId": "7ffa4882-ed7c-4026-baad-2731dd77eba4",
        "colab": {
          "base_uri": "https://localhost:8080/",
          "height": 350
        }
      },
      "source": [
        "plothist(history_of_model)"
      ],
      "execution_count": 82,
      "outputs": [
        {
          "output_type": "display_data",
          "data": {
            "image/png": "[encoded data removed]",
            "text/plain": [
              "<Figure size 864x360 with 1 Axes>"
            ]
          },
          "metadata": {
            "tags": [],
            "needs_background": "light"
          }
        }
      ]
    },
    {
      "cell_type": "code",
      "metadata": {
        "id": "VOF9YfUzErni",
        "outputId": "612214e9-06a5-401b-9c39-2e783d200880",
        "colab": {
          "base_uri": "https://localhost:8080/",
          "height": 68
        }
      },
      "source": [
        "print('Testing Accuracy : ')\n",
        "model.evaluate(X_test, Y_test)"
      ],
      "execution_count": 60,
      "outputs": [
        {
          "output_type": "stream",
          "text": [
            "Testing Accuracy : \n",
            "313/313 [==============================] - 2s 7ms/step - loss: 0.3935 - accuracy: 0.9025\n"
          ],
          "name": "stdout"
        },
        {
          "output_type": "execute_result",
          "data": {
            "text/plain": [
              "[0.39351126551628113, 0.9024999737739563]"
            ]
          },
          "metadata": {
            "tags": []
          },
          "execution_count": 60
        }
      ]
    },
    {
      "cell_type": "code",
      "metadata": {
        "id": "O6Sy9_BQkT1A",
        "outputId": "341b47df-f895-489a-9902-4af9171aee8d",
        "colab": {
          "base_uri": "https://localhost:8080/",
          "height": 68
        }
      },
      "source": [
        "print('Training Accuracy : ')\n",
        "model.evaluate(X_train, Y_train)"
      ],
      "execution_count": 61,
      "outputs": [
        {
          "output_type": "stream",
          "text": [
            "Training Accuracy : \n",
            "1329/1329 [==============================] - 9s 7ms/step - loss: 0.0831 - accuracy: 0.9765\n"
          ],
          "name": "stdout"
        },
        {
          "output_type": "execute_result",
          "data": {
            "text/plain": [
              "[0.08305804431438446, 0.9764705896377563]"
            ]
          },
          "metadata": {
            "tags": []
          },
          "execution_count": 61
        }
      ]
    },
    {
      "cell_type": "code",
      "metadata": {
        "id": "AYJ8D48nk0dc",
        "outputId": "6b390101-42e1-4af7-8d64-1b7b0dc0628d",
        "colab": {
          "base_uri": "https://localhost:8080/",
          "height": 68
        }
      },
      "source": [
        "print('Validation Accuracy : ')\n",
        "model.evaluate(X_val, Y_val)"
      ],
      "execution_count": 62,
      "outputs": [
        {
          "output_type": "stream",
          "text": [
            "Validation Accuracy : \n",
            "235/235 [==============================] - 2s 7ms/step - loss: 0.3755 - accuracy: 0.9023\n"
          ],
          "name": "stdout"
        },
        {
          "output_type": "execute_result",
          "data": {
            "text/plain": [
              "[0.37548571825027466, 0.9022666811943054]"
            ]
          },
          "metadata": {
            "tags": []
          },
          "execution_count": 62
        }
      ]
    },
    {
      "cell_type": "code",
      "metadata": {
        "id": "kQV_XTzdOgx9"
      },
      "source": [
        ""
      ],
      "execution_count": null,
      "outputs": []
    },
    {
      "cell_type": "code",
      "metadata": {
        "id": "Wb4nShuzOslf"
      },
      "source": [
        ""
      ],
      "execution_count": null,
      "outputs": []
    },
    {
      "cell_type": "code",
      "metadata": {
        "id": "5llulwFGPXQD"
      },
      "source": [
        ""
      ],
      "execution_count": null,
      "outputs": []
    },
    {
      "cell_type": "code",
      "metadata": {
        "id": "SoB-UlgTPfnp"
      },
      "source": [
        ""
      ],
      "execution_count": null,
      "outputs": []
    },
    {
      "cell_type": "code",
      "metadata": {
        "id": "ZUuqH55GQFLA"
      },
      "source": [
        ""
      ],
      "execution_count": null,
      "outputs": []
    },
    {
      "cell_type": "code",
      "metadata": {
        "id": "UjakaVAxQJa8"
      },
      "source": [
        ""
      ],
      "execution_count": null,
      "outputs": []
    },
    {
      "cell_type": "code",
      "metadata": {
        "id": "HPzCXxDfQMe1"
      },
      "source": [
        ""
      ],
      "execution_count": null,
      "outputs": []
    }
  ]
}