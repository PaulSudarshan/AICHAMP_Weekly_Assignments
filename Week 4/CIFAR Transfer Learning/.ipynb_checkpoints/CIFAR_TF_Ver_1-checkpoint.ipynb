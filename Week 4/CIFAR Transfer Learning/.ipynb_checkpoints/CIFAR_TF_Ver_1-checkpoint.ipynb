{
 "cells": [
  {
   "cell_type": "markdown",
   "metadata": {
    "id": "osSQHwDT44rQ"
   },
   "source": [
    "# CIFAR10 Transfer Learning based Classifier\n",
    "\n",
    "This notebook outlines the steps to build a classifier to leverage concepts of Transfer Learning by utilizing a pretrained Deep-CNN. \n",
    "Particularly in this case based on VGG16"
   ]
  },
  {
   "cell_type": "code",
   "execution_count": 31,
   "metadata": {
    "id": "qpwpUhVod2ob"
   },
   "outputs": [],
   "source": [
    "# Pandas and Numpy for data structures and util fucntions\n",
    "import scipy as sp\n",
    "import numpy as np\n",
    "import pandas as pd\n",
    "from numpy.random import rand\n",
    "pd.options.display.max_colwidth = 600\n",
    "import cv2\n",
    "# Scikit Imports\n",
    "from sklearn import preprocessing\n",
    "from sklearn.metrics import roc_curve, auc, precision_recall_curve\n",
    "from sklearn.model_selection import train_test_split\n",
    "\n",
    "import cnn_utils as utils\n",
    "from model_evaluation_utils import get_metrics\n",
    "\n",
    "# Matplot Imports\n",
    "import matplotlib.pyplot as plt\n",
    "params = {'legend.fontsize': 'x-large',\n",
    "          'figure.figsize': (15, 5),\n",
    "          'axes.labelsize': 'x-large',\n",
    "          'axes.titlesize':'x-large',\n",
    "          'xtick.labelsize':'x-large',\n",
    "          'ytick.labelsize':'x-large'}\n",
    "\n",
    "plt.rcParams.update(params)\n",
    "%matplotlib inline\n",
    "\n",
    "# pandas display data frames as tables\n",
    "from IPython.display import display, HTML\n",
    "\n",
    "import warnings\n",
    "warnings.filterwarnings('ignore')"
   ]
  },
  {
   "cell_type": "code",
   "execution_count": 2,
   "metadata": {
    "id": "VB1artr2KuLD"
   },
   "outputs": [],
   "source": [
    "import tensorflow as tf\n",
    "from keras import callbacks\n",
    "from keras import optimizers\n",
    "from keras.datasets import cifar10\n",
    "from keras.engine import Model\n",
    "from keras.applications import vgg16 as vgg\n",
    "from keras.layers import Dropout, Flatten, Dense, GlobalAveragePooling2D,BatchNormalization\n",
    "from keras.preprocessing.image import ImageDataGenerator\n",
    "from keras.utils import np_utils"
   ]
  },
  {
   "cell_type": "markdown",
   "metadata": {
    "id": "SdxTK-2W44rY"
   },
   "source": [
    "## Load and Prepare DataSet"
   ]
  },
  {
   "cell_type": "code",
   "execution_count": 3,
   "metadata": {
    "id": "fS8uGXn5dgRU"
   },
   "outputs": [],
   "source": [
    "BATCH_SIZE = 32\n",
    "EPOCHS = 40\n",
    "NUM_CLASSES = 10\n",
    "LEARNING_RATE = 1e-4\n",
    "MOMENTUM = 0.9"
   ]
  },
  {
   "cell_type": "code",
   "execution_count": 4,
   "metadata": {
    "colab": {
     "base_uri": "https://localhost:8080/",
     "height": 51
    },
    "id": "PoT9P1phLuyT",
    "outputId": "940bcbeb-a1ba-4193-b461-332bcea6fd55"
   },
   "outputs": [
    {
     "name": "stdout",
     "output_type": "stream",
     "text": [
      "Downloading data from https://www.cs.toronto.edu/~kriz/cifar-10-python.tar.gz\n",
      "170500096/170498071 [==============================] - 4s 0us/step\n"
     ]
    }
   ],
   "source": [
    "(X_train, y_train), (X_test, y_test) = cifar10.load_data()"
   ]
  },
  {
   "cell_type": "code",
   "execution_count": 5,
   "metadata": {
    "id": "mIOQbzdNJJRI"
   },
   "outputs": [],
   "source": [
    "# set up image augmentation\n",
    "datagen = ImageDataGenerator(\n",
    "    rotation_range=15,\n",
    "    horizontal_flip=True,\n",
    "    width_shift_range=0.1,\n",
    "    height_shift_range=0.1\n",
    "    #zoom_range=0.3\n",
    "    )\n",
    "datagen.fit(X_train)"
   ]
  },
  {
   "cell_type": "markdown",
   "metadata": {
    "id": "1wBFrIDD44rd"
   },
   "source": [
    "Split training dataset in train and validation sets"
   ]
  },
  {
   "cell_type": "code",
   "execution_count": 6,
   "metadata": {
    "id": "khNrl8nHqesu"
   },
   "outputs": [],
   "source": [
    "X_train, X_val, y_train, y_val = train_test_split(X_train, \n",
    "                                                  y_train, \n",
    "                                                  test_size=0.15, \n",
    "                                                  stratify=np.array(y_train), \n",
    "                                                  random_state=42)"
   ]
  },
  {
   "cell_type": "code",
   "execution_count": 6,
   "metadata": {
    "id": "qvKyPUJCIv2x"
   },
   "outputs": [],
   "source": []
  },
  {
   "cell_type": "markdown",
   "metadata": {
    "id": "EJ8z8O0444rg"
   },
   "source": [
    "Transform target variable/labels into one hot encoded form"
   ]
  },
  {
   "cell_type": "code",
   "execution_count": 7,
   "metadata": {
    "id": "IJdZ6DLUqu-P"
   },
   "outputs": [],
   "source": [
    "Y_train = np_utils.to_categorical(y_train, NUM_CLASSES)\n",
    "Y_val = np_utils.to_categorical(y_val, NUM_CLASSES)\n",
    "Y_test = np_utils.to_categorical(y_test, NUM_CLASSES)"
   ]
  },
  {
   "cell_type": "markdown",
   "metadata": {
    "id": "Epm31eQ_44rk"
   },
   "source": [
    "### Preprocessing\n",
    "\n",
    "Since we are about to use VGG16 as a feature extractor, the minimum size of an image it takes is 48x48.\n",
    "We utilize ```scipy`` to resize images to required dimensions"
   ]
  },
  {
   "cell_type": "code",
   "execution_count": 8,
   "metadata": {
    "id": "6udZF8zHbTaR"
   },
   "outputs": [],
   "source": [
    "X_train = np.array([cv2.resize(x, (48, 48)) for x in X_train])\n",
    "                                     \n",
    "X_val = np.array([cv2.resize(x, (48, 48)) for x in X_val])\n",
    "                                   \n",
    "X_test = np.array([cv2.resize(x, (48, 48)) for x in X_test])\n",
    "                                    "
   ]
  },
  {
   "cell_type": "markdown",
   "metadata": {
    "id": "wZvoPHXD44rn"
   },
   "source": [
    "## Prepare the Model\n",
    "\n",
    "* Load VGG16 without the top classification layer\n",
    "* Prepare a custom classifier\n",
    "* Stack both models on top of each other"
   ]
  },
  {
   "cell_type": "code",
   "execution_count": 9,
   "metadata": {
    "colab": {
     "base_uri": "https://localhost:8080/",
     "height": 71
    },
    "id": "j2py7602Kxlq",
    "outputId": "c0244602-5156-472e-f13e-480980b46ee0"
   },
   "outputs": [
    {
     "name": "stdout",
     "output_type": "stream",
     "text": [
      "Downloading data from https://storage.googleapis.com/tensorflow/keras-applications/vgg16/vgg16_weights_tf_dim_ordering_tf_kernels_notop.h5\n",
      "58892288/58889256 [==============================] - 0s 0us/step\n"
     ]
    }
   ],
   "source": [
    "base_model = vgg.VGG16(weights='imagenet', \n",
    "                       include_top=False, \n",
    "                       input_shape=(48, 48, 3))"
   ]
  },
  {
   "cell_type": "code",
   "execution_count": 10,
   "metadata": {
    "id": "iI9P8ni-L8H8"
   },
   "outputs": [],
   "source": [
    "# Extract the last layer from third block of vgg16 model\n",
    "last = base_model.get_layer('block3_pool').output"
   ]
  },
  {
   "cell_type": "code",
   "execution_count": 11,
   "metadata": {
    "id": "MI90lh6hL9ua"
   },
   "outputs": [],
   "source": [
    "# Add classification layers on top of it\n",
    "x = GlobalAveragePooling2D()(last)\n",
    "x= BatchNormalization()(x)\n",
    "x = Dense(256, activation='relu')(x)\n",
    "x = Dense(256, activation='relu')(x)\n",
    "x = Dropout(0.6)(x)\n",
    "pred = Dense(NUM_CLASSES, activation='softmax')(x)\n",
    "model = Model(base_model.input, pred)"
   ]
  },
  {
   "cell_type": "markdown",
   "metadata": {
    "id": "A_mwcPJV44ru"
   },
   "source": [
    "Since our objective is to only train the custom classifier, we freeze the layers of VGG16"
   ]
  },
  {
   "cell_type": "code",
   "execution_count": 12,
   "metadata": {
    "id": "fc3EhfLTMD4I"
   },
   "outputs": [],
   "source": [
    "for layer in base_model.layers:\n",
    "     layer.trainable = False"
   ]
  },
  {
   "cell_type": "code",
   "execution_count": 13,
   "metadata": {
    "id": "PRXPI3DCMIIK"
   },
   "outputs": [],
   "source": [
    "model.compile(loss='binary_crossentropy',\n",
    "              optimizer=optimizers.Adam(lr=LEARNING_RATE),\n",
    "              metrics=['accuracy'])"
   ]
  },
  {
   "cell_type": "code",
   "execution_count": 14,
   "metadata": {
    "colab": {
     "base_uri": "https://localhost:8080/",
     "height": 731
    },
    "id": "PATZIBLlMLrf",
    "outputId": "c5c378d5-bfd2-4344-b497-339e7608ab5c"
   },
   "outputs": [
    {
     "name": "stdout",
     "output_type": "stream",
     "text": [
      "Model: \"functional_1\"\n",
      "_________________________________________________________________\n",
      "Layer (type)                 Output Shape              Param #   \n",
      "=================================================================\n",
      "input_1 (InputLayer)         [(None, 48, 48, 3)]       0         \n",
      "_________________________________________________________________\n",
      "block1_conv1 (Conv2D)        (None, 48, 48, 64)        1792      \n",
      "_________________________________________________________________\n",
      "block1_conv2 (Conv2D)        (None, 48, 48, 64)        36928     \n",
      "_________________________________________________________________\n",
      "block1_pool (MaxPooling2D)   (None, 24, 24, 64)        0         \n",
      "_________________________________________________________________\n",
      "block2_conv1 (Conv2D)        (None, 24, 24, 128)       73856     \n",
      "_________________________________________________________________\n",
      "block2_conv2 (Conv2D)        (None, 24, 24, 128)       147584    \n",
      "_________________________________________________________________\n",
      "block2_pool (MaxPooling2D)   (None, 12, 12, 128)       0         \n",
      "_________________________________________________________________\n",
      "block3_conv1 (Conv2D)        (None, 12, 12, 256)       295168    \n",
      "_________________________________________________________________\n",
      "block3_conv2 (Conv2D)        (None, 12, 12, 256)       590080    \n",
      "_________________________________________________________________\n",
      "block3_conv3 (Conv2D)        (None, 12, 12, 256)       590080    \n",
      "_________________________________________________________________\n",
      "block3_pool (MaxPooling2D)   (None, 6, 6, 256)         0         \n",
      "_________________________________________________________________\n",
      "global_average_pooling2d (Gl (None, 256)               0         \n",
      "_________________________________________________________________\n",
      "batch_normalization (BatchNo (None, 256)               1024      \n",
      "_________________________________________________________________\n",
      "dense (Dense)                (None, 256)               65792     \n",
      "_________________________________________________________________\n",
      "dense_1 (Dense)              (None, 256)               65792     \n",
      "_________________________________________________________________\n",
      "dropout (Dropout)            (None, 256)               0         \n",
      "_________________________________________________________________\n",
      "dense_2 (Dense)              (None, 10)                2570      \n",
      "=================================================================\n",
      "Total params: 1,870,666\n",
      "Trainable params: 134,666\n",
      "Non-trainable params: 1,736,000\n",
      "_________________________________________________________________\n"
     ]
    }
   ],
   "source": [
    "model.summary()"
   ]
  },
  {
   "cell_type": "markdown",
   "metadata": {
    "id": "UgKzld5z44r2"
   },
   "source": [
    "## Data Augmentation\n",
    "\n",
    "To help model generalize and overcome the limitations of a small dataset, we prepare augmented datasets using \n",
    "```keras ``` utilities"
   ]
  },
  {
   "cell_type": "code",
   "execution_count": 15,
   "metadata": {
    "id": "_Y-jNseQMNcf"
   },
   "outputs": [],
   "source": [
    "# prepare data augmentation configuration\n",
    "train_datagen = ImageDataGenerator(\n",
    "    rescale=1. / 255,\n",
    "    shear_range=0.1,\n",
    "    zoom_range=0.1,\n",
    "    horizontal_flip=True)"
   ]
  },
  {
   "cell_type": "code",
   "execution_count": 16,
   "metadata": {
    "id": "mHPmLOf-N3SQ"
   },
   "outputs": [],
   "source": [
    "train_datagen.fit(X_train)\n",
    "train_generator = train_datagen.flow(X_train,\n",
    "                                     Y_train, \n",
    "                                     batch_size=BATCH_SIZE)"
   ]
  },
  {
   "cell_type": "code",
   "execution_count": 17,
   "metadata": {
    "id": "JSIJycdbrBWK"
   },
   "outputs": [],
   "source": [
    "val_datagen = ImageDataGenerator(rescale=1. / 255,\n",
    "    horizontal_flip=False)\n",
    "\n",
    "val_datagen.fit(X_val)\n",
    "val_generator = val_datagen.flow(X_val,\n",
    "                                 Y_val,\n",
    "                                 batch_size=BATCH_SIZE)"
   ]
  },
  {
   "cell_type": "markdown",
   "metadata": {
    "id": "6tvCQBnf44r_"
   },
   "source": [
    "## Train the Model"
   ]
  },
  {
   "cell_type": "code",
   "execution_count": 20,
   "metadata": {
    "colab": {
     "base_uri": "https://localhost:8080/",
     "height": 1000
    },
    "id": "upzna-SWcdVK",
    "outputId": "83acba79-fd9b-4210-a9e4-5c9d63bc0f24",
    "scrolled": false
   },
   "outputs": [
    {
     "name": "stdout",
     "output_type": "stream",
     "text": [
      "Epoch 1/40\n",
      "1328/1328 [==============================] - 34s 26ms/step - loss: 0.0972 - accuracy: 0.8015 - val_loss: 0.1078 - val_accuracy: 0.7738\n",
      "Epoch 2/40\n",
      "1328/1328 [==============================] - 34s 25ms/step - loss: 0.0962 - accuracy: 0.8016 - val_loss: 0.1082 - val_accuracy: 0.7744\n",
      "Epoch 3/40\n",
      "1328/1328 [==============================] - 33s 25ms/step - loss: 0.0965 - accuracy: 0.8002 - val_loss: 0.1075 - val_accuracy: 0.7738\n",
      "Epoch 4/40\n",
      "1328/1328 [==============================] - 33s 25ms/step - loss: 0.0961 - accuracy: 0.8034 - val_loss: 0.1075 - val_accuracy: 0.7758\n",
      "Epoch 5/40\n",
      "1328/1328 [==============================] - 32s 24ms/step - loss: 0.0956 - accuracy: 0.8023 - val_loss: 0.1069 - val_accuracy: 0.7784\n",
      "Epoch 6/40\n",
      "1328/1328 [==============================] - 32s 24ms/step - loss: 0.0958 - accuracy: 0.8032 - val_loss: 0.1080 - val_accuracy: 0.7731\n",
      "Epoch 7/40\n",
      "1328/1328 [==============================] - 32s 24ms/step - loss: 0.0947 - accuracy: 0.8047 - val_loss: 0.1074 - val_accuracy: 0.7763\n",
      "Epoch 8/40\n",
      "1328/1328 [==============================] - 33s 25ms/step - loss: 0.0954 - accuracy: 0.8033 - val_loss: 0.1063 - val_accuracy: 0.7780\n",
      "Epoch 9/40\n",
      "1328/1328 [==============================] - 33s 25ms/step - loss: 0.0950 - accuracy: 0.8030 - val_loss: 0.1073 - val_accuracy: 0.7778\n",
      "Epoch 10/40\n",
      "1328/1328 [==============================] - 32s 24ms/step - loss: 0.0952 - accuracy: 0.8039 - val_loss: 0.1072 - val_accuracy: 0.7742\n",
      "Epoch 11/40\n",
      "1328/1328 [==============================] - 32s 24ms/step - loss: 0.0952 - accuracy: 0.8049 - val_loss: 0.1073 - val_accuracy: 0.7775\n",
      "Epoch 12/40\n",
      "1328/1328 [==============================] - 32s 24ms/step - loss: 0.0943 - accuracy: 0.8044 - val_loss: 0.1075 - val_accuracy: 0.7780\n",
      "Epoch 13/40\n",
      "1328/1328 [==============================] - 32s 24ms/step - loss: 0.0934 - accuracy: 0.8075 - val_loss: 0.1070 - val_accuracy: 0.7779\n",
      "Epoch 14/40\n",
      "1328/1328 [==============================] - 32s 24ms/step - loss: 0.0932 - accuracy: 0.8090 - val_loss: 0.1076 - val_accuracy: 0.7759\n",
      "Epoch 15/40\n",
      "1328/1328 [==============================] - 32s 24ms/step - loss: 0.0942 - accuracy: 0.8037 - val_loss: 0.1069 - val_accuracy: 0.7795\n",
      "Epoch 16/40\n",
      "1328/1328 [==============================] - 32s 24ms/step - loss: 0.0926 - accuracy: 0.8103 - val_loss: 0.1074 - val_accuracy: 0.7772\n",
      "Epoch 17/40\n",
      "1328/1328 [==============================] - 32s 24ms/step - loss: 0.0926 - accuracy: 0.8093 - val_loss: 0.1080 - val_accuracy: 0.7780\n",
      "Epoch 18/40\n",
      "1328/1328 [==============================] - 32s 24ms/step - loss: 0.0923 - accuracy: 0.8086 - val_loss: 0.1074 - val_accuracy: 0.7735\n",
      "Epoch 19/40\n",
      "1328/1328 [==============================] - 32s 24ms/step - loss: 0.0921 - accuracy: 0.8110 - val_loss: 0.1082 - val_accuracy: 0.7751\n",
      "Epoch 20/40\n",
      "1328/1328 [==============================] - 32s 24ms/step - loss: 0.0916 - accuracy: 0.8121 - val_loss: 0.1074 - val_accuracy: 0.7784\n",
      "Epoch 21/40\n",
      "1328/1328 [==============================] - 32s 24ms/step - loss: 0.0920 - accuracy: 0.8123 - val_loss: 0.1085 - val_accuracy: 0.7746\n",
      "Epoch 22/40\n",
      "1328/1328 [==============================] - 32s 24ms/step - loss: 0.0907 - accuracy: 0.8117 - val_loss: 0.1070 - val_accuracy: 0.7804\n",
      "Epoch 23/40\n",
      "1328/1328 [==============================] - 32s 24ms/step - loss: 0.0915 - accuracy: 0.8102 - val_loss: 0.1082 - val_accuracy: 0.7768\n",
      "Epoch 24/40\n",
      "1328/1328 [==============================] - 32s 24ms/step - loss: 0.0906 - accuracy: 0.8130 - val_loss: 0.1085 - val_accuracy: 0.7727\n",
      "Epoch 25/40\n",
      "1328/1328 [==============================] - 32s 24ms/step - loss: 0.0912 - accuracy: 0.8120 - val_loss: 0.1084 - val_accuracy: 0.7766\n",
      "Epoch 26/40\n",
      "1328/1328 [==============================] - 32s 24ms/step - loss: 0.0900 - accuracy: 0.8137 - val_loss: 0.1096 - val_accuracy: 0.7728\n",
      "Epoch 27/40\n",
      "1328/1328 [==============================] - 32s 24ms/step - loss: 0.0898 - accuracy: 0.8150 - val_loss: 0.1090 - val_accuracy: 0.7772\n",
      "Epoch 28/40\n",
      "1328/1328 [==============================] - 32s 24ms/step - loss: 0.0903 - accuracy: 0.8126 - val_loss: 0.1079 - val_accuracy: 0.7796\n",
      "Epoch 29/40\n",
      "1328/1328 [==============================] - 32s 24ms/step - loss: 0.0892 - accuracy: 0.8167 - val_loss: 0.1085 - val_accuracy: 0.7780\n",
      "Epoch 30/40\n",
      "1328/1328 [==============================] - 31s 24ms/step - loss: 0.0902 - accuracy: 0.8144 - val_loss: 0.1086 - val_accuracy: 0.7768\n",
      "Epoch 31/40\n",
      "1328/1328 [==============================] - 32s 24ms/step - loss: 0.0901 - accuracy: 0.8144 - val_loss: 0.1096 - val_accuracy: 0.7775\n",
      "Epoch 32/40\n",
      "1328/1328 [==============================] - 32s 24ms/step - loss: 0.0897 - accuracy: 0.8162 - val_loss: 0.1083 - val_accuracy: 0.7810\n",
      "Epoch 33/40\n",
      "1328/1328 [==============================] - 32s 24ms/step - loss: 0.0888 - accuracy: 0.8177 - val_loss: 0.1096 - val_accuracy: 0.7740\n",
      "Epoch 34/40\n",
      "1328/1328 [==============================] - 34s 25ms/step - loss: 0.0881 - accuracy: 0.8197 - val_loss: 0.1094 - val_accuracy: 0.7787\n",
      "Epoch 35/40\n",
      "1328/1328 [==============================] - 33s 25ms/step - loss: 0.0889 - accuracy: 0.8161 - val_loss: 0.1102 - val_accuracy: 0.7711\n",
      "Epoch 36/40\n",
      "1328/1328 [==============================] - 33s 25ms/step - loss: 0.0881 - accuracy: 0.8183 - val_loss: 0.1089 - val_accuracy: 0.7794\n",
      "Epoch 37/40\n",
      "1328/1328 [==============================] - 33s 25ms/step - loss: 0.0878 - accuracy: 0.8194 - val_loss: 0.1085 - val_accuracy: 0.7778\n",
      "Epoch 38/40\n",
      "1328/1328 [==============================] - 32s 24ms/step - loss: 0.0881 - accuracy: 0.8212 - val_loss: 0.1086 - val_accuracy: 0.7783\n",
      "Epoch 39/40\n",
      "1328/1328 [==============================] - 32s 24ms/step - loss: 0.0871 - accuracy: 0.8215 - val_loss: 0.1094 - val_accuracy: 0.7787\n",
      "Epoch 40/40\n",
      "1328/1328 [==============================] - 32s 24ms/step - loss: 0.0877 - accuracy: 0.8176 - val_loss: 0.1101 - val_accuracy: 0.7746\n"
     ]
    }
   ],
   "source": [
    "train_steps_per_epoch = X_train.shape[0] // BATCH_SIZE\n",
    "val_steps_per_epoch = X_val.shape[0] // BATCH_SIZE\n",
    "\n",
    "history = model.fit_generator(train_generator,\n",
    "                              steps_per_epoch=train_steps_per_epoch,\n",
    "                              validation_data=val_generator,\n",
    "                              validation_steps=val_steps_per_epoch,\n",
    "                              epochs=EPOCHS,\n",
    "                              verbose=1)"
   ]
  },
  {
   "cell_type": "code",
   "execution_count": 22,
   "metadata": {
    "colab": {
     "base_uri": "https://localhost:8080/",
     "height": 34
    },
    "id": "53hxJtsAtDFM",
    "outputId": "e476f2f7-b49c-4aad-e1b1-e0397fee600c"
   },
   "outputs": [
    {
     "name": "stdout",
     "output_type": "stream",
     "text": [
      "INFO:tensorflow:Assets written to: saved_model/CIFAR_TF/assets\n"
     ]
    }
   ],
   "source": [
    "# !mkdir -p saved_model\n",
    "# model.save('saved_model/CIFAR_TF',save_format='tf') # Save as 'tf' to retrain the model later with same optimizers and parameters\n",
    "\n",
    "# # loading the saved model\n",
    "# loaded_model = tf.keras.models.load_model('./MyModel_tf')"
   ]
  },
  {
   "cell_type": "markdown",
   "metadata": {
    "id": "cJx8k75K44sC"
   },
   "source": [
    "## Analyze Model Performance"
   ]
  },
  {
   "cell_type": "code",
   "execution_count": 24,
   "metadata": {
    "colab": {
     "base_uri": "https://localhost:8080/",
     "height": 378
    },
    "id": "ucbrAJdAerCe",
    "outputId": "a75becd5-1749-4aba-9061-063729229f6b"
   },
   "outputs": [
    {
     "data": {
      "image/png": "[encoded data removed]",
      "text/plain": [
       "<Figure size 1080x360 with 2 Axes>"
      ]
     },
     "metadata": {
      "needs_background": "light",
      "tags": []
     },
     "output_type": "display_data"
    }
   ],
   "source": [
    "f, (ax1, ax2) = plt.subplots(1, 2, figsize=(15, 5))\n",
    "t = f.suptitle('Deep Neural Net Performance', fontsize=12)\n",
    "f.subplots_adjust(top=0.85, wspace=0.3)\n",
    "\n",
    "epochs = list(range(1,EPOCHS+1))\n",
    "ax1.plot(epochs, history.history['accuracy'], label='Train Accuracy')\n",
    "ax1.plot(epochs, history.history['val_accuracy'], label='Validation Accuracy')\n",
    "ax1.set_xticks(epochs)\n",
    "ax1.set_ylabel('Accuracy Value')\n",
    "ax1.set_xlabel('Epoch')\n",
    "ax1.set_title('Accuracy')\n",
    "l1 = ax1.legend(loc=\"best\")\n",
    "\n",
    "ax2.plot(epochs, history.history['loss'], label='Train Loss')\n",
    "ax2.plot(epochs, history.history['val_loss'], label='Validation Loss')\n",
    "ax2.set_xticks(epochs)\n",
    "ax2.set_ylabel('Loss Value')\n",
    "ax2.set_xlabel('Epoch')\n",
    "ax2.set_title('Loss')\n",
    "l2 = ax2.legend(loc=\"best\")"
   ]
  },
  {
   "cell_type": "code",
   "execution_count": 25,
   "metadata": {
    "id": "6O7_wTjerlCJ"
   },
   "outputs": [],
   "source": [
    "predictions = model.predict(X_test/255.)"
   ]
  },
  {
   "cell_type": "code",
   "execution_count": 26,
   "metadata": {
    "id": "-kXS6GcHrhP0"
   },
   "outputs": [],
   "source": [
    "test_labels = list(y_test.squeeze())\n",
    "predictions = list(predictions.argmax(axis=1))"
   ]
  },
  {
   "cell_type": "code",
   "execution_count": 32,
   "metadata": {
    "colab": {
     "base_uri": "https://localhost:8080/",
     "height": 85
    },
    "id": "lQ9T1O9vrdyI",
    "outputId": "c9c473a2-9d45-4aee-8ae9-f2046fc42da5"
   },
   "outputs": [
    {
     "name": "stdout",
     "output_type": "stream",
     "text": [
      "Accuracy: 0.7799\n",
      "Precision: 0.7783\n",
      "Recall: 0.7799\n",
      "F1 Score: 0.7782\n"
     ]
    }
   ],
   "source": [
    "get_metrics(true_labels=y_test, \n",
    "                predicted_labels=predictions)"
   ]
  },
  {
   "cell_type": "code",
   "execution_count": 38,
   "metadata": {
    "id": "gFZVsFfqlvB8"
   },
   "outputs": [],
   "source": []
  },
  {
   "cell_type": "code",
   "execution_count": 38,
   "metadata": {
    "id": "k3-emlisvhMJ"
   },
   "outputs": [],
   "source": []
  },
  {
   "cell_type": "code",
   "execution_count": 38,
   "metadata": {
    "id": "rif6upwPwvKb"
   },
   "outputs": [],
   "source": []
  },
  {
   "cell_type": "code",
   "execution_count": null,
   "metadata": {
    "id": "33zRMP-rwzFt"
   },
   "outputs": [],
   "source": []
  }
 ],
 "metadata": {
  "accelerator": "GPU",
  "colab": {
   "collapsed_sections": [],
   "name": "Copy of cifar10_vgg16_july12.ipynb",
   "provenance": []
  },
  "kernelspec": {
   "display_name": "Python 3",
   "language": "python",
   "name": "python3"
  },
  "language_info": {
   "codemirror_mode": {
    "name": "ipython",
    "version": 3
   },
   "file_extension": ".py",
   "mimetype": "text/x-python",
   "name": "python",
   "nbconvert_exporter": "python",
   "pygments_lexer": "ipython3",
   "version": "3.8.3"
  }
 },
 "nbformat": 4,
 "nbformat_minor": 1
}
